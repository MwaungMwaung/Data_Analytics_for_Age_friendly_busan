{
 "cells": [
  {
   "cell_type": "code",
   "execution_count": 26,
   "metadata": {},
   "outputs": [
    {
     "name": "stdout",
     "output_type": "stream",
     "text": [
      "Requirement already satisfied: pyproj in c:\\users\\gymdo\\appdata\\local\\packages\\pythonsoftwarefoundation.python.3.10_qbz5n2kfra8p0\\localcache\\local-packages\\python310\\site-packages (3.3.1)\n",
      "Requirement already satisfied: certifi in c:\\users\\gymdo\\appdata\\local\\packages\\pythonsoftwarefoundation.python.3.10_qbz5n2kfra8p0\\localcache\\local-packages\\python310\\site-packages (from pyproj) (2021.10.8)\n"
     ]
    },
    {
     "name": "stderr",
     "output_type": "stream",
     "text": [
      "WARNING: You are using pip version 22.0.4; however, version 22.1.1 is available.\n",
      "You should consider upgrading via the 'C:\\Users\\gymdo\\AppData\\Local\\Microsoft\\WindowsApps\\PythonSoftwareFoundation.Python.3.10_qbz5n2kfra8p0\\python.exe -m pip install --upgrade pip' command.\n"
     ]
    },
    {
     "ename": "ModuleNotFoundError",
     "evalue": "No module named 'pyproj'",
     "output_type": "error",
     "traceback": [
      "\u001b[1;31m---------------------------------------------------------------------------\u001b[0m",
      "\u001b[1;31mModuleNotFoundError\u001b[0m                       Traceback (most recent call last)",
      "\u001b[1;32mc:\\Users\\gymdo\\OneDrive\\Desktop\\afp\\Data_Analytics_for_Age_friendly_busan\\fol.ipynb Cell 1'\u001b[0m in \u001b[0;36m<cell line: 5>\u001b[1;34m()\u001b[0m\n\u001b[0;32m      <a href='vscode-notebook-cell:/c%3A/Users/gymdo/OneDrive/Desktop/afp/Data_Analytics_for_Age_friendly_busan/fol.ipynb#ch0000000?line=2'>3</a>\u001b[0m \u001b[39mfrom\u001b[39;00m \u001b[39mfolium\u001b[39;00m\u001b[39m.\u001b[39;00m\u001b[39mplugins\u001b[39;00m \u001b[39mimport\u001b[39;00m MarkerCluster \n\u001b[0;32m      <a href='vscode-notebook-cell:/c%3A/Users/gymdo/OneDrive/Desktop/afp/Data_Analytics_for_Age_friendly_busan/fol.ipynb#ch0000000?line=3'>4</a>\u001b[0m get_ipython()\u001b[39m.\u001b[39msystem(\u001b[39m'\u001b[39m\u001b[39mpip install pyproj\u001b[39m\u001b[39m'\u001b[39m)\n\u001b[1;32m----> <a href='vscode-notebook-cell:/c%3A/Users/gymdo/OneDrive/Desktop/afp/Data_Analytics_for_Age_friendly_busan/fol.ipynb#ch0000000?line=4'>5</a>\u001b[0m \u001b[39mfrom\u001b[39;00m \u001b[39mpyproj\u001b[39;00m \u001b[39mimport\u001b[39;00m Porj,transform\n",
      "\u001b[1;31mModuleNotFoundError\u001b[0m: No module named 'pyproj'"
     ]
    }
   ],
   "source": [
    "import folium\n",
    "import pandas as pd\n",
    "from folium.plugins import MarkerCluster \n",
    "from pyproj import Porj,transform\n",
    "#패키지 import"
   ]
  },
  {
   "cell_type": "code",
   "execution_count": 16,
   "metadata": {},
   "outputs": [
    {
     "name": "stdout",
     "output_type": "stream",
     "text": [
      "           위도          경도      의료기관명\n",
      "27  35.321839  129.244334  동남권원자력의학원\n"
     ]
    }
   ],
   "source": [
    "df = pd.read_csv('./data/편의시설/부산광역시_종합병원 현황_20211231.csv'\n",
    ", encoding='UTF-8') #부산 경로당 현황 읽어오기 \n",
    "hos_sub_df = df[df['도로명주소'].str.contains('기장군')]#관리기관명이 기장군인 것만 자름\n",
    "print(hos_sub_df[['위도','경도','의료기관명']])\n"
   ]
  },
  {
   "cell_type": "code",
   "execution_count": 24,
   "metadata": {},
   "outputs": [
    {
     "name": "stdout",
     "output_type": "stream",
     "text": [
      "             좌표정보(x)        좌표정보(y)\n",
      "0                NaN            NaN\n",
      "1      193786.830157  185954.519436\n",
      "2      194075.244057  184984.418601\n",
      "3      193146.400498  186088.106546\n",
      "4      194270.107173  184985.278274\n",
      "...              ...            ...\n",
      "65228  198055.210073  451729.379050\n",
      "65229  244684.789281  345008.277824\n",
      "65230  286530.401496  425229.266367\n",
      "65231  169654.615993  407951.221769\n",
      "65232  217889.983260  464525.772770\n",
      "\n",
      "[65233 rows x 2 columns]\n"
     ]
    },
    {
     "name": "stderr",
     "output_type": "stream",
     "text": [
      "C:\\Users\\gymdo\\AppData\\Local\\Temp\\ipykernel_16036\\3074028986.py:1: DtypeWarning: Columns (5,29) have mixed types. Specify dtype option on import or set low_memory=False.\n",
      "  df = pd.read_csv('./data/편의시설/fulldata_01_01_06_P_약국.csv'\n"
     ]
    }
   ],
   "source": [
    "df = pd.read_csv('./data/편의시설/fulldata_01_01_06_P_약국.csv'\n",
    ", encoding='ANSI') #부산 경로당 현황 읽어오기 \n",
    "df.head(3)\n",
    "pha_sub_df = df[df['소재지전체주소'].str.contains('기장군')]#관리기관명이 기장군인 것만 자름\n",
    "print(df[['좌표정보(x)','좌표정보(y)']])\n"
   ]
  },
  {
   "cell_type": "code",
   "execution_count": 17,
   "metadata": {},
   "outputs": [
    {
     "data": {
      "text/html": [
       "<div style=\"width:100%;\"><div style=\"position:relative;width:100%;height:0;padding-bottom:60%;\"><span style=\"color:#565656\">Make this Notebook Trusted to load map: File -> Trust Notebook</span><iframe srcdoc=\"&lt;!DOCTYPE html&gt;\n",
       "&lt;head&gt;    \n",
       "    &lt;meta http-equiv=&quot;content-type&quot; content=&quot;text/html; charset=UTF-8&quot; /&gt;\n",
       "    \n",
       "        &lt;script&gt;\n",
       "            L_NO_TOUCH = false;\n",
       "            L_DISABLE_3D = false;\n",
       "        &lt;/script&gt;\n",
       "    \n",
       "    &lt;style&gt;html, body {width: 100%;height: 100%;margin: 0;padding: 0;}&lt;/style&gt;\n",
       "    &lt;style&gt;#map {position:absolute;top:0;bottom:0;right:0;left:0;}&lt;/style&gt;\n",
       "    &lt;script src=&quot;https://cdn.jsdelivr.net/npm/leaflet@1.6.0/dist/leaflet.js&quot;&gt;&lt;/script&gt;\n",
       "    &lt;script src=&quot;https://code.jquery.com/jquery-1.12.4.min.js&quot;&gt;&lt;/script&gt;\n",
       "    &lt;script src=&quot;https://maxcdn.bootstrapcdn.com/bootstrap/3.2.0/js/bootstrap.min.js&quot;&gt;&lt;/script&gt;\n",
       "    &lt;script src=&quot;https://cdnjs.cloudflare.com/ajax/libs/Leaflet.awesome-markers/2.0.2/leaflet.awesome-markers.js&quot;&gt;&lt;/script&gt;\n",
       "    &lt;link rel=&quot;stylesheet&quot; href=&quot;https://cdn.jsdelivr.net/npm/leaflet@1.6.0/dist/leaflet.css&quot;/&gt;\n",
       "    &lt;link rel=&quot;stylesheet&quot; href=&quot;https://maxcdn.bootstrapcdn.com/bootstrap/3.2.0/css/bootstrap.min.css&quot;/&gt;\n",
       "    &lt;link rel=&quot;stylesheet&quot; href=&quot;https://maxcdn.bootstrapcdn.com/bootstrap/3.2.0/css/bootstrap-theme.min.css&quot;/&gt;\n",
       "    &lt;link rel=&quot;stylesheet&quot; href=&quot;https://maxcdn.bootstrapcdn.com/font-awesome/4.6.3/css/font-awesome.min.css&quot;/&gt;\n",
       "    &lt;link rel=&quot;stylesheet&quot; href=&quot;https://cdnjs.cloudflare.com/ajax/libs/Leaflet.awesome-markers/2.0.2/leaflet.awesome-markers.css&quot;/&gt;\n",
       "    &lt;link rel=&quot;stylesheet&quot; href=&quot;https://cdn.jsdelivr.net/gh/python-visualization/folium/folium/templates/leaflet.awesome.rotate.min.css&quot;/&gt;\n",
       "    \n",
       "            &lt;meta name=&quot;viewport&quot; content=&quot;width=device-width,\n",
       "                initial-scale=1.0, maximum-scale=1.0, user-scalable=no&quot; /&gt;\n",
       "            &lt;style&gt;\n",
       "                #map_b3acbbfd57c119fc163d61f1e2e78905 {\n",
       "                    position: relative;\n",
       "                    width: 750.0px;\n",
       "                    height: 500.0px;\n",
       "                    left: 0.0%;\n",
       "                    top: 0.0%;\n",
       "                }\n",
       "            &lt;/style&gt;\n",
       "        \n",
       "    &lt;script src=&quot;https://cdnjs.cloudflare.com/ajax/libs/leaflet.markercluster/1.1.0/leaflet.markercluster.js&quot;&gt;&lt;/script&gt;\n",
       "    &lt;link rel=&quot;stylesheet&quot; href=&quot;https://cdnjs.cloudflare.com/ajax/libs/leaflet.markercluster/1.1.0/MarkerCluster.css&quot;/&gt;\n",
       "    &lt;link rel=&quot;stylesheet&quot; href=&quot;https://cdnjs.cloudflare.com/ajax/libs/leaflet.markercluster/1.1.0/MarkerCluster.Default.css&quot;/&gt;\n",
       "&lt;/head&gt;\n",
       "&lt;body&gt;    \n",
       "    \n",
       "            &lt;div class=&quot;folium-map&quot; id=&quot;map_b3acbbfd57c119fc163d61f1e2e78905&quot; &gt;&lt;/div&gt;\n",
       "        \n",
       "&lt;/body&gt;\n",
       "&lt;script&gt;    \n",
       "    \n",
       "            var map_b3acbbfd57c119fc163d61f1e2e78905 = L.map(\n",
       "                &quot;map_b3acbbfd57c119fc163d61f1e2e78905&quot;,\n",
       "                {\n",
       "                    center: [35.23876594878238, 129.21575390899562],\n",
       "                    crs: L.CRS.EPSG3857,\n",
       "                    zoom: 17,\n",
       "                    zoomControl: true,\n",
       "                    preferCanvas: false,\n",
       "                }\n",
       "            );\n",
       "\n",
       "            \n",
       "\n",
       "        \n",
       "    \n",
       "            var tile_layer_f68e9c7d5757b9714c152efa6e5e77c0 = L.tileLayer(\n",
       "                &quot;https://{s}.tile.openstreetmap.org/{z}/{x}/{y}.png&quot;,\n",
       "                {&quot;attribution&quot;: &quot;Data by \\u0026copy; \\u003ca href=\\&quot;http://openstreetmap.org\\&quot;\\u003eOpenStreetMap\\u003c/a\\u003e, under \\u003ca href=\\&quot;http://www.openstreetmap.org/copyright\\&quot;\\u003eODbL\\u003c/a\\u003e.&quot;, &quot;detectRetina&quot;: false, &quot;maxNativeZoom&quot;: 18, &quot;maxZoom&quot;: 18, &quot;minZoom&quot;: 0, &quot;noWrap&quot;: false, &quot;opacity&quot;: 1, &quot;subdomains&quot;: &quot;abc&quot;, &quot;tms&quot;: false}\n",
       "            ).addTo(map_b3acbbfd57c119fc163d61f1e2e78905);\n",
       "        \n",
       "    \n",
       "            var marker_cluster_cd66a7bfb78a40c7a846ead2a6877939 = L.markerClusterGroup(\n",
       "                {}\n",
       "            );\n",
       "            map_b3acbbfd57c119fc163d61f1e2e78905.addLayer(marker_cluster_cd66a7bfb78a40c7a846ead2a6877939);\n",
       "        \n",
       "    \n",
       "            var marker_73dbf6a4bfbf8a1a02ec355b97b10f30 = L.marker(\n",
       "                [35.32183895, 129.2443344],\n",
       "                {}\n",
       "            ).addTo(marker_cluster_cd66a7bfb78a40c7a846ead2a6877939);\n",
       "        \n",
       "    \n",
       "            var icon_42c0fa983565ac291d3188bbcdd8ded2 = L.AwesomeMarkers.icon(\n",
       "                {&quot;extraClasses&quot;: &quot;fa-rotate-0&quot;, &quot;icon&quot;: &quot;info-sign&quot;, &quot;iconColor&quot;: &quot;white&quot;, &quot;markerColor&quot;: &quot;green&quot;, &quot;prefix&quot;: &quot;glyphicon&quot;}\n",
       "            );\n",
       "            marker_73dbf6a4bfbf8a1a02ec355b97b10f30.setIcon(icon_42c0fa983565ac291d3188bbcdd8ded2);\n",
       "        \n",
       "    \n",
       "            marker_73dbf6a4bfbf8a1a02ec355b97b10f30.bindTooltip(\n",
       "                `&lt;div&gt;\n",
       "                     동남권원자력의학원\n",
       "                 &lt;/div&gt;`,\n",
       "                {&quot;sticky&quot;: true}\n",
       "            );\n",
       "        \n",
       "&lt;/script&gt;\" style=\"position:absolute;width:100%;height:100%;left:0;top:0;border:none !important;\" allowfullscreen webkitallowfullscreen mozallowfullscreen></iframe></div></div>"
      ],
      "text/plain": [
       "<folium.folium.Map at 0x28838e57d30>"
      ]
     },
     "execution_count": 17,
     "metadata": {},
     "output_type": "execute_result"
    }
   ],
   "source": [
    "kizang_pos= [35.23876594878238, 129.21575390899562] ## 기장읍 사무소\n",
    "m = folium.Map(location=kizang_pos, zoom_start=17,width=750, \n",
    "               height=500)#지도 17의 줌으로 생성\n",
    "coords = hos_sub_df[['위도','경도','의료기관명']]#자료에서 위도, 경도, 경로당명 가져와서\n",
    "hos_marker_cluster = MarkerCluster().add_to(m)#MarkerCluster을 지도에 추가하고\n",
    "for lat,long,tool in zip(coords['위도'],coords['경도'],coords['의료기관명']):#lat, long, tool을 이터레이터로 만들어서\n",
    "    folium.Marker([lat,long],icon=folium.Icon(color='green'),tooltip=tool).add_to(hos_marker_cluster)#초록색 마커로 마우스 갖다대면 이름 보이게 표시\n",
    "m\n"
   ]
  },
  {
   "cell_type": "code",
   "execution_count": null,
   "metadata": {},
   "outputs": [],
   "source": []
  }
 ],
 "metadata": {
  "interpreter": {
   "hash": "d27601c4c19faa8f3cac8b671a2549351dafb110fe23e9ab97f23d107bef6d5e"
  },
  "kernelspec": {
   "display_name": "Python 3.9.0 64-bit",
   "language": "python",
   "name": "python3"
  },
  "language_info": {
   "codemirror_mode": {
    "name": "ipython",
    "version": 3
   },
   "file_extension": ".py",
   "mimetype": "text/x-python",
   "name": "python",
   "nbconvert_exporter": "python",
   "pygments_lexer": "ipython3",
   "version": "3.9.7"
  },
  "orig_nbformat": 4
 },
 "nbformat": 4,
 "nbformat_minor": 2
}
