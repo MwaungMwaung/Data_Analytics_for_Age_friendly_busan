{
 "cells": [
  {
   "cell_type": "code",
   "execution_count": 1,
   "metadata": {},
   "outputs": [],
   "source": [
    "import folium\n",
    "import pandas as pd\n",
    "from folium.plugins import MarkerCluster \n",
    "#패키지 import"
   ]
  },
  {
   "cell_type": "code",
   "execution_count": 36,
   "metadata": {},
   "outputs": [
    {
     "name": "stdout",
     "output_type": "stream",
     "text": [
      "                                     소재지전체주소\n",
      "0                      서울특별시 용산구 한남1동 263-15\n",
      "1                          광주광역시북구두암2동 850-8\n",
      "2                      광주광역시 북구 두암동 968번지 1호\n",
      "3                   광주광역시 북구 우산동 207번지 3호 1층\n",
      "4      광주광역시 북구 두암동 969번지 5호 모아미래도아파트상가 103호\n",
      "...                                      ...\n",
      "65228                 서울특별시 중구  45번지 코오롱아케이드\n",
      "65229                 충청북도 청주시 상당구 방서동 227-4\n",
      "65230                     강원도 원주시 반곡동 1860-5\n",
      "65231                                    NaN\n",
      "65232                 경기도 남양주시 오남읍 오남리 569-9\n",
      "\n",
      "[65233 rows x 1 columns]\n"
     ]
    },
    {
     "name": "stderr",
     "output_type": "stream",
     "text": [
      "C:\\Users\\gymdo\\AppData\\Local\\Temp\\ipykernel_2924\\3960285235.py:4: UserWarning: Boolean Series key will be reindexed to match DataFrame index.\n",
      "  sub_df = df[(df['소재지전체주소'][0:5]=='부산광역시')]#관리기관명이 기장군인 것만 자름\n"
     ]
    },
    {
     "ename": "IndexingError",
     "evalue": "Unalignable boolean Series provided as indexer (index of the boolean Series and of the indexed object do not match).",
     "output_type": "error",
     "traceback": [
      "\u001b[1;31m---------------------------------------------------------------------------\u001b[0m",
      "\u001b[1;31mIndexingError\u001b[0m                             Traceback (most recent call last)",
      "\u001b[1;32mc:\\Users\\gymdo\\Desktop\\ossBUSAN\\Data_Analytics_for_Age_friendly_busan\\fol.ipynb Cell 2'\u001b[0m in \u001b[0;36m<cell line: 4>\u001b[1;34m()\u001b[0m\n\u001b[0;32m      <a href='vscode-notebook-cell:/c%3A/Users/gymdo/Desktop/ossBUSAN/Data_Analytics_for_Age_friendly_busan/fol.ipynb#ch0000001?line=0'>1</a>\u001b[0m df \u001b[39m=\u001b[39m pd\u001b[39m.\u001b[39mread_csv(\u001b[39m'\u001b[39m\u001b[39m./data/편의시설/fulldata_01_01_06_P_약국.csv\u001b[39m\u001b[39m'\u001b[39m\n\u001b[0;32m      <a href='vscode-notebook-cell:/c%3A/Users/gymdo/Desktop/ossBUSAN/Data_Analytics_for_Age_friendly_busan/fol.ipynb#ch0000001?line=1'>2</a>\u001b[0m , encoding\u001b[39m=\u001b[39m\u001b[39m'\u001b[39m\u001b[39mcp949\u001b[39m\u001b[39m'\u001b[39m) \u001b[39m#부산 경로당 현황 읽어오기 \u001b[39;00m\n\u001b[0;32m      <a href='vscode-notebook-cell:/c%3A/Users/gymdo/Desktop/ossBUSAN/Data_Analytics_for_Age_friendly_busan/fol.ipynb#ch0000001?line=2'>3</a>\u001b[0m \u001b[39mprint\u001b[39m(df\u001b[39m.\u001b[39mloc[:,[\u001b[39m'\u001b[39m\u001b[39m소재지전체주소\u001b[39m\u001b[39m'\u001b[39m]])\n\u001b[1;32m----> <a href='vscode-notebook-cell:/c%3A/Users/gymdo/Desktop/ossBUSAN/Data_Analytics_for_Age_friendly_busan/fol.ipynb#ch0000001?line=3'>4</a>\u001b[0m sub_df \u001b[39m=\u001b[39m df[(df[\u001b[39m'\u001b[39;49m\u001b[39m소재지전체주소\u001b[39;49m\u001b[39m'\u001b[39;49m][\u001b[39m0\u001b[39;49m:\u001b[39m5\u001b[39;49m]\u001b[39m==\u001b[39;49m\u001b[39m'\u001b[39;49m\u001b[39m부산광역시\u001b[39;49m\u001b[39m'\u001b[39;49m)]\u001b[39m#관리기관명이 기장군인 것만 자름\u001b[39;00m\n\u001b[0;32m      <a href='vscode-notebook-cell:/c%3A/Users/gymdo/Desktop/ossBUSAN/Data_Analytics_for_Age_friendly_busan/fol.ipynb#ch0000001?line=4'>5</a>\u001b[0m subData\u001b[39m=\u001b[39mdf[\u001b[39m'\u001b[39m\u001b[39m소재지전체주소\u001b[39m\u001b[39m'\u001b[39m]\n\u001b[0;32m      <a href='vscode-notebook-cell:/c%3A/Users/gymdo/Desktop/ossBUSAN/Data_Analytics_for_Age_friendly_busan/fol.ipynb#ch0000001?line=5'>6</a>\u001b[0m \u001b[39mfor\u001b[39;00m sd \u001b[39min\u001b[39;00m sub_df:\n",
      "File \u001b[1;32mc:\\Users\\gymdo\\AppData\\Local\\Programs\\Python\\Python39\\lib\\site-packages\\pandas\\core\\frame.py:3449\u001b[0m, in \u001b[0;36mDataFrame.__getitem__\u001b[1;34m(self, key)\u001b[0m\n\u001b[0;32m   <a href='file:///c%3A/Users/gymdo/AppData/Local/Programs/Python/Python39/lib/site-packages/pandas/core/frame.py?line=3446'>3447</a>\u001b[0m \u001b[39m# Do we have a (boolean) 1d indexer?\u001b[39;00m\n\u001b[0;32m   <a href='file:///c%3A/Users/gymdo/AppData/Local/Programs/Python/Python39/lib/site-packages/pandas/core/frame.py?line=3447'>3448</a>\u001b[0m \u001b[39mif\u001b[39;00m com\u001b[39m.\u001b[39mis_bool_indexer(key):\n\u001b[1;32m-> <a href='file:///c%3A/Users/gymdo/AppData/Local/Programs/Python/Python39/lib/site-packages/pandas/core/frame.py?line=3448'>3449</a>\u001b[0m     \u001b[39mreturn\u001b[39;00m \u001b[39mself\u001b[39;49m\u001b[39m.\u001b[39;49m_getitem_bool_array(key)\n\u001b[0;32m   <a href='file:///c%3A/Users/gymdo/AppData/Local/Programs/Python/Python39/lib/site-packages/pandas/core/frame.py?line=3450'>3451</a>\u001b[0m \u001b[39m# We are left with two options: a single key, and a collection of keys,\u001b[39;00m\n\u001b[0;32m   <a href='file:///c%3A/Users/gymdo/AppData/Local/Programs/Python/Python39/lib/site-packages/pandas/core/frame.py?line=3451'>3452</a>\u001b[0m \u001b[39m# We interpret tuples as collections only for non-MultiIndex\u001b[39;00m\n\u001b[0;32m   <a href='file:///c%3A/Users/gymdo/AppData/Local/Programs/Python/Python39/lib/site-packages/pandas/core/frame.py?line=3452'>3453</a>\u001b[0m is_single_key \u001b[39m=\u001b[39m \u001b[39misinstance\u001b[39m(key, \u001b[39mtuple\u001b[39m) \u001b[39mor\u001b[39;00m \u001b[39mnot\u001b[39;00m is_list_like(key)\n",
      "File \u001b[1;32mc:\\Users\\gymdo\\AppData\\Local\\Programs\\Python\\Python39\\lib\\site-packages\\pandas\\core\\frame.py:3502\u001b[0m, in \u001b[0;36mDataFrame._getitem_bool_array\u001b[1;34m(self, key)\u001b[0m\n\u001b[0;32m   <a href='file:///c%3A/Users/gymdo/AppData/Local/Programs/Python/Python39/lib/site-packages/pandas/core/frame.py?line=3495'>3496</a>\u001b[0m     \u001b[39mraise\u001b[39;00m \u001b[39mValueError\u001b[39;00m(\n\u001b[0;32m   <a href='file:///c%3A/Users/gymdo/AppData/Local/Programs/Python/Python39/lib/site-packages/pandas/core/frame.py?line=3496'>3497</a>\u001b[0m         \u001b[39mf\u001b[39m\u001b[39m\"\u001b[39m\u001b[39mItem wrong length \u001b[39m\u001b[39m{\u001b[39;00m\u001b[39mlen\u001b[39m(key)\u001b[39m}\u001b[39;00m\u001b[39m instead of \u001b[39m\u001b[39m{\u001b[39;00m\u001b[39mlen\u001b[39m(\u001b[39mself\u001b[39m\u001b[39m.\u001b[39mindex)\u001b[39m}\u001b[39;00m\u001b[39m.\u001b[39m\u001b[39m\"\u001b[39m\n\u001b[0;32m   <a href='file:///c%3A/Users/gymdo/AppData/Local/Programs/Python/Python39/lib/site-packages/pandas/core/frame.py?line=3497'>3498</a>\u001b[0m     )\n\u001b[0;32m   <a href='file:///c%3A/Users/gymdo/AppData/Local/Programs/Python/Python39/lib/site-packages/pandas/core/frame.py?line=3499'>3500</a>\u001b[0m \u001b[39m# check_bool_indexer will throw exception if Series key cannot\u001b[39;00m\n\u001b[0;32m   <a href='file:///c%3A/Users/gymdo/AppData/Local/Programs/Python/Python39/lib/site-packages/pandas/core/frame.py?line=3500'>3501</a>\u001b[0m \u001b[39m# be reindexed to match DataFrame rows\u001b[39;00m\n\u001b[1;32m-> <a href='file:///c%3A/Users/gymdo/AppData/Local/Programs/Python/Python39/lib/site-packages/pandas/core/frame.py?line=3501'>3502</a>\u001b[0m key \u001b[39m=\u001b[39m check_bool_indexer(\u001b[39mself\u001b[39;49m\u001b[39m.\u001b[39;49mindex, key)\n\u001b[0;32m   <a href='file:///c%3A/Users/gymdo/AppData/Local/Programs/Python/Python39/lib/site-packages/pandas/core/frame.py?line=3502'>3503</a>\u001b[0m indexer \u001b[39m=\u001b[39m key\u001b[39m.\u001b[39mnonzero()[\u001b[39m0\u001b[39m]\n\u001b[0;32m   <a href='file:///c%3A/Users/gymdo/AppData/Local/Programs/Python/Python39/lib/site-packages/pandas/core/frame.py?line=3503'>3504</a>\u001b[0m \u001b[39mreturn\u001b[39;00m \u001b[39mself\u001b[39m\u001b[39m.\u001b[39m_take_with_is_copy(indexer, axis\u001b[39m=\u001b[39m\u001b[39m0\u001b[39m)\n",
      "File \u001b[1;32mc:\\Users\\gymdo\\AppData\\Local\\Programs\\Python\\Python39\\lib\\site-packages\\pandas\\core\\indexing.py:2388\u001b[0m, in \u001b[0;36mcheck_bool_indexer\u001b[1;34m(index, key)\u001b[0m\n\u001b[0;32m   <a href='file:///c%3A/Users/gymdo/AppData/Local/Programs/Python/Python39/lib/site-packages/pandas/core/indexing.py?line=2385'>2386</a>\u001b[0m     mask \u001b[39m=\u001b[39m isna(result\u001b[39m.\u001b[39m_values)\n\u001b[0;32m   <a href='file:///c%3A/Users/gymdo/AppData/Local/Programs/Python/Python39/lib/site-packages/pandas/core/indexing.py?line=2386'>2387</a>\u001b[0m     \u001b[39mif\u001b[39;00m mask\u001b[39m.\u001b[39many():\n\u001b[1;32m-> <a href='file:///c%3A/Users/gymdo/AppData/Local/Programs/Python/Python39/lib/site-packages/pandas/core/indexing.py?line=2387'>2388</a>\u001b[0m         \u001b[39mraise\u001b[39;00m IndexingError(\n\u001b[0;32m   <a href='file:///c%3A/Users/gymdo/AppData/Local/Programs/Python/Python39/lib/site-packages/pandas/core/indexing.py?line=2388'>2389</a>\u001b[0m             \u001b[39m\"\u001b[39m\u001b[39mUnalignable boolean Series provided as \u001b[39m\u001b[39m\"\u001b[39m\n\u001b[0;32m   <a href='file:///c%3A/Users/gymdo/AppData/Local/Programs/Python/Python39/lib/site-packages/pandas/core/indexing.py?line=2389'>2390</a>\u001b[0m             \u001b[39m\"\u001b[39m\u001b[39mindexer (index of the boolean Series and of \u001b[39m\u001b[39m\"\u001b[39m\n\u001b[0;32m   <a href='file:///c%3A/Users/gymdo/AppData/Local/Programs/Python/Python39/lib/site-packages/pandas/core/indexing.py?line=2390'>2391</a>\u001b[0m             \u001b[39m\"\u001b[39m\u001b[39mthe indexed object do not match).\u001b[39m\u001b[39m\"\u001b[39m\n\u001b[0;32m   <a href='file:///c%3A/Users/gymdo/AppData/Local/Programs/Python/Python39/lib/site-packages/pandas/core/indexing.py?line=2391'>2392</a>\u001b[0m         )\n\u001b[0;32m   <a href='file:///c%3A/Users/gymdo/AppData/Local/Programs/Python/Python39/lib/site-packages/pandas/core/indexing.py?line=2392'>2393</a>\u001b[0m     \u001b[39mreturn\u001b[39;00m result\u001b[39m.\u001b[39mastype(\u001b[39mbool\u001b[39m)\u001b[39m.\u001b[39m_values\n\u001b[0;32m   <a href='file:///c%3A/Users/gymdo/AppData/Local/Programs/Python/Python39/lib/site-packages/pandas/core/indexing.py?line=2393'>2394</a>\u001b[0m \u001b[39mif\u001b[39;00m is_object_dtype(key):\n\u001b[0;32m   <a href='file:///c%3A/Users/gymdo/AppData/Local/Programs/Python/Python39/lib/site-packages/pandas/core/indexing.py?line=2394'>2395</a>\u001b[0m     \u001b[39m# key might be object-dtype bool, check_array_indexer needs bool array\u001b[39;00m\n",
      "\u001b[1;31mIndexingError\u001b[0m: Unalignable boolean Series provided as indexer (index of the boolean Series and of the indexed object do not match)."
     ]
    }
   ],
   "source": [
    "df = pd.read_csv('./data/편의시설/부산광역시_노인 급식기관 현황_20210528.csv'\n",
    ", encoding='cp949') #부산 경로당 현황 읽어오기 \n",
    "sub_df = df[(df['소재지전체주소'][0:5]=='부산광역시')]#관리기관명이 기장군인 것만 자름\n",
    "subData=df['소재지전체주소']\n",
    "for sd in sub_df:\n",
    "    try:\n",
    "        if '부산광역시' == sd[0:5]:\n",
    "            print(sd)\n",
    "    except:\n",
    "        pass \n"
   ]
  },
  {
   "cell_type": "code",
   "execution_count": null,
   "metadata": {},
   "outputs": [],
   "source": [
    "kizang_pos= [35.23876594878238, 129.21575390899562] ## 기장읍 사무소\n"
   ]
  },
  {
   "cell_type": "code",
   "execution_count": null,
   "metadata": {},
   "outputs": [],
   "source": []
  }
 ],
 "metadata": {
  "interpreter": {
   "hash": "d27601c4c19faa8f3cac8b671a2549351dafb110fe23e9ab97f23d107bef6d5e"
  },
  "kernelspec": {
   "display_name": "Python 3.9.0 64-bit",
   "language": "python",
   "name": "python3"
  },
  "language_info": {
   "codemirror_mode": {
    "name": "ipython",
    "version": 3
   },
   "file_extension": ".py",
   "mimetype": "text/x-python",
   "name": "python",
   "nbconvert_exporter": "python",
   "pygments_lexer": "ipython3",
   "version": "3.9.0"
  },
  "orig_nbformat": 4
 },
 "nbformat": 4,
 "nbformat_minor": 2
}
