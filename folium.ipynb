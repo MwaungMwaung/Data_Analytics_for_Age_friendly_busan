{
 "cells": [
  {
   "cell_type": "code",
   "execution_count": 8,
   "metadata": {},
   "outputs": [
    {
     "name": "stderr",
     "output_type": "stream",
     "text": [
      "WARNING: You are using pip version 21.2.3; however, version 22.1.1 is available.\n",
      "You should consider upgrading via the 'c:\\Users\\gymdo\\AppData\\Local\\Programs\\Python\\Python39\\python.exe -m pip install --upgrade pip' command.\n"
     ]
    },
    {
     "name": "stdout",
     "output_type": "stream",
     "text": [
      "Requirement already satisfied: pyproj in c:\\users\\gymdo\\appdata\\local\\programs\\python\\python39\\lib\\site-packages (3.3.1)\n",
      "Requirement already satisfied: certifi in c:\\users\\gymdo\\appdata\\local\\programs\\python\\python39\\lib\\site-packages (from pyproj) (2021.10.8)\n",
      "Note: you may need to restart the kernel to use updated packages.\n"
     ]
    }
   ],
   "source": [
    "%pip install pyproj\n",
    "import pyproj"
   ]
  },
  {
   "cell_type": "code",
   "execution_count": 49,
   "metadata": {},
   "outputs": [],
   "source": [
    "import folium\n",
    "import pandas as pd\n",
    "import numpy\n",
    "from folium.plugins import MarkerCluster\n",
    "#패키지 import"
   ]
  },
  {
   "cell_type": "code",
   "execution_count": 16,
   "metadata": {},
   "outputs": [
    {
     "name": "stdout",
     "output_type": "stream",
     "text": [
      "           위도          경도      의료기관명\n",
      "27  35.321839  129.244334  동남권원자력의학원\n"
     ]
    }
   ],
   "source": [
    "df = pd.read_csv('./data/편의시설/부산광역시_종합병원 현황_20211231.csv'\n",
    ", encoding='UTF-8') #부산 경로당 현황 읽어오기 \n",
    "hos_sub_df = df[df['도로명주소'].str.contains('기장군')]#관리기관명이 기장군인 것만 자름\n",
    "print(hos_sub_df[['위도','경도','의료기관명']])\n"
   ]
  },
  {
   "cell_type": "code",
   "execution_count": 50,
   "metadata": {},
   "outputs": [
    {
     "name": "stdout",
     "output_type": "stream",
     "text": [
      "           위도          경도\n",
      "1   37.073276  128.839780\n",
      "2   37.083110  128.828849\n",
      "5   37.116830  128.857980\n",
      "6   37.115332  128.832001\n",
      "7   37.126666  128.859012\n",
      "8   37.081822  128.840460\n",
      "9   37.085435  128.840548\n",
      "10  37.078478  128.855626\n",
      "11  37.136050  128.842022\n",
      "12  37.115377  128.858302\n"
     ]
    },
    {
     "name": "stderr",
     "output_type": "stream",
     "text": [
      "C:\\Users\\gymdo\\AppData\\Local\\Temp\\ipykernel_7300\\3144851901.py:8: DeprecationWarning: This function is deprecated. See: https://pyproj4.github.io/pyproj/stable/gotchas.html#upgrading-to-pyproj-2-from-pyproj-1\n",
      "  x2, y2 = pyproj.transform(proj_UMTK,proj_WGS84,x1,y1) #좌표 변환\n"
     ]
    }
   ],
   "source": [
    "df = pd.read_csv('./data/편의시설/fulldata_01_01_06_P_약국.csv'\n",
    ", engine='python',encoding='cp949') #전국 약국 현황 읽어오기 \n",
    "newDF=df.loc[df['소재지전체주소'].str.contains('기장군',na=False)]#기장만 끊어서\n",
    "proj_UMTK = pyproj.Proj('epsg:2096') #오래된 지리원 표준\n",
    "proj_WGS84 = pyproj.Proj('epsg:4326') #경위도 좌표계\n",
    "newPGS = pd.DataFrame({'위도':[],'경도':[]})\n",
    "for x1, y1 in zip(newDF['좌표정보(x)'],df['좌표정보(y)']):\n",
    "    x2, y2 = pyproj.transform(proj_UMTK,proj_WGS84,x1,y1) #좌표 변환\n",
    "    dataToInsert = pd.DataFrame({'위도':[x2],'경도':[y2]})\n",
    "    newPGS = pd.concat([newPGS,dataToInsert],ignore_index=True)\n",
    "newPGS = newPGS.replace([numpy.inf],numpy.nan)#inf nan으로 변환\n",
    "newPGS=newPGS.dropna()#nan 제거\n",
    "print(newPGS.head(10))\n"
   ]
  },
  {
   "cell_type": "code",
   "execution_count": 17,
   "metadata": {},
   "outputs": [
    {
     "data": {
      "text/html": [
       "<div style=\"width:100%;\"><div style=\"position:relative;width:100%;height:0;padding-bottom:60%;\"><span style=\"color:#565656\">Make this Notebook Trusted to load map: File -> Trust Notebook</span><iframe srcdoc=\"&lt;!DOCTYPE html&gt;\n",
       "&lt;head&gt;    \n",
       "    &lt;meta http-equiv=&quot;content-type&quot; content=&quot;text/html; charset=UTF-8&quot; /&gt;\n",
       "    \n",
       "        &lt;script&gt;\n",
       "            L_NO_TOUCH = false;\n",
       "            L_DISABLE_3D = false;\n",
       "        &lt;/script&gt;\n",
       "    \n",
       "    &lt;style&gt;html, body {width: 100%;height: 100%;margin: 0;padding: 0;}&lt;/style&gt;\n",
       "    &lt;style&gt;#map {position:absolute;top:0;bottom:0;right:0;left:0;}&lt;/style&gt;\n",
       "    &lt;script src=&quot;https://cdn.jsdelivr.net/npm/leaflet@1.6.0/dist/leaflet.js&quot;&gt;&lt;/script&gt;\n",
       "    &lt;script src=&quot;https://code.jquery.com/jquery-1.12.4.min.js&quot;&gt;&lt;/script&gt;\n",
       "    &lt;script src=&quot;https://maxcdn.bootstrapcdn.com/bootstrap/3.2.0/js/bootstrap.min.js&quot;&gt;&lt;/script&gt;\n",
       "    &lt;script src=&quot;https://cdnjs.cloudflare.com/ajax/libs/Leaflet.awesome-markers/2.0.2/leaflet.awesome-markers.js&quot;&gt;&lt;/script&gt;\n",
       "    &lt;link rel=&quot;stylesheet&quot; href=&quot;https://cdn.jsdelivr.net/npm/leaflet@1.6.0/dist/leaflet.css&quot;/&gt;\n",
       "    &lt;link rel=&quot;stylesheet&quot; href=&quot;https://maxcdn.bootstrapcdn.com/bootstrap/3.2.0/css/bootstrap.min.css&quot;/&gt;\n",
       "    &lt;link rel=&quot;stylesheet&quot; href=&quot;https://maxcdn.bootstrapcdn.com/bootstrap/3.2.0/css/bootstrap-theme.min.css&quot;/&gt;\n",
       "    &lt;link rel=&quot;stylesheet&quot; href=&quot;https://maxcdn.bootstrapcdn.com/font-awesome/4.6.3/css/font-awesome.min.css&quot;/&gt;\n",
       "    &lt;link rel=&quot;stylesheet&quot; href=&quot;https://cdnjs.cloudflare.com/ajax/libs/Leaflet.awesome-markers/2.0.2/leaflet.awesome-markers.css&quot;/&gt;\n",
       "    &lt;link rel=&quot;stylesheet&quot; href=&quot;https://cdn.jsdelivr.net/gh/python-visualization/folium/folium/templates/leaflet.awesome.rotate.min.css&quot;/&gt;\n",
       "    \n",
       "            &lt;meta name=&quot;viewport&quot; content=&quot;width=device-width,\n",
       "                initial-scale=1.0, maximum-scale=1.0, user-scalable=no&quot; /&gt;\n",
       "            &lt;style&gt;\n",
       "                #map_b3acbbfd57c119fc163d61f1e2e78905 {\n",
       "                    position: relative;\n",
       "                    width: 750.0px;\n",
       "                    height: 500.0px;\n",
       "                    left: 0.0%;\n",
       "                    top: 0.0%;\n",
       "                }\n",
       "            &lt;/style&gt;\n",
       "        \n",
       "    &lt;script src=&quot;https://cdnjs.cloudflare.com/ajax/libs/leaflet.markercluster/1.1.0/leaflet.markercluster.js&quot;&gt;&lt;/script&gt;\n",
       "    &lt;link rel=&quot;stylesheet&quot; href=&quot;https://cdnjs.cloudflare.com/ajax/libs/leaflet.markercluster/1.1.0/MarkerCluster.css&quot;/&gt;\n",
       "    &lt;link rel=&quot;stylesheet&quot; href=&quot;https://cdnjs.cloudflare.com/ajax/libs/leaflet.markercluster/1.1.0/MarkerCluster.Default.css&quot;/&gt;\n",
       "&lt;/head&gt;\n",
       "&lt;body&gt;    \n",
       "    \n",
       "            &lt;div class=&quot;folium-map&quot; id=&quot;map_b3acbbfd57c119fc163d61f1e2e78905&quot; &gt;&lt;/div&gt;\n",
       "        \n",
       "&lt;/body&gt;\n",
       "&lt;script&gt;    \n",
       "    \n",
       "            var map_b3acbbfd57c119fc163d61f1e2e78905 = L.map(\n",
       "                &quot;map_b3acbbfd57c119fc163d61f1e2e78905&quot;,\n",
       "                {\n",
       "                    center: [35.23876594878238, 129.21575390899562],\n",
       "                    crs: L.CRS.EPSG3857,\n",
       "                    zoom: 17,\n",
       "                    zoomControl: true,\n",
       "                    preferCanvas: false,\n",
       "                }\n",
       "            );\n",
       "\n",
       "            \n",
       "\n",
       "        \n",
       "    \n",
       "            var tile_layer_f68e9c7d5757b9714c152efa6e5e77c0 = L.tileLayer(\n",
       "                &quot;https://{s}.tile.openstreetmap.org/{z}/{x}/{y}.png&quot;,\n",
       "                {&quot;attribution&quot;: &quot;Data by \\u0026copy; \\u003ca href=\\&quot;http://openstreetmap.org\\&quot;\\u003eOpenStreetMap\\u003c/a\\u003e, under \\u003ca href=\\&quot;http://www.openstreetmap.org/copyright\\&quot;\\u003eODbL\\u003c/a\\u003e.&quot;, &quot;detectRetina&quot;: false, &quot;maxNativeZoom&quot;: 18, &quot;maxZoom&quot;: 18, &quot;minZoom&quot;: 0, &quot;noWrap&quot;: false, &quot;opacity&quot;: 1, &quot;subdomains&quot;: &quot;abc&quot;, &quot;tms&quot;: false}\n",
       "            ).addTo(map_b3acbbfd57c119fc163d61f1e2e78905);\n",
       "        \n",
       "    \n",
       "            var marker_cluster_cd66a7bfb78a40c7a846ead2a6877939 = L.markerClusterGroup(\n",
       "                {}\n",
       "            );\n",
       "            map_b3acbbfd57c119fc163d61f1e2e78905.addLayer(marker_cluster_cd66a7bfb78a40c7a846ead2a6877939);\n",
       "        \n",
       "    \n",
       "            var marker_73dbf6a4bfbf8a1a02ec355b97b10f30 = L.marker(\n",
       "                [35.32183895, 129.2443344],\n",
       "                {}\n",
       "            ).addTo(marker_cluster_cd66a7bfb78a40c7a846ead2a6877939);\n",
       "        \n",
       "    \n",
       "            var icon_42c0fa983565ac291d3188bbcdd8ded2 = L.AwesomeMarkers.icon(\n",
       "                {&quot;extraClasses&quot;: &quot;fa-rotate-0&quot;, &quot;icon&quot;: &quot;info-sign&quot;, &quot;iconColor&quot;: &quot;white&quot;, &quot;markerColor&quot;: &quot;green&quot;, &quot;prefix&quot;: &quot;glyphicon&quot;}\n",
       "            );\n",
       "            marker_73dbf6a4bfbf8a1a02ec355b97b10f30.setIcon(icon_42c0fa983565ac291d3188bbcdd8ded2);\n",
       "        \n",
       "    \n",
       "            marker_73dbf6a4bfbf8a1a02ec355b97b10f30.bindTooltip(\n",
       "                `&lt;div&gt;\n",
       "                     동남권원자력의학원\n",
       "                 &lt;/div&gt;`,\n",
       "                {&quot;sticky&quot;: true}\n",
       "            );\n",
       "        \n",
       "&lt;/script&gt;\" style=\"position:absolute;width:100%;height:100%;left:0;top:0;border:none !important;\" allowfullscreen webkitallowfullscreen mozallowfullscreen></iframe></div></div>"
      ],
      "text/plain": [
       "<folium.folium.Map at 0x28838e57d30>"
      ]
     },
     "execution_count": 17,
     "metadata": {},
     "output_type": "execute_result"
    }
   ],
   "source": [
    "kizang_pos= [35.23876594878238, 129.21575390899562] ## 기장읍 사무소\n",
    "m = folium.Map(location=kizang_pos, zoom_start=17,width=750, \n",
    "               height=500)#지도 17의 줌으로 생성               \n",
    "coords = hos_sub_df[['위도','경도','의료기관명']]#자료에서 위도, 경도, 경로당명 가져와서\n",
    "coords2 =\n",
    "hos_marker_cluster = MarkerCluster().add_to(m)#MarkerCluster을 지도에 추가하고\n",
    "for lat,long,tool in zip(coords['위도'],coords['경도'],coords['의료기관명']):#lat, long, tool을 이터레이터로 만들어서\n",
    "    folium.Marker([lat,long],icon=folium.Icon(color='green'),tooltip=tool).add_to(hos_marker_cluster)#초록색 마커로 마우스 갖다대면 이름 보이게 표시\n",
    "m\n"
   ]
  },
  {
   "cell_type": "code",
   "execution_count": null,
   "metadata": {},
   "outputs": [],
   "source": []
  }
 ],
 "metadata": {
  "interpreter": {
   "hash": "d27601c4c19faa8f3cac8b671a2549351dafb110fe23e9ab97f23d107bef6d5e"
  },
  "kernelspec": {
   "display_name": "Python 3.9.0 64-bit",
   "language": "python",
   "name": "python3"
  },
  "language_info": {
   "codemirror_mode": {
    "name": "ipython",
    "version": 3
   },
   "file_extension": ".py",
   "mimetype": "text/x-python",
   "name": "python",
   "nbconvert_exporter": "python",
   "pygments_lexer": "ipython3",
   "version": "3.9.7"
  },
  "orig_nbformat": 4
 },
 "nbformat": 4,
 "nbformat_minor": 2
}
