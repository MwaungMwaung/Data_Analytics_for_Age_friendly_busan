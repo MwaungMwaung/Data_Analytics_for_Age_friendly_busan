{
 "cells": [
  {
   "cell_type": "code",
   "execution_count": 2,
   "metadata": {},
   "outputs": [
    {
     "name": "stdout",
     "output_type": "stream",
     "text": [
      "Requirement already satisfied: pyproj in c:\\users\\gymdo\\appdata\\local\\programs\\python\\python39\\lib\\site-packages (3.3.1)\n",
      "Requirement already satisfied: certifi in c:\\users\\gymdo\\appdata\\local\\programs\\python\\python39\\lib\\site-packages (from pyproj) (2021.10.8)\n",
      "Note: you may need to restart the kernel to use updated packages.\n"
     ]
    },
    {
     "name": "stderr",
     "output_type": "stream",
     "text": [
      "WARNING: You are using pip version 21.2.3; however, version 22.1.1 is available.\n",
      "You should consider upgrading via the 'c:\\Users\\gymdo\\AppData\\Local\\Programs\\Python\\Python39\\python.exe -m pip install --upgrade pip' command.\n"
     ]
    }
   ],
   "source": [
    "%pip install \n",
    "#패키지 설치, import\n",
    "import pyproj"
   ]
  },
  {
   "cell_type": "code",
   "execution_count": 3,
   "metadata": {},
   "outputs": [],
   "source": [
    "import folium\n",
    "import pandas as pd\n",
    "import numpy\n",
    "from folium.plugins import MarkerCluster\n",
    "#패키지 import"
   ]
  },
  {
   "cell_type": "code",
   "execution_count": 4,
   "metadata": {},
   "outputs": [
    {
     "name": "stdout",
     "output_type": "stream",
     "text": [
      "           위도          경도      의료기관명\n",
      "27  35.321839  129.244334  동남권원자력의학원\n"
     ]
    }
   ],
   "source": [
    "df = pd.read_csv('./data/편의시설/부산광역시_종합병원 현황_20211231.csv'\n",
    ", encoding='UTF-8') #부산광역시 종합병원 현황 읽어오기 \n",
    "hos_sub_df = df[df['도로명주소'].str.contains('기장군')]#관리기관명이 기장군인 것만 자름\n",
    "print(hos_sub_df[['위도','경도','의료기관명']]) #기장군 병원 출력 테스트, 1개 존재\n"
   ]
  },
  {
   "cell_type": "code",
   "execution_count": 74,
   "metadata": {},
   "outputs": [
    {
     "ename": "ValueError",
     "evalue": "Cannot mask with non-boolean array containing NA / NaN values",
     "output_type": "error",
     "traceback": [
      "\u001b[1;31m---------------------------------------------------------------------------\u001b[0m",
      "\u001b[1;31mValueError\u001b[0m                                Traceback (most recent call last)",
      "\u001b[1;32mc:\\Users\\gymdo\\OneDrive\\Desktop\\afp\\Data_Analytics_for_Age_friendly_busan\\folium.ipynb Cell 4'\u001b[0m in \u001b[0;36m<cell line: 3>\u001b[1;34m()\u001b[0m\n\u001b[0;32m      <a href='vscode-notebook-cell:/c%3A/Users/gymdo/OneDrive/Desktop/afp/Data_Analytics_for_Age_friendly_busan/folium.ipynb#ch0000008?line=0'>1</a>\u001b[0m df \u001b[39m=\u001b[39m pd\u001b[39m.\u001b[39mread_csv(\u001b[39m'\u001b[39m\u001b[39m./data/편의시설/부산광역시_노인교실 현황_08_31_2021.csv\u001b[39m\u001b[39m'\u001b[39m\n\u001b[0;32m      <a href='vscode-notebook-cell:/c%3A/Users/gymdo/OneDrive/Desktop/afp/Data_Analytics_for_Age_friendly_busan/folium.ipynb#ch0000008?line=1'>2</a>\u001b[0m , encoding\u001b[39m=\u001b[39m\u001b[39m'\u001b[39m\u001b[39mcp949\u001b[39m\u001b[39m'\u001b[39m) \u001b[39m#부산광역시 종합병원 현황 읽어오기 \u001b[39;00m\n\u001b[1;32m----> <a href='vscode-notebook-cell:/c%3A/Users/gymdo/OneDrive/Desktop/afp/Data_Analytics_for_Age_friendly_busan/folium.ipynb#ch0000008?line=2'>3</a>\u001b[0m class_sub_df \u001b[39m=\u001b[39m df[df[\u001b[39m'\u001b[39;49m\u001b[39m구군명\u001b[39;49m\u001b[39m'\u001b[39;49m]\u001b[39m.\u001b[39;49mstr\u001b[39m.\u001b[39;49mcontains(\u001b[39m'\u001b[39;49m\u001b[39m기장군\u001b[39;49m\u001b[39m'\u001b[39;49m)]\u001b[39m#관리기관명이 기장군인 것만 자름\u001b[39;00m\n\u001b[0;32m      <a href='vscode-notebook-cell:/c%3A/Users/gymdo/OneDrive/Desktop/afp/Data_Analytics_for_Age_friendly_busan/folium.ipynb#ch0000008?line=3'>4</a>\u001b[0m \u001b[39mprint\u001b[39m(class_sub_df[[\u001b[39m'\u001b[39m\u001b[39m위도\u001b[39m\u001b[39m'\u001b[39m,\u001b[39m'\u001b[39m\u001b[39m경도\u001b[39m\u001b[39m'\u001b[39m,\u001b[39m'\u001b[39m\u001b[39m노인교실명\u001b[39m\u001b[39m'\u001b[39m]])\n",
      "File \u001b[1;32mc:\\Users\\gymdo\\AppData\\Local\\Programs\\Python\\Python39\\lib\\site-packages\\pandas\\core\\frame.py:3495\u001b[0m, in \u001b[0;36mDataFrame.__getitem__\u001b[1;34m(self, key)\u001b[0m\n\u001b[0;32m   <a href='file:///c%3A/Users/gymdo/AppData/Local/Programs/Python/Python39/lib/site-packages/pandas/core/frame.py?line=3491'>3492</a>\u001b[0m     \u001b[39mreturn\u001b[39;00m \u001b[39mself\u001b[39m\u001b[39m.\u001b[39mwhere(key)\n\u001b[0;32m   <a href='file:///c%3A/Users/gymdo/AppData/Local/Programs/Python/Python39/lib/site-packages/pandas/core/frame.py?line=3493'>3494</a>\u001b[0m \u001b[39m# Do we have a (boolean) 1d indexer?\u001b[39;00m\n\u001b[1;32m-> <a href='file:///c%3A/Users/gymdo/AppData/Local/Programs/Python/Python39/lib/site-packages/pandas/core/frame.py?line=3494'>3495</a>\u001b[0m \u001b[39mif\u001b[39;00m com\u001b[39m.\u001b[39;49mis_bool_indexer(key):\n\u001b[0;32m   <a href='file:///c%3A/Users/gymdo/AppData/Local/Programs/Python/Python39/lib/site-packages/pandas/core/frame.py?line=3495'>3496</a>\u001b[0m     \u001b[39mreturn\u001b[39;00m \u001b[39mself\u001b[39m\u001b[39m.\u001b[39m_getitem_bool_array(key)\n\u001b[0;32m   <a href='file:///c%3A/Users/gymdo/AppData/Local/Programs/Python/Python39/lib/site-packages/pandas/core/frame.py?line=3497'>3498</a>\u001b[0m \u001b[39m# We are left with two options: a single key, and a collection of keys,\u001b[39;00m\n\u001b[0;32m   <a href='file:///c%3A/Users/gymdo/AppData/Local/Programs/Python/Python39/lib/site-packages/pandas/core/frame.py?line=3498'>3499</a>\u001b[0m \u001b[39m# We interpret tuples as collections only for non-MultiIndex\u001b[39;00m\n",
      "File \u001b[1;32mc:\\Users\\gymdo\\AppData\\Local\\Programs\\Python\\Python39\\lib\\site-packages\\pandas\\core\\common.py:144\u001b[0m, in \u001b[0;36mis_bool_indexer\u001b[1;34m(key)\u001b[0m\n\u001b[0;32m    <a href='file:///c%3A/Users/gymdo/AppData/Local/Programs/Python/Python39/lib/site-packages/pandas/core/common.py?line=139'>140</a>\u001b[0m     na_msg \u001b[39m=\u001b[39m \u001b[39m\"\u001b[39m\u001b[39mCannot mask with non-boolean array containing NA / NaN values\u001b[39m\u001b[39m\"\u001b[39m\n\u001b[0;32m    <a href='file:///c%3A/Users/gymdo/AppData/Local/Programs/Python/Python39/lib/site-packages/pandas/core/common.py?line=140'>141</a>\u001b[0m     \u001b[39mif\u001b[39;00m lib\u001b[39m.\u001b[39minfer_dtype(key) \u001b[39m==\u001b[39m \u001b[39m\"\u001b[39m\u001b[39mboolean\u001b[39m\u001b[39m\"\u001b[39m \u001b[39mand\u001b[39;00m isna(key)\u001b[39m.\u001b[39many():\n\u001b[0;32m    <a href='file:///c%3A/Users/gymdo/AppData/Local/Programs/Python/Python39/lib/site-packages/pandas/core/common.py?line=141'>142</a>\u001b[0m         \u001b[39m# Don't raise on e.g. [\"A\", \"B\", np.nan], see\u001b[39;00m\n\u001b[0;32m    <a href='file:///c%3A/Users/gymdo/AppData/Local/Programs/Python/Python39/lib/site-packages/pandas/core/common.py?line=142'>143</a>\u001b[0m         \u001b[39m#  test_loc_getitem_list_of_labels_categoricalindex_with_na\u001b[39;00m\n\u001b[1;32m--> <a href='file:///c%3A/Users/gymdo/AppData/Local/Programs/Python/Python39/lib/site-packages/pandas/core/common.py?line=143'>144</a>\u001b[0m         \u001b[39mraise\u001b[39;00m \u001b[39mValueError\u001b[39;00m(na_msg)\n\u001b[0;32m    <a href='file:///c%3A/Users/gymdo/AppData/Local/Programs/Python/Python39/lib/site-packages/pandas/core/common.py?line=144'>145</a>\u001b[0m     \u001b[39mreturn\u001b[39;00m \u001b[39mFalse\u001b[39;00m\n\u001b[0;32m    <a href='file:///c%3A/Users/gymdo/AppData/Local/Programs/Python/Python39/lib/site-packages/pandas/core/common.py?line=145'>146</a>\u001b[0m \u001b[39mreturn\u001b[39;00m \u001b[39mTrue\u001b[39;00m\n",
      "\u001b[1;31mValueError\u001b[0m: Cannot mask with non-boolean array containing NA / NaN values"
     ]
    }
   ],
   "source": [
    "df = pd.read_csv('./data/편의시설/부산광역시_노인교실 현황_08_31_2021.csv'\n",
    ", encoding='cp949') #부산광역시 종합병원 현황 읽어오기 \n",
    "class_sub_df = df[df['구군명'].str.contains('기장군')]#관리기관명이 기장군인 것만 자름\n",
    "print(class_sub_df[['위도','경도','노인교실명']]) #기장군 노인교실 출력 테스트, 3개 존재\n"
   ]
  },
  {
   "cell_type": "code",
   "execution_count": 63,
   "metadata": {},
   "outputs": [
    {
     "name": "stdout",
     "output_type": "stream",
     "text": [
      "1227     397529.796959\n",
      "1358     396849.716710\n",
      "7986     397942.700664\n",
      "8091               NaN\n",
      "8260               NaN\n",
      "             ...      \n",
      "39964    398054.092229\n",
      "40209    403815.971500\n",
      "42476    397354.244364\n",
      "53051    391998.792141\n",
      "53073    402168.434115\n",
      "Name: 좌표정보(x), Length: 132, dtype: float64\n"
     ]
    },
    {
     "name": "stderr",
     "output_type": "stream",
     "text": [
      "C:\\Users\\gymdo\\AppData\\Local\\Temp\\ipykernel_11520\\3013961560.py:10: DeprecationWarning: This function is deprecated. See: https://pyproj4.github.io/pyproj/stable/gotchas.html#upgrading-to-pyproj-2-from-pyproj-1\n",
      "  x2, y2 = pyproj.transform(proj_UMTK,proj_WGS84,y1,x1) #좌표 변환\n"
     ]
    },
    {
     "name": "stdout",
     "output_type": "stream",
     "text": [
      "           위도          경도\n",
      "1   35.153512  129.158131\n",
      "2   35.144560  129.169885\n",
      "5   35.167198  129.211508\n",
      "6   35.146432  129.209162\n",
      "7   35.167819  129.223502\n",
      "8   35.153885  129.168545\n",
      "9   35.153883  129.172944\n",
      "10  35.166100  129.164774\n",
      "11  35.154025  129.234579\n",
      "12  35.167486  129.209746\n"
     ]
    }
   ],
   "source": [
    "df = pd.read_csv('./data/편의시설/fulldata_01_01_06_P_약국.csv'\n",
    ", engine='python',encoding='cp949') #전국 약국 현황 읽어오기 \n",
    "newDF=df.loc[df['소재지전체주소'].str.contains('기장군',na=False)]#기장만 끊어서\n",
    "print(newDF['좌표정보(x)']) #좌표정보 테스트\n",
    "newadd=newDF['사업장명'] #약국 이름만 따로 추출\n",
    "proj_UMTK = pyproj.Proj('epsg:2097') #오래된 지리원 표준\n",
    "proj_WGS84 = pyproj.Proj('epsg:4326') #경위도 좌표계\n",
    "newPGS = pd.DataFrame({'위도':[],'경도':[]})#빈 데이터프레임 생성\n",
    "for x1, y1 in zip(newDF['좌표정보(x)'],df['좌표정보(y)']):\n",
    "    x2, y2 = pyproj.transform(proj_UMTK,proj_WGS84,y1,x1) #좌표 변환\n",
    "    dataToInsert = pd.DataFrame({'위도':[x2],'경도':[y2]})#넣을 데이터\n",
    "    newPGS = pd.concat([newPGS,dataToInsert],ignore_index=True)#newPGS에 데이터 넣기\n",
    "newPGS = newPGS.replace([numpy.inf],numpy.nan)#inf nan으로 변환\n",
    "newPGS=newPGS.dropna()#nan 제거\n",
    "print(newPGS.head(10))#출력 테스트\n",
    "\n",
    "#좌표 변환이 아직 정확하지 않음\n"
   ]
  },
  {
   "cell_type": "code",
   "execution_count": 72,
   "metadata": {},
   "outputs": [
    {
     "ename": "IndentationError",
     "evalue": "expected an indented block (2949483707.py, line 15)",
     "output_type": "error",
     "traceback": [
      "\u001b[1;36m  Input \u001b[1;32mIn [72]\u001b[1;36m\u001b[0m\n\u001b[1;33m    m\u001b[0m\n\u001b[1;37m    ^\u001b[0m\n\u001b[1;31mIndentationError\u001b[0m\u001b[1;31m:\u001b[0m expected an indented block\n"
     ]
    }
   ],
   "source": [
    "kizang_pos= [35.23876594878238, 129.21575390899562] ## 기장읍 사무소\n",
    "m = folium.Map(location=kizang_pos, zoom_start=17,width=750, \n",
    "               height=500)#지도 17의 줌으로 생성               \n",
    "coords = hos_sub_df[['위도','경도','의료기관명']]#자료에서 위도, 경도, 경로당명 가져와서\n",
    "coords2 = newPGS[['위도','경도']]\n",
    "coords3 = class_sub_df[[['위도','경도','노인교실명']]]\n",
    "pgs_marker_cluster = MarkerCluster().add_to(m)\n",
    "hos_marker_cluster = MarkerCluster().add_to(m)#MarkerCluster을 지도에 추가하고\n",
    "class_marker_cluster = MarkerCluster().add_to(m)\n",
    "for lat,long,tool in zip(coords['위도'],coords['경도'],coords['의료기관명']):#lat, long, tool을 이터레이터로 만들어서\n",
    "    folium.Marker([lat,long], icon=folium.Icon(color='green'),tooltip=tool).add_to(hos_marker_cluster)#초록색 마커로 마우스 갖다대면 이름 보이게 표시\n",
    "for lat, long  in zip(coords2['위도'],coords2['경도']):\n",
    "    folium.Marker([lat,long],popup='약국입니다',icon = folium.Icon(color='red',icon='star'),tooltip='약국').add_to(pgs_marker_cluster)\n",
    "for lat, long in zip(coords3['위도'],coords3['경도'],coords3['노인교실명']):\n",
    "    folium.Marker([lat,long],popup='노인교실입니다',icon=folium.Icon(color='blue',icon='star'),tooltip=tool).add_to(class_marker_cluster)\n",
    "m\n"
   ]
  }
 ],
 "metadata": {
  "interpreter": {
   "hash": "d27601c4c19faa8f3cac8b671a2549351dafb110fe23e9ab97f23d107bef6d5e"
  },
  "kernelspec": {
   "display_name": "Python 3.9.7 64-bit",
   "language": "python",
   "name": "python3"
  },
  "language_info": {
   "codemirror_mode": {
    "name": "ipython",
    "version": 3
   },
   "file_extension": ".py",
   "mimetype": "text/x-python",
   "name": "python",
   "nbconvert_exporter": "python",
   "pygments_lexer": "ipython3",
   "version": "3.9.7"
  },
  "orig_nbformat": 4
 },
 "nbformat": 4,
 "nbformat_minor": 2
}
