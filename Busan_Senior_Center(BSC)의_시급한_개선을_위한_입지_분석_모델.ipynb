{
  "cells": [
    {
      "cell_type": "markdown",
      "metadata": {
        "id": "XDzd4YWqsGxp"
      },
      "source": [
        "# [1] 데이터 분석 "
      ]
    },
    {
      "cell_type": "code",
      "execution_count": 71,
      "metadata": {
        "id": "zHxDJe0hpfT1"
      },
      "outputs": [],
      "source": [
        "# 코드 간결화\n",
        "# 부동산, 고도, 이동 거리에 따른 시간을 수치화 할 수 있는 방법\n",
        "# ex) 이동 시간(y) = A이동거리(x) + B (A,B : 부동산, 고도)\n",
        "# 인구 예측 수식 고도화\n",
        "# 주석 필수\n",
        "\n",
        "# 목차 정리를 추가하였습니다.\n",
        "# 코드 간결화\n",
        "# 부동산, 고도, 이동 거리에 따른 시간을 수치화 할 수 있는 방법\n",
        "# ex) 이동 시간(y) = A이동거리(x) + B (A,B : 부동산, 고도)\n",
        "# 인구 예측 수식 고도화\n",
        "# 주석 필수\n",
        "\n"
      ]
    },
    {
      "cell_type": "markdown",
      "metadata": {
        "id": "ofze6f4Ex7PA"
      },
      "source": [
        "경로당의 기존 설치 기준은  설비와 관련된 사항만 고려하여 \n",
        "__고령인구, 이용률, 접근성을 전혀 고려하지 않는다.__\n",
        "\n",
        "현행: 다음과 같은 기준을 만족한다면 구청장의 허가를 통해 설치가 가능하다.\n",
        "\n",
        "- 이용정원 20명 이상(읍·면지역의 경우 10명 이상)\n",
        "- 거실 또는 휴게실 : 20$m^2$ 이상.(6평 이상)\n",
        "- 건축법에 의한 노유자시설\n",
        "\n",
        "우리들은 __고령인구, 이용률, 접근성의 삼박자를 갖춘\n",
        "최적의 시니어 센터 입지 분석 및 제안함__\n",
        "\n"
      ]
    },
    {
      "cell_type": "markdown",
      "metadata": {
        "id": "wYxQ90m4yzM5"
      },
      "source": [
        "관련 라이브러리 설치 및 버전 수정"
      ]
    },
    {
      "cell_type": "code",
      "execution_count": 72,
      "metadata": {
        "colab": {
          "base_uri": "https://localhost:8080/"
        },
        "id": "S3n7bu5ortI_",
        "outputId": "b9f31fb4-25a6-4774-fefc-0df63018af42"
      },
      "outputs": [
        {
          "output_type": "stream",
          "name": "stdout",
          "text": [
            "Looking in indexes: https://pypi.org/simple, https://us-python.pkg.dev/colab-wheels/public/simple/\n",
            "Requirement already satisfied: osmnx in /usr/local/lib/python3.7/dist-packages (1.1.2)\n",
            "Requirement already satisfied: geopandas>=0.10 in /usr/local/lib/python3.7/dist-packages (from osmnx) (0.10.2)\n",
            "Requirement already satisfied: Rtree>=0.9 in /usr/local/lib/python3.7/dist-packages (from osmnx) (1.0.0)\n",
            "Requirement already satisfied: numpy>=1.21 in /usr/local/lib/python3.7/dist-packages (from osmnx) (1.21.6)\n",
            "Requirement already satisfied: matplotlib>=3.4 in /usr/local/lib/python3.7/dist-packages (from osmnx) (3.5.2)\n",
            "Requirement already satisfied: networkx>=2.6 in /usr/local/lib/python3.7/dist-packages (from osmnx) (2.6.3)\n",
            "Requirement already satisfied: pyproj>=3.2 in /usr/local/lib/python3.7/dist-packages (from osmnx) (3.2.1)\n",
            "Requirement already satisfied: requests>=2.26 in /usr/local/lib/python3.7/dist-packages (from osmnx) (2.27.1)\n",
            "Requirement already satisfied: pandas>=1.3 in /usr/local/lib/python3.7/dist-packages (from osmnx) (1.3.5)\n",
            "Requirement already satisfied: Shapely<2.0,>=1.7 in /usr/local/lib/python3.7/dist-packages (from osmnx) (1.8.2)\n",
            "Requirement already satisfied: fiona>=1.8 in /usr/local/lib/python3.7/dist-packages (from geopandas>=0.10->osmnx) (1.8.21)\n",
            "Requirement already satisfied: six>=1.7 in /usr/local/lib/python3.7/dist-packages (from fiona>=1.8->geopandas>=0.10->osmnx) (1.15.0)\n",
            "Requirement already satisfied: munch in /usr/local/lib/python3.7/dist-packages (from fiona>=1.8->geopandas>=0.10->osmnx) (2.5.0)\n",
            "Requirement already satisfied: click-plugins>=1.0 in /usr/local/lib/python3.7/dist-packages (from fiona>=1.8->geopandas>=0.10->osmnx) (1.1.1)\n",
            "Requirement already satisfied: cligj>=0.5 in /usr/local/lib/python3.7/dist-packages (from fiona>=1.8->geopandas>=0.10->osmnx) (0.7.2)\n",
            "Requirement already satisfied: setuptools in /usr/local/lib/python3.7/dist-packages (from fiona>=1.8->geopandas>=0.10->osmnx) (57.4.0)\n",
            "Requirement already satisfied: certifi in /usr/local/lib/python3.7/dist-packages (from fiona>=1.8->geopandas>=0.10->osmnx) (2022.5.18.1)\n",
            "Requirement already satisfied: attrs>=17 in /usr/local/lib/python3.7/dist-packages (from fiona>=1.8->geopandas>=0.10->osmnx) (21.4.0)\n",
            "Requirement already satisfied: click>=4.0 in /usr/local/lib/python3.7/dist-packages (from fiona>=1.8->geopandas>=0.10->osmnx) (7.1.2)\n",
            "Requirement already satisfied: pyparsing>=2.2.1 in /usr/local/lib/python3.7/dist-packages (from matplotlib>=3.4->osmnx) (3.0.9)\n",
            "Requirement already satisfied: cycler>=0.10 in /usr/local/lib/python3.7/dist-packages (from matplotlib>=3.4->osmnx) (0.11.0)\n",
            "Requirement already satisfied: packaging>=20.0 in /usr/local/lib/python3.7/dist-packages (from matplotlib>=3.4->osmnx) (21.3)\n",
            "Requirement already satisfied: fonttools>=4.22.0 in /usr/local/lib/python3.7/dist-packages (from matplotlib>=3.4->osmnx) (4.33.3)\n",
            "Requirement already satisfied: python-dateutil>=2.7 in /usr/local/lib/python3.7/dist-packages (from matplotlib>=3.4->osmnx) (2.8.2)\n",
            "Requirement already satisfied: pillow>=6.2.0 in /usr/local/lib/python3.7/dist-packages (from matplotlib>=3.4->osmnx) (7.1.2)\n",
            "Requirement already satisfied: kiwisolver>=1.0.1 in /usr/local/lib/python3.7/dist-packages (from matplotlib>=3.4->osmnx) (1.4.2)\n",
            "Requirement already satisfied: typing-extensions in /usr/local/lib/python3.7/dist-packages (from kiwisolver>=1.0.1->matplotlib>=3.4->osmnx) (4.2.0)\n",
            "Requirement already satisfied: pytz>=2017.3 in /usr/local/lib/python3.7/dist-packages (from pandas>=1.3->osmnx) (2022.1)\n",
            "Requirement already satisfied: urllib3<1.27,>=1.21.1 in /usr/local/lib/python3.7/dist-packages (from requests>=2.26->osmnx) (1.24.3)\n",
            "Requirement already satisfied: charset-normalizer~=2.0.0 in /usr/local/lib/python3.7/dist-packages (from requests>=2.26->osmnx) (2.0.12)\n",
            "Requirement already satisfied: idna<4,>=2.5 in /usr/local/lib/python3.7/dist-packages (from requests>=2.26->osmnx) (2.10)\n"
          ]
        }
      ],
      "source": [
        "# OSMnx 설치\n",
        "!pip install osmnx "
      ]
    },
    {
      "cell_type": "markdown",
      "metadata": {
        "id": "8_yQi13lzBpp"
      },
      "source": [
        "차트의 한글이 깨지면 아래 셀을 실행 후 런타임 -> 런타임 다시 시작 -> Ctrl + F9 "
      ]
    },
    {
      "cell_type": "code",
      "execution_count": 73,
      "metadata": {
        "colab": {
          "base_uri": "https://localhost:8080/"
        },
        "id": "fLiKRQ0wsYfQ",
        "outputId": "343276d9-f26d-43cd-de3a-d9b093ee8832"
      },
      "outputs": [
        {
          "output_type": "stream",
          "name": "stdout",
          "text": [
            "Reading package lists... Done\n",
            "Building dependency tree       \n",
            "Reading state information... Done\n",
            "fonts-nanum is already the newest version (20170925-1).\n",
            "The following package was automatically installed and is no longer required:\n",
            "  libnvidia-common-460\n",
            "Use 'sudo apt autoremove' to remove it.\n",
            "0 upgraded, 0 newly installed, 0 to remove and 42 not upgraded.\n",
            "/usr/share/fonts: caching, new cache contents: 0 fonts, 1 dirs\n",
            "/usr/share/fonts/truetype: caching, new cache contents: 0 fonts, 3 dirs\n",
            "/usr/share/fonts/truetype/humor-sans: caching, new cache contents: 1 fonts, 0 dirs\n",
            "/usr/share/fonts/truetype/liberation: caching, new cache contents: 16 fonts, 0 dirs\n",
            "/usr/share/fonts/truetype/nanum: caching, new cache contents: 10 fonts, 0 dirs\n",
            "/usr/local/share/fonts: caching, new cache contents: 0 fonts, 0 dirs\n",
            "/root/.local/share/fonts: skipping, no such directory\n",
            "/root/.fonts: skipping, no such directory\n",
            "/var/cache/fontconfig: cleaning cache directory\n",
            "/root/.cache/fontconfig: not cleaning non-existent cache directory\n",
            "/root/.fontconfig: not cleaning non-existent cache directory\n",
            "fc-cache: succeeded\n"
          ]
        }
      ],
      "source": [
        "!sudo apt-get install -y fonts-nanum\n",
        "!sudo fc-cache -fv\n",
        "!rm ~/.cache/matplotlib -rf"
      ]
    },
    {
      "cell_type": "markdown",
      "metadata": {
        "id": "yXzVpglHzb_0"
      },
      "source": [
        "관련 라이브러리 import"
      ]
    },
    {
      "cell_type": "code",
      "execution_count": 74,
      "metadata": {
        "id": "VNpW-7EgrcH3"
      },
      "outputs": [],
      "source": [
        "import pandas as pd\n",
        "import numpy as np\n",
        "import matplotlib.pyplot as plt\n",
        "import seaborn as sns\n",
        "import networkx as nx\n",
        "import osmnx as ox\n",
        "import geopandas as gpd\n",
        "from descartes import PolygonPatch\n",
        "from shapely.geometry import LineString\n",
        "from shapely.geometry import Point\n",
        "from shapely.geometry import Polygon"
      ]
    },
    {
      "cell_type": "markdown",
      "metadata": {
        "collapsed": false,
        "id": "qbCM4QJBrcIN"
      },
      "source": [
        "## 1) 데이터 로드 - 부산광역시 인구 현황, 경로당 현황 및 경로당 이용률\n",
        "----\n",
        "\n",
        "사용된 데이터 셋\n",
        "- 2021년_부산_인구_현황.csv\n",
        "- 2021년_부산_경로당_현황.csv\n",
        "- 부산_경로당_이용률.csv"
      ]
    },
    {
      "cell_type": "code",
      "execution_count": 75,
      "metadata": {
        "colab": {
          "base_uri": "https://localhost:8080/",
          "height": 206
        },
        "id": "imC7pbkyrcIa",
        "outputId": "15f1c89c-d9bc-448d-e21c-6b5f892f67e2"
      },
      "outputs": [
        {
          "output_type": "execute_result",
          "data": {
            "text/plain": [
              "  행정구역(동읍면)별       합계  50 - 54세  55 - 59세  60 - 64세  65 - 69세  70 - 74세  \\\n",
              "0      부산광역시  3356311    284015    271887    305573    242157    173938   \n",
              "1         중구    40676      3386      3387      4202      3692      2773   \n",
              "2        중앙동     2865       193       174       200       176       112   \n",
              "3        동광동     2684       228       244       304       255       237   \n",
              "4        대청동     6298       508       522       676       497       404   \n",
              "\n",
              "   75 - 79세  80 - 84세  85 - 89세  90 - 94세  95 - 99세  100+  고령인구 합계    구간 합계  \n",
              "0    122955     83699     38587     12632      2565   681   677214  1538689  \n",
              "1      2180      1484       661       260        62    16    11128    22103  \n",
              "2        78        54        30        13         3     0      466     1033  \n",
              "3       191       129        61        28         6     1      908     1684  \n",
              "4       346       206        95        52        13     2     1615     3321  "
            ],
            "text/html": [
              "\n",
              "  <div id=\"df-e62a223e-ec5f-4882-9ecb-ab2cfc4c1f2e\">\n",
              "    <div class=\"colab-df-container\">\n",
              "      <div>\n",
              "<style scoped>\n",
              "    .dataframe tbody tr th:only-of-type {\n",
              "        vertical-align: middle;\n",
              "    }\n",
              "\n",
              "    .dataframe tbody tr th {\n",
              "        vertical-align: top;\n",
              "    }\n",
              "\n",
              "    .dataframe thead th {\n",
              "        text-align: right;\n",
              "    }\n",
              "</style>\n",
              "<table border=\"1\" class=\"dataframe\">\n",
              "  <thead>\n",
              "    <tr style=\"text-align: right;\">\n",
              "      <th></th>\n",
              "      <th>행정구역(동읍면)별</th>\n",
              "      <th>합계</th>\n",
              "      <th>50 - 54세</th>\n",
              "      <th>55 - 59세</th>\n",
              "      <th>60 - 64세</th>\n",
              "      <th>65 - 69세</th>\n",
              "      <th>70 - 74세</th>\n",
              "      <th>75 - 79세</th>\n",
              "      <th>80 - 84세</th>\n",
              "      <th>85 - 89세</th>\n",
              "      <th>90 - 94세</th>\n",
              "      <th>95 - 99세</th>\n",
              "      <th>100+</th>\n",
              "      <th>고령인구 합계</th>\n",
              "      <th>구간 합계</th>\n",
              "    </tr>\n",
              "  </thead>\n",
              "  <tbody>\n",
              "    <tr>\n",
              "      <th>0</th>\n",
              "      <td>부산광역시</td>\n",
              "      <td>3356311</td>\n",
              "      <td>284015</td>\n",
              "      <td>271887</td>\n",
              "      <td>305573</td>\n",
              "      <td>242157</td>\n",
              "      <td>173938</td>\n",
              "      <td>122955</td>\n",
              "      <td>83699</td>\n",
              "      <td>38587</td>\n",
              "      <td>12632</td>\n",
              "      <td>2565</td>\n",
              "      <td>681</td>\n",
              "      <td>677214</td>\n",
              "      <td>1538689</td>\n",
              "    </tr>\n",
              "    <tr>\n",
              "      <th>1</th>\n",
              "      <td>중구</td>\n",
              "      <td>40676</td>\n",
              "      <td>3386</td>\n",
              "      <td>3387</td>\n",
              "      <td>4202</td>\n",
              "      <td>3692</td>\n",
              "      <td>2773</td>\n",
              "      <td>2180</td>\n",
              "      <td>1484</td>\n",
              "      <td>661</td>\n",
              "      <td>260</td>\n",
              "      <td>62</td>\n",
              "      <td>16</td>\n",
              "      <td>11128</td>\n",
              "      <td>22103</td>\n",
              "    </tr>\n",
              "    <tr>\n",
              "      <th>2</th>\n",
              "      <td>중앙동</td>\n",
              "      <td>2865</td>\n",
              "      <td>193</td>\n",
              "      <td>174</td>\n",
              "      <td>200</td>\n",
              "      <td>176</td>\n",
              "      <td>112</td>\n",
              "      <td>78</td>\n",
              "      <td>54</td>\n",
              "      <td>30</td>\n",
              "      <td>13</td>\n",
              "      <td>3</td>\n",
              "      <td>0</td>\n",
              "      <td>466</td>\n",
              "      <td>1033</td>\n",
              "    </tr>\n",
              "    <tr>\n",
              "      <th>3</th>\n",
              "      <td>동광동</td>\n",
              "      <td>2684</td>\n",
              "      <td>228</td>\n",
              "      <td>244</td>\n",
              "      <td>304</td>\n",
              "      <td>255</td>\n",
              "      <td>237</td>\n",
              "      <td>191</td>\n",
              "      <td>129</td>\n",
              "      <td>61</td>\n",
              "      <td>28</td>\n",
              "      <td>6</td>\n",
              "      <td>1</td>\n",
              "      <td>908</td>\n",
              "      <td>1684</td>\n",
              "    </tr>\n",
              "    <tr>\n",
              "      <th>4</th>\n",
              "      <td>대청동</td>\n",
              "      <td>6298</td>\n",
              "      <td>508</td>\n",
              "      <td>522</td>\n",
              "      <td>676</td>\n",
              "      <td>497</td>\n",
              "      <td>404</td>\n",
              "      <td>346</td>\n",
              "      <td>206</td>\n",
              "      <td>95</td>\n",
              "      <td>52</td>\n",
              "      <td>13</td>\n",
              "      <td>2</td>\n",
              "      <td>1615</td>\n",
              "      <td>3321</td>\n",
              "    </tr>\n",
              "  </tbody>\n",
              "</table>\n",
              "</div>\n",
              "      <button class=\"colab-df-convert\" onclick=\"convertToInteractive('df-e62a223e-ec5f-4882-9ecb-ab2cfc4c1f2e')\"\n",
              "              title=\"Convert this dataframe to an interactive table.\"\n",
              "              style=\"display:none;\">\n",
              "        \n",
              "  <svg xmlns=\"http://www.w3.org/2000/svg\" height=\"24px\"viewBox=\"0 0 24 24\"\n",
              "       width=\"24px\">\n",
              "    <path d=\"M0 0h24v24H0V0z\" fill=\"none\"/>\n",
              "    <path d=\"M18.56 5.44l.94 2.06.94-2.06 2.06-.94-2.06-.94-.94-2.06-.94 2.06-2.06.94zm-11 1L8.5 8.5l.94-2.06 2.06-.94-2.06-.94L8.5 2.5l-.94 2.06-2.06.94zm10 10l.94 2.06.94-2.06 2.06-.94-2.06-.94-.94-2.06-.94 2.06-2.06.94z\"/><path d=\"M17.41 7.96l-1.37-1.37c-.4-.4-.92-.59-1.43-.59-.52 0-1.04.2-1.43.59L10.3 9.45l-7.72 7.72c-.78.78-.78 2.05 0 2.83L4 21.41c.39.39.9.59 1.41.59.51 0 1.02-.2 1.41-.59l7.78-7.78 2.81-2.81c.8-.78.8-2.07 0-2.86zM5.41 20L4 18.59l7.72-7.72 1.47 1.35L5.41 20z\"/>\n",
              "  </svg>\n",
              "      </button>\n",
              "      \n",
              "  <style>\n",
              "    .colab-df-container {\n",
              "      display:flex;\n",
              "      flex-wrap:wrap;\n",
              "      gap: 12px;\n",
              "    }\n",
              "\n",
              "    .colab-df-convert {\n",
              "      background-color: #E8F0FE;\n",
              "      border: none;\n",
              "      border-radius: 50%;\n",
              "      cursor: pointer;\n",
              "      display: none;\n",
              "      fill: #1967D2;\n",
              "      height: 32px;\n",
              "      padding: 0 0 0 0;\n",
              "      width: 32px;\n",
              "    }\n",
              "\n",
              "    .colab-df-convert:hover {\n",
              "      background-color: #E2EBFA;\n",
              "      box-shadow: 0px 1px 2px rgba(60, 64, 67, 0.3), 0px 1px 3px 1px rgba(60, 64, 67, 0.15);\n",
              "      fill: #174EA6;\n",
              "    }\n",
              "\n",
              "    [theme=dark] .colab-df-convert {\n",
              "      background-color: #3B4455;\n",
              "      fill: #D2E3FC;\n",
              "    }\n",
              "\n",
              "    [theme=dark] .colab-df-convert:hover {\n",
              "      background-color: #434B5C;\n",
              "      box-shadow: 0px 1px 3px 1px rgba(0, 0, 0, 0.15);\n",
              "      filter: drop-shadow(0px 1px 2px rgba(0, 0, 0, 0.3));\n",
              "      fill: #FFFFFF;\n",
              "    }\n",
              "  </style>\n",
              "\n",
              "      <script>\n",
              "        const buttonEl =\n",
              "          document.querySelector('#df-e62a223e-ec5f-4882-9ecb-ab2cfc4c1f2e button.colab-df-convert');\n",
              "        buttonEl.style.display =\n",
              "          google.colab.kernel.accessAllowed ? 'block' : 'none';\n",
              "\n",
              "        async function convertToInteractive(key) {\n",
              "          const element = document.querySelector('#df-e62a223e-ec5f-4882-9ecb-ab2cfc4c1f2e');\n",
              "          const dataTable =\n",
              "            await google.colab.kernel.invokeFunction('convertToInteractive',\n",
              "                                                     [key], {});\n",
              "          if (!dataTable) return;\n",
              "\n",
              "          const docLinkHtml = 'Like what you see? Visit the ' +\n",
              "            '<a target=\"_blank\" href=https://colab.research.google.com/notebooks/data_table.ipynb>data table notebook</a>'\n",
              "            + ' to learn more about interactive tables.';\n",
              "          element.innerHTML = '';\n",
              "          dataTable['output_type'] = 'display_data';\n",
              "          await google.colab.output.renderOutput(dataTable, element);\n",
              "          const docLink = document.createElement('div');\n",
              "          docLink.innerHTML = docLinkHtml;\n",
              "          element.appendChild(docLink);\n",
              "        }\n",
              "      </script>\n",
              "    </div>\n",
              "  </div>\n",
              "  "
            ]
          },
          "metadata": {},
          "execution_count": 75
        }
      ],
      "source": [
        "df_population = pd.read_csv(\"/2020_부산-50~100.csv\",encoding='UTF-8')\n",
        "df_population.head(5)"
      ]
    },
    {
      "cell_type": "markdown",
      "metadata": {
        "id": "274rPaFe0l1_"
      },
      "source": [
        "부산_경로당_이용률.csv 로드"
      ]
    },
    {
      "cell_type": "code",
      "execution_count": 76,
      "metadata": {
        "colab": {
          "base_uri": "https://localhost:8080/",
          "height": 206
        },
        "id": "WevjWX0zrcIf",
        "outputId": "f766d0bb-67f5-4863-f615-d9d703247d5e"
      },
      "outputs": [
        {
          "output_type": "execute_result",
          "data": {
            "text/plain": [
              "     구분  경로당 1개소 당 등록자 수  전체 노인 중 경로당 이용 비율  전체 인구 중 노인 비율\n",
              "0    중구             43.2               12.5           24.2\n",
              "1    서구             26.2                7.6           22.8\n",
              "2    동구             30.7                9.6           24.6\n",
              "3   영도구             35.2                8.1           24.2\n",
              "4  부산진구             31.9               15.0           17.8"
            ],
            "text/html": [
              "\n",
              "  <div id=\"df-1cf4c93c-b381-4e00-905d-918125fa33b0\">\n",
              "    <div class=\"colab-df-container\">\n",
              "      <div>\n",
              "<style scoped>\n",
              "    .dataframe tbody tr th:only-of-type {\n",
              "        vertical-align: middle;\n",
              "    }\n",
              "\n",
              "    .dataframe tbody tr th {\n",
              "        vertical-align: top;\n",
              "    }\n",
              "\n",
              "    .dataframe thead th {\n",
              "        text-align: right;\n",
              "    }\n",
              "</style>\n",
              "<table border=\"1\" class=\"dataframe\">\n",
              "  <thead>\n",
              "    <tr style=\"text-align: right;\">\n",
              "      <th></th>\n",
              "      <th>구분</th>\n",
              "      <th>경로당 1개소 당 등록자 수</th>\n",
              "      <th>전체 노인 중 경로당 이용 비율</th>\n",
              "      <th>전체 인구 중 노인 비율</th>\n",
              "    </tr>\n",
              "  </thead>\n",
              "  <tbody>\n",
              "    <tr>\n",
              "      <th>0</th>\n",
              "      <td>중구</td>\n",
              "      <td>43.2</td>\n",
              "      <td>12.5</td>\n",
              "      <td>24.2</td>\n",
              "    </tr>\n",
              "    <tr>\n",
              "      <th>1</th>\n",
              "      <td>서구</td>\n",
              "      <td>26.2</td>\n",
              "      <td>7.6</td>\n",
              "      <td>22.8</td>\n",
              "    </tr>\n",
              "    <tr>\n",
              "      <th>2</th>\n",
              "      <td>동구</td>\n",
              "      <td>30.7</td>\n",
              "      <td>9.6</td>\n",
              "      <td>24.6</td>\n",
              "    </tr>\n",
              "    <tr>\n",
              "      <th>3</th>\n",
              "      <td>영도구</td>\n",
              "      <td>35.2</td>\n",
              "      <td>8.1</td>\n",
              "      <td>24.2</td>\n",
              "    </tr>\n",
              "    <tr>\n",
              "      <th>4</th>\n",
              "      <td>부산진구</td>\n",
              "      <td>31.9</td>\n",
              "      <td>15.0</td>\n",
              "      <td>17.8</td>\n",
              "    </tr>\n",
              "  </tbody>\n",
              "</table>\n",
              "</div>\n",
              "      <button class=\"colab-df-convert\" onclick=\"convertToInteractive('df-1cf4c93c-b381-4e00-905d-918125fa33b0')\"\n",
              "              title=\"Convert this dataframe to an interactive table.\"\n",
              "              style=\"display:none;\">\n",
              "        \n",
              "  <svg xmlns=\"http://www.w3.org/2000/svg\" height=\"24px\"viewBox=\"0 0 24 24\"\n",
              "       width=\"24px\">\n",
              "    <path d=\"M0 0h24v24H0V0z\" fill=\"none\"/>\n",
              "    <path d=\"M18.56 5.44l.94 2.06.94-2.06 2.06-.94-2.06-.94-.94-2.06-.94 2.06-2.06.94zm-11 1L8.5 8.5l.94-2.06 2.06-.94-2.06-.94L8.5 2.5l-.94 2.06-2.06.94zm10 10l.94 2.06.94-2.06 2.06-.94-2.06-.94-.94-2.06-.94 2.06-2.06.94z\"/><path d=\"M17.41 7.96l-1.37-1.37c-.4-.4-.92-.59-1.43-.59-.52 0-1.04.2-1.43.59L10.3 9.45l-7.72 7.72c-.78.78-.78 2.05 0 2.83L4 21.41c.39.39.9.59 1.41.59.51 0 1.02-.2 1.41-.59l7.78-7.78 2.81-2.81c.8-.78.8-2.07 0-2.86zM5.41 20L4 18.59l7.72-7.72 1.47 1.35L5.41 20z\"/>\n",
              "  </svg>\n",
              "      </button>\n",
              "      \n",
              "  <style>\n",
              "    .colab-df-container {\n",
              "      display:flex;\n",
              "      flex-wrap:wrap;\n",
              "      gap: 12px;\n",
              "    }\n",
              "\n",
              "    .colab-df-convert {\n",
              "      background-color: #E8F0FE;\n",
              "      border: none;\n",
              "      border-radius: 50%;\n",
              "      cursor: pointer;\n",
              "      display: none;\n",
              "      fill: #1967D2;\n",
              "      height: 32px;\n",
              "      padding: 0 0 0 0;\n",
              "      width: 32px;\n",
              "    }\n",
              "\n",
              "    .colab-df-convert:hover {\n",
              "      background-color: #E2EBFA;\n",
              "      box-shadow: 0px 1px 2px rgba(60, 64, 67, 0.3), 0px 1px 3px 1px rgba(60, 64, 67, 0.15);\n",
              "      fill: #174EA6;\n",
              "    }\n",
              "\n",
              "    [theme=dark] .colab-df-convert {\n",
              "      background-color: #3B4455;\n",
              "      fill: #D2E3FC;\n",
              "    }\n",
              "\n",
              "    [theme=dark] .colab-df-convert:hover {\n",
              "      background-color: #434B5C;\n",
              "      box-shadow: 0px 1px 3px 1px rgba(0, 0, 0, 0.15);\n",
              "      filter: drop-shadow(0px 1px 2px rgba(0, 0, 0, 0.3));\n",
              "      fill: #FFFFFF;\n",
              "    }\n",
              "  </style>\n",
              "\n",
              "      <script>\n",
              "        const buttonEl =\n",
              "          document.querySelector('#df-1cf4c93c-b381-4e00-905d-918125fa33b0 button.colab-df-convert');\n",
              "        buttonEl.style.display =\n",
              "          google.colab.kernel.accessAllowed ? 'block' : 'none';\n",
              "\n",
              "        async function convertToInteractive(key) {\n",
              "          const element = document.querySelector('#df-1cf4c93c-b381-4e00-905d-918125fa33b0');\n",
              "          const dataTable =\n",
              "            await google.colab.kernel.invokeFunction('convertToInteractive',\n",
              "                                                     [key], {});\n",
              "          if (!dataTable) return;\n",
              "\n",
              "          const docLinkHtml = 'Like what you see? Visit the ' +\n",
              "            '<a target=\"_blank\" href=https://colab.research.google.com/notebooks/data_table.ipynb>data table notebook</a>'\n",
              "            + ' to learn more about interactive tables.';\n",
              "          element.innerHTML = '';\n",
              "          dataTable['output_type'] = 'display_data';\n",
              "          await google.colab.output.renderOutput(dataTable, element);\n",
              "          const docLink = document.createElement('div');\n",
              "          docLink.innerHTML = docLinkHtml;\n",
              "          element.appendChild(docLink);\n",
              "        }\n",
              "      </script>\n",
              "    </div>\n",
              "  </div>\n",
              "  "
            ]
          },
          "metadata": {},
          "execution_count": 76
        }
      ],
      "source": [
        "df_sc_members = pd.read_csv(\"/경로당 등록자 수.csv\",encoding='UTF-8')\n",
        "df_sc_members.head(5)"
      ]
    },
    {
      "cell_type": "code",
      "execution_count": 77,
      "metadata": {
        "colab": {
          "base_uri": "https://localhost:8080/"
        },
        "id": "3bXlk5PBeLzx",
        "outputId": "d56c9edc-6338-46ba-c577-fa66f58e8d0c"
      },
      "outputs": [
        {
          "output_type": "execute_result",
          "data": {
            "text/plain": [
              "Index(['행정구역(동읍면)별', '합계', '50 - 54세', '55 - 59세', '60 - 64세', '65 - 69세',\n",
              "       '70 - 74세', '75 - 79세', '80 - 84세', '85 - 89세', '90 - 94세', '95 - 99세',\n",
              "       '100+', '고령인구 합계', '구간 합계'],\n",
              "      dtype='object')"
            ]
          },
          "metadata": {},
          "execution_count": 77
        }
      ],
      "source": [
        "# 칼럼 분석 - 지역별로 노인 나잇대의 분포를 나타내는 파일\n",
        "df_population.columns"
      ]
    },
    {
      "cell_type": "markdown",
      "metadata": {
        "id": "U5AKbZaQ0w_f"
      },
      "source": [
        "2021_부산_경로당_현황.csv 로드"
      ]
    },
    {
      "cell_type": "code",
      "execution_count": 78,
      "metadata": {
        "colab": {
          "base_uri": "https://localhost:8080/",
          "height": 206
        },
        "id": "9zyhHBZHrcIl",
        "outputId": "7c4d1d10-12bd-448a-e416-d7ed0b188321"
      },
      "outputs": [
        {
          "output_type": "execute_result",
          "data": {
            "text/plain": [
              "  관리기관명       경로당명                     소재지           연락처         위도  \\\n",
              "0    중구     중앙동경로당  부산광역시 중구 중앙대로115번길 1-6  051-468-9982  35.107847   \n",
              "1    중구     동광동경로당          부산광역시 중구 샘길 12  051-463-1936  35.106433   \n",
              "2    중구  동광동할머니경로당    부산광역시 중구 동광길111번길 11  051-468-5226  35.107908   \n",
              "3    중구    대청만우경로당    부산광역시 중구 중구로91번안길 15  051-469-8070  35.105218   \n",
              "4    중구    대청화목경로당        부산광역시 중구 대청북길 14  051-463-1535  35.105313   \n",
              "\n",
              "           경도          X좌표          Y좌표  읍면동  \n",
              "0  129.035834  1139967.538  1680263.547  중앙동  \n",
              "1  129.032937  1139707.362  1680106.115  대청동  \n",
              "2  129.035004  1139893.576  1680274.849  동광동  \n",
              "3  129.029732  1139416.849  1679966.393  대청동  \n",
              "4  129.028792  1139331.558  1679976.204  대청동  "
            ],
            "text/html": [
              "\n",
              "  <div id=\"df-5748cd88-5bec-4d17-b689-4fd5fd68c722\">\n",
              "    <div class=\"colab-df-container\">\n",
              "      <div>\n",
              "<style scoped>\n",
              "    .dataframe tbody tr th:only-of-type {\n",
              "        vertical-align: middle;\n",
              "    }\n",
              "\n",
              "    .dataframe tbody tr th {\n",
              "        vertical-align: top;\n",
              "    }\n",
              "\n",
              "    .dataframe thead th {\n",
              "        text-align: right;\n",
              "    }\n",
              "</style>\n",
              "<table border=\"1\" class=\"dataframe\">\n",
              "  <thead>\n",
              "    <tr style=\"text-align: right;\">\n",
              "      <th></th>\n",
              "      <th>관리기관명</th>\n",
              "      <th>경로당명</th>\n",
              "      <th>소재지</th>\n",
              "      <th>연락처</th>\n",
              "      <th>위도</th>\n",
              "      <th>경도</th>\n",
              "      <th>X좌표</th>\n",
              "      <th>Y좌표</th>\n",
              "      <th>읍면동</th>\n",
              "    </tr>\n",
              "  </thead>\n",
              "  <tbody>\n",
              "    <tr>\n",
              "      <th>0</th>\n",
              "      <td>중구</td>\n",
              "      <td>중앙동경로당</td>\n",
              "      <td>부산광역시 중구 중앙대로115번길 1-6</td>\n",
              "      <td>051-468-9982</td>\n",
              "      <td>35.107847</td>\n",
              "      <td>129.035834</td>\n",
              "      <td>1139967.538</td>\n",
              "      <td>1680263.547</td>\n",
              "      <td>중앙동</td>\n",
              "    </tr>\n",
              "    <tr>\n",
              "      <th>1</th>\n",
              "      <td>중구</td>\n",
              "      <td>동광동경로당</td>\n",
              "      <td>부산광역시 중구 샘길 12</td>\n",
              "      <td>051-463-1936</td>\n",
              "      <td>35.106433</td>\n",
              "      <td>129.032937</td>\n",
              "      <td>1139707.362</td>\n",
              "      <td>1680106.115</td>\n",
              "      <td>대청동</td>\n",
              "    </tr>\n",
              "    <tr>\n",
              "      <th>2</th>\n",
              "      <td>중구</td>\n",
              "      <td>동광동할머니경로당</td>\n",
              "      <td>부산광역시 중구 동광길111번길 11</td>\n",
              "      <td>051-468-5226</td>\n",
              "      <td>35.107908</td>\n",
              "      <td>129.035004</td>\n",
              "      <td>1139893.576</td>\n",
              "      <td>1680274.849</td>\n",
              "      <td>동광동</td>\n",
              "    </tr>\n",
              "    <tr>\n",
              "      <th>3</th>\n",
              "      <td>중구</td>\n",
              "      <td>대청만우경로당</td>\n",
              "      <td>부산광역시 중구 중구로91번안길 15</td>\n",
              "      <td>051-469-8070</td>\n",
              "      <td>35.105218</td>\n",
              "      <td>129.029732</td>\n",
              "      <td>1139416.849</td>\n",
              "      <td>1679966.393</td>\n",
              "      <td>대청동</td>\n",
              "    </tr>\n",
              "    <tr>\n",
              "      <th>4</th>\n",
              "      <td>중구</td>\n",
              "      <td>대청화목경로당</td>\n",
              "      <td>부산광역시 중구 대청북길 14</td>\n",
              "      <td>051-463-1535</td>\n",
              "      <td>35.105313</td>\n",
              "      <td>129.028792</td>\n",
              "      <td>1139331.558</td>\n",
              "      <td>1679976.204</td>\n",
              "      <td>대청동</td>\n",
              "    </tr>\n",
              "  </tbody>\n",
              "</table>\n",
              "</div>\n",
              "      <button class=\"colab-df-convert\" onclick=\"convertToInteractive('df-5748cd88-5bec-4d17-b689-4fd5fd68c722')\"\n",
              "              title=\"Convert this dataframe to an interactive table.\"\n",
              "              style=\"display:none;\">\n",
              "        \n",
              "  <svg xmlns=\"http://www.w3.org/2000/svg\" height=\"24px\"viewBox=\"0 0 24 24\"\n",
              "       width=\"24px\">\n",
              "    <path d=\"M0 0h24v24H0V0z\" fill=\"none\"/>\n",
              "    <path d=\"M18.56 5.44l.94 2.06.94-2.06 2.06-.94-2.06-.94-.94-2.06-.94 2.06-2.06.94zm-11 1L8.5 8.5l.94-2.06 2.06-.94-2.06-.94L8.5 2.5l-.94 2.06-2.06.94zm10 10l.94 2.06.94-2.06 2.06-.94-2.06-.94-.94-2.06-.94 2.06-2.06.94z\"/><path d=\"M17.41 7.96l-1.37-1.37c-.4-.4-.92-.59-1.43-.59-.52 0-1.04.2-1.43.59L10.3 9.45l-7.72 7.72c-.78.78-.78 2.05 0 2.83L4 21.41c.39.39.9.59 1.41.59.51 0 1.02-.2 1.41-.59l7.78-7.78 2.81-2.81c.8-.78.8-2.07 0-2.86zM5.41 20L4 18.59l7.72-7.72 1.47 1.35L5.41 20z\"/>\n",
              "  </svg>\n",
              "      </button>\n",
              "      \n",
              "  <style>\n",
              "    .colab-df-container {\n",
              "      display:flex;\n",
              "      flex-wrap:wrap;\n",
              "      gap: 12px;\n",
              "    }\n",
              "\n",
              "    .colab-df-convert {\n",
              "      background-color: #E8F0FE;\n",
              "      border: none;\n",
              "      border-radius: 50%;\n",
              "      cursor: pointer;\n",
              "      display: none;\n",
              "      fill: #1967D2;\n",
              "      height: 32px;\n",
              "      padding: 0 0 0 0;\n",
              "      width: 32px;\n",
              "    }\n",
              "\n",
              "    .colab-df-convert:hover {\n",
              "      background-color: #E2EBFA;\n",
              "      box-shadow: 0px 1px 2px rgba(60, 64, 67, 0.3), 0px 1px 3px 1px rgba(60, 64, 67, 0.15);\n",
              "      fill: #174EA6;\n",
              "    }\n",
              "\n",
              "    [theme=dark] .colab-df-convert {\n",
              "      background-color: #3B4455;\n",
              "      fill: #D2E3FC;\n",
              "    }\n",
              "\n",
              "    [theme=dark] .colab-df-convert:hover {\n",
              "      background-color: #434B5C;\n",
              "      box-shadow: 0px 1px 3px 1px rgba(0, 0, 0, 0.15);\n",
              "      filter: drop-shadow(0px 1px 2px rgba(0, 0, 0, 0.3));\n",
              "      fill: #FFFFFF;\n",
              "    }\n",
              "  </style>\n",
              "\n",
              "      <script>\n",
              "        const buttonEl =\n",
              "          document.querySelector('#df-5748cd88-5bec-4d17-b689-4fd5fd68c722 button.colab-df-convert');\n",
              "        buttonEl.style.display =\n",
              "          google.colab.kernel.accessAllowed ? 'block' : 'none';\n",
              "\n",
              "        async function convertToInteractive(key) {\n",
              "          const element = document.querySelector('#df-5748cd88-5bec-4d17-b689-4fd5fd68c722');\n",
              "          const dataTable =\n",
              "            await google.colab.kernel.invokeFunction('convertToInteractive',\n",
              "                                                     [key], {});\n",
              "          if (!dataTable) return;\n",
              "\n",
              "          const docLinkHtml = 'Like what you see? Visit the ' +\n",
              "            '<a target=\"_blank\" href=https://colab.research.google.com/notebooks/data_table.ipynb>data table notebook</a>'\n",
              "            + ' to learn more about interactive tables.';\n",
              "          element.innerHTML = '';\n",
              "          dataTable['output_type'] = 'display_data';\n",
              "          await google.colab.output.renderOutput(dataTable, element);\n",
              "          const docLink = document.createElement('div');\n",
              "          docLink.innerHTML = docLinkHtml;\n",
              "          element.appendChild(docLink);\n",
              "        }\n",
              "      </script>\n",
              "    </div>\n",
              "  </div>\n",
              "  "
            ]
          },
          "metadata": {},
          "execution_count": 78
        }
      ],
      "source": [
        "df_busan_senior_centers = pd.read_csv(\"/부산광역시_경로당현황_2021.csv\",encoding='cp949')\n",
        "df_busan_senior_centers.head(5)"
      ]
    },
    {
      "cell_type": "markdown",
      "metadata": {
        "id": "vG8-Ns2KeoTZ"
      },
      "source": [
        "데이터를 분석"
      ]
    },
    {
      "cell_type": "code",
      "execution_count": 79,
      "metadata": {
        "id": "XejUlvE_dvXV"
      },
      "outputs": [],
      "source": [
        "# df_population - 인구 현황\n",
        "# df_sc_members - 경로당 이용률\n",
        "# df_busan_senior_centers - 경로당 현황"
      ]
    },
    {
      "cell_type": "code",
      "execution_count": 80,
      "metadata": {
        "colab": {
          "base_uri": "https://localhost:8080/"
        },
        "id": "PWLKhV6jdxJ_",
        "outputId": "75c900fe-87ab-431d-f58c-2e34675300a7"
      },
      "outputs": [
        {
          "output_type": "stream",
          "name": "stdout",
          "text": [
            "부산 인구 현황: (222, 15)\n",
            "부산 경로당 통계: (16, 4)\n",
            "부산 경로당 정보: (2310, 9)\n"
          ]
        }
      ],
      "source": [
        "# 각 데이터의 (행 개수, 열 개수)\n",
        "print(\"부산 인구 현황:\",df_population.shape)\n",
        "print(\"부산 경로당 통계:\",df_sc_members.shape)\n",
        "print(\"부산 경로당 정보:\",df_busan_senior_centers.shape)"
      ]
    },
    {
      "cell_type": "code",
      "execution_count": 81,
      "metadata": {
        "colab": {
          "base_uri": "https://localhost:8080/"
        },
        "id": "T-R0-szvd6kx",
        "outputId": "a8e6ca32-0128-4a2b-c2d4-7b599698810e"
      },
      "outputs": [
        {
          "output_type": "stream",
          "name": "stdout",
          "text": [
            "부산 인구 현황: Index(['행정구역(동읍면)별', '합계', '50 - 54세', '55 - 59세', '60 - 64세', '65 - 69세',\n",
            "       '70 - 74세', '75 - 79세', '80 - 84세', '85 - 89세', '90 - 94세', '95 - 99세',\n",
            "       '100+', '고령인구 합계', '구간 합계'],\n",
            "      dtype='object') \n",
            "\n",
            "부산 경로당 통계: Index(['구분', '경로당 1개소 당 등록자 수', '전체 노인 중 경로당 이용 비율', '전체 인구 중 노인 비율'], dtype='object') \n",
            "\n",
            "부산 경로당 정보: Index(['관리기관명', '경로당명', '소재지', '연락처', '위도', '경도', 'X좌표', 'Y좌표', '읍면동'], dtype='object')\n"
          ]
        }
      ],
      "source": [
        "# 각 데이터의 열 인덱스 정보\n",
        "print(\"부산 인구 현황:\",df_population.columns,'\\n')\n",
        "print(\"부산 경로당 통계:\",df_sc_members.columns,'\\n')\n",
        "print(\"부산 경로당 정보:\",df_busan_senior_centers.columns)"
      ]
    },
    {
      "cell_type": "code",
      "execution_count": 82,
      "metadata": {
        "colab": {
          "base_uri": "https://localhost:8080/"
        },
        "id": "F_u_hSryeDCh",
        "outputId": "7147c5cd-3b48-425f-81c8-67264d1cbbd2"
      },
      "outputs": [
        {
          "output_type": "stream",
          "name": "stdout",
          "text": [
            "<class 'pandas.core.frame.DataFrame'>\n",
            "RangeIndex: 16 entries, 0 to 15\n",
            "Data columns (total 4 columns):\n",
            " #   Column             Non-Null Count  Dtype  \n",
            "---  ------             --------------  -----  \n",
            " 0   구분                 16 non-null     object \n",
            " 1   경로당 1개소 당 등록자 수    16 non-null     float64\n",
            " 2   전체 노인 중 경로당 이용 비율  16 non-null     float64\n",
            " 3   전체 인구 중 노인 비율      16 non-null     float64\n",
            "dtypes: float64(3), object(1)\n",
            "memory usage: 640.0+ bytes\n"
          ]
        }
      ],
      "source": [
        "df_sc_members.info()"
      ]
    },
    {
      "cell_type": "code",
      "execution_count": 83,
      "metadata": {
        "colab": {
          "base_uri": "https://localhost:8080/",
          "height": 424
        },
        "id": "XlQqNCYAeH9s",
        "outputId": "f654690e-f51a-4019-91a5-796f07c70443"
      },
      "outputs": [
        {
          "output_type": "execute_result",
          "data": {
            "text/plain": [
              "    행정구역(동읍면)별       합계  50 - 54세  55 - 59세  60 - 64세  65 - 69세  70 - 74세  \\\n",
              "0        부산광역시  3356311    284015    271887    305573    242157    173938   \n",
              "1           중구    40676      3386      3387      4202      3692      2773   \n",
              "2          중앙동     2865       193       174       200       176       112   \n",
              "3          동광동     2684       228       244       304       255       237   \n",
              "4          대청동     6298       508       522       676       497       404   \n",
              "..         ...      ...       ...       ...       ...       ...       ...   \n",
              "217        기장읍    52793      4938      4493      4771      3738      2852   \n",
              "218        장안읍     8598       710       792       947       756       538   \n",
              "219        정관읍    81798      5350      3487      3745      3309      2413   \n",
              "220        일광면    25805      1947      1849      1931      1330       989   \n",
              "221        철마면     7885       644       699       957       861       657   \n",
              "\n",
              "     75 - 79세  80 - 84세  85 - 89세  90 - 94세  95 - 99세  100+  고령인구 합계    구간 합계  \n",
              "0      122955     83699     38587     12632      2565   681   677214  1538689  \n",
              "1        2180      1484       661       260        62    16    11128    22103  \n",
              "2          78        54        30        13         3     0      466     1033  \n",
              "3         191       129        61        28         6     1      908     1684  \n",
              "4         346       206        95        52        13     2     1615     3321  \n",
              "..        ...       ...       ...       ...       ...   ...      ...      ...  \n",
              "217      2221      1596       775       249        68    11    11510    25712  \n",
              "218       412       328       190        70        20     5     2319     4768  \n",
              "219      1604       972       469       154        43     5     8969    21551  \n",
              "220       630       410       253        83        21     5     3721     9448  \n",
              "221       449       346       150        52         6     5     2526     4826  \n",
              "\n",
              "[222 rows x 15 columns]"
            ],
            "text/html": [
              "\n",
              "  <div id=\"df-0e55aabd-d276-4924-9ba3-6d035a574ff7\">\n",
              "    <div class=\"colab-df-container\">\n",
              "      <div>\n",
              "<style scoped>\n",
              "    .dataframe tbody tr th:only-of-type {\n",
              "        vertical-align: middle;\n",
              "    }\n",
              "\n",
              "    .dataframe tbody tr th {\n",
              "        vertical-align: top;\n",
              "    }\n",
              "\n",
              "    .dataframe thead th {\n",
              "        text-align: right;\n",
              "    }\n",
              "</style>\n",
              "<table border=\"1\" class=\"dataframe\">\n",
              "  <thead>\n",
              "    <tr style=\"text-align: right;\">\n",
              "      <th></th>\n",
              "      <th>행정구역(동읍면)별</th>\n",
              "      <th>합계</th>\n",
              "      <th>50 - 54세</th>\n",
              "      <th>55 - 59세</th>\n",
              "      <th>60 - 64세</th>\n",
              "      <th>65 - 69세</th>\n",
              "      <th>70 - 74세</th>\n",
              "      <th>75 - 79세</th>\n",
              "      <th>80 - 84세</th>\n",
              "      <th>85 - 89세</th>\n",
              "      <th>90 - 94세</th>\n",
              "      <th>95 - 99세</th>\n",
              "      <th>100+</th>\n",
              "      <th>고령인구 합계</th>\n",
              "      <th>구간 합계</th>\n",
              "    </tr>\n",
              "  </thead>\n",
              "  <tbody>\n",
              "    <tr>\n",
              "      <th>0</th>\n",
              "      <td>부산광역시</td>\n",
              "      <td>3356311</td>\n",
              "      <td>284015</td>\n",
              "      <td>271887</td>\n",
              "      <td>305573</td>\n",
              "      <td>242157</td>\n",
              "      <td>173938</td>\n",
              "      <td>122955</td>\n",
              "      <td>83699</td>\n",
              "      <td>38587</td>\n",
              "      <td>12632</td>\n",
              "      <td>2565</td>\n",
              "      <td>681</td>\n",
              "      <td>677214</td>\n",
              "      <td>1538689</td>\n",
              "    </tr>\n",
              "    <tr>\n",
              "      <th>1</th>\n",
              "      <td>중구</td>\n",
              "      <td>40676</td>\n",
              "      <td>3386</td>\n",
              "      <td>3387</td>\n",
              "      <td>4202</td>\n",
              "      <td>3692</td>\n",
              "      <td>2773</td>\n",
              "      <td>2180</td>\n",
              "      <td>1484</td>\n",
              "      <td>661</td>\n",
              "      <td>260</td>\n",
              "      <td>62</td>\n",
              "      <td>16</td>\n",
              "      <td>11128</td>\n",
              "      <td>22103</td>\n",
              "    </tr>\n",
              "    <tr>\n",
              "      <th>2</th>\n",
              "      <td>중앙동</td>\n",
              "      <td>2865</td>\n",
              "      <td>193</td>\n",
              "      <td>174</td>\n",
              "      <td>200</td>\n",
              "      <td>176</td>\n",
              "      <td>112</td>\n",
              "      <td>78</td>\n",
              "      <td>54</td>\n",
              "      <td>30</td>\n",
              "      <td>13</td>\n",
              "      <td>3</td>\n",
              "      <td>0</td>\n",
              "      <td>466</td>\n",
              "      <td>1033</td>\n",
              "    </tr>\n",
              "    <tr>\n",
              "      <th>3</th>\n",
              "      <td>동광동</td>\n",
              "      <td>2684</td>\n",
              "      <td>228</td>\n",
              "      <td>244</td>\n",
              "      <td>304</td>\n",
              "      <td>255</td>\n",
              "      <td>237</td>\n",
              "      <td>191</td>\n",
              "      <td>129</td>\n",
              "      <td>61</td>\n",
              "      <td>28</td>\n",
              "      <td>6</td>\n",
              "      <td>1</td>\n",
              "      <td>908</td>\n",
              "      <td>1684</td>\n",
              "    </tr>\n",
              "    <tr>\n",
              "      <th>4</th>\n",
              "      <td>대청동</td>\n",
              "      <td>6298</td>\n",
              "      <td>508</td>\n",
              "      <td>522</td>\n",
              "      <td>676</td>\n",
              "      <td>497</td>\n",
              "      <td>404</td>\n",
              "      <td>346</td>\n",
              "      <td>206</td>\n",
              "      <td>95</td>\n",
              "      <td>52</td>\n",
              "      <td>13</td>\n",
              "      <td>2</td>\n",
              "      <td>1615</td>\n",
              "      <td>3321</td>\n",
              "    </tr>\n",
              "    <tr>\n",
              "      <th>...</th>\n",
              "      <td>...</td>\n",
              "      <td>...</td>\n",
              "      <td>...</td>\n",
              "      <td>...</td>\n",
              "      <td>...</td>\n",
              "      <td>...</td>\n",
              "      <td>...</td>\n",
              "      <td>...</td>\n",
              "      <td>...</td>\n",
              "      <td>...</td>\n",
              "      <td>...</td>\n",
              "      <td>...</td>\n",
              "      <td>...</td>\n",
              "      <td>...</td>\n",
              "      <td>...</td>\n",
              "    </tr>\n",
              "    <tr>\n",
              "      <th>217</th>\n",
              "      <td>기장읍</td>\n",
              "      <td>52793</td>\n",
              "      <td>4938</td>\n",
              "      <td>4493</td>\n",
              "      <td>4771</td>\n",
              "      <td>3738</td>\n",
              "      <td>2852</td>\n",
              "      <td>2221</td>\n",
              "      <td>1596</td>\n",
              "      <td>775</td>\n",
              "      <td>249</td>\n",
              "      <td>68</td>\n",
              "      <td>11</td>\n",
              "      <td>11510</td>\n",
              "      <td>25712</td>\n",
              "    </tr>\n",
              "    <tr>\n",
              "      <th>218</th>\n",
              "      <td>장안읍</td>\n",
              "      <td>8598</td>\n",
              "      <td>710</td>\n",
              "      <td>792</td>\n",
              "      <td>947</td>\n",
              "      <td>756</td>\n",
              "      <td>538</td>\n",
              "      <td>412</td>\n",
              "      <td>328</td>\n",
              "      <td>190</td>\n",
              "      <td>70</td>\n",
              "      <td>20</td>\n",
              "      <td>5</td>\n",
              "      <td>2319</td>\n",
              "      <td>4768</td>\n",
              "    </tr>\n",
              "    <tr>\n",
              "      <th>219</th>\n",
              "      <td>정관읍</td>\n",
              "      <td>81798</td>\n",
              "      <td>5350</td>\n",
              "      <td>3487</td>\n",
              "      <td>3745</td>\n",
              "      <td>3309</td>\n",
              "      <td>2413</td>\n",
              "      <td>1604</td>\n",
              "      <td>972</td>\n",
              "      <td>469</td>\n",
              "      <td>154</td>\n",
              "      <td>43</td>\n",
              "      <td>5</td>\n",
              "      <td>8969</td>\n",
              "      <td>21551</td>\n",
              "    </tr>\n",
              "    <tr>\n",
              "      <th>220</th>\n",
              "      <td>일광면</td>\n",
              "      <td>25805</td>\n",
              "      <td>1947</td>\n",
              "      <td>1849</td>\n",
              "      <td>1931</td>\n",
              "      <td>1330</td>\n",
              "      <td>989</td>\n",
              "      <td>630</td>\n",
              "      <td>410</td>\n",
              "      <td>253</td>\n",
              "      <td>83</td>\n",
              "      <td>21</td>\n",
              "      <td>5</td>\n",
              "      <td>3721</td>\n",
              "      <td>9448</td>\n",
              "    </tr>\n",
              "    <tr>\n",
              "      <th>221</th>\n",
              "      <td>철마면</td>\n",
              "      <td>7885</td>\n",
              "      <td>644</td>\n",
              "      <td>699</td>\n",
              "      <td>957</td>\n",
              "      <td>861</td>\n",
              "      <td>657</td>\n",
              "      <td>449</td>\n",
              "      <td>346</td>\n",
              "      <td>150</td>\n",
              "      <td>52</td>\n",
              "      <td>6</td>\n",
              "      <td>5</td>\n",
              "      <td>2526</td>\n",
              "      <td>4826</td>\n",
              "    </tr>\n",
              "  </tbody>\n",
              "</table>\n",
              "<p>222 rows × 15 columns</p>\n",
              "</div>\n",
              "      <button class=\"colab-df-convert\" onclick=\"convertToInteractive('df-0e55aabd-d276-4924-9ba3-6d035a574ff7')\"\n",
              "              title=\"Convert this dataframe to an interactive table.\"\n",
              "              style=\"display:none;\">\n",
              "        \n",
              "  <svg xmlns=\"http://www.w3.org/2000/svg\" height=\"24px\"viewBox=\"0 0 24 24\"\n",
              "       width=\"24px\">\n",
              "    <path d=\"M0 0h24v24H0V0z\" fill=\"none\"/>\n",
              "    <path d=\"M18.56 5.44l.94 2.06.94-2.06 2.06-.94-2.06-.94-.94-2.06-.94 2.06-2.06.94zm-11 1L8.5 8.5l.94-2.06 2.06-.94-2.06-.94L8.5 2.5l-.94 2.06-2.06.94zm10 10l.94 2.06.94-2.06 2.06-.94-2.06-.94-.94-2.06-.94 2.06-2.06.94z\"/><path d=\"M17.41 7.96l-1.37-1.37c-.4-.4-.92-.59-1.43-.59-.52 0-1.04.2-1.43.59L10.3 9.45l-7.72 7.72c-.78.78-.78 2.05 0 2.83L4 21.41c.39.39.9.59 1.41.59.51 0 1.02-.2 1.41-.59l7.78-7.78 2.81-2.81c.8-.78.8-2.07 0-2.86zM5.41 20L4 18.59l7.72-7.72 1.47 1.35L5.41 20z\"/>\n",
              "  </svg>\n",
              "      </button>\n",
              "      \n",
              "  <style>\n",
              "    .colab-df-container {\n",
              "      display:flex;\n",
              "      flex-wrap:wrap;\n",
              "      gap: 12px;\n",
              "    }\n",
              "\n",
              "    .colab-df-convert {\n",
              "      background-color: #E8F0FE;\n",
              "      border: none;\n",
              "      border-radius: 50%;\n",
              "      cursor: pointer;\n",
              "      display: none;\n",
              "      fill: #1967D2;\n",
              "      height: 32px;\n",
              "      padding: 0 0 0 0;\n",
              "      width: 32px;\n",
              "    }\n",
              "\n",
              "    .colab-df-convert:hover {\n",
              "      background-color: #E2EBFA;\n",
              "      box-shadow: 0px 1px 2px rgba(60, 64, 67, 0.3), 0px 1px 3px 1px rgba(60, 64, 67, 0.15);\n",
              "      fill: #174EA6;\n",
              "    }\n",
              "\n",
              "    [theme=dark] .colab-df-convert {\n",
              "      background-color: #3B4455;\n",
              "      fill: #D2E3FC;\n",
              "    }\n",
              "\n",
              "    [theme=dark] .colab-df-convert:hover {\n",
              "      background-color: #434B5C;\n",
              "      box-shadow: 0px 1px 3px 1px rgba(0, 0, 0, 0.15);\n",
              "      filter: drop-shadow(0px 1px 2px rgba(0, 0, 0, 0.3));\n",
              "      fill: #FFFFFF;\n",
              "    }\n",
              "  </style>\n",
              "\n",
              "      <script>\n",
              "        const buttonEl =\n",
              "          document.querySelector('#df-0e55aabd-d276-4924-9ba3-6d035a574ff7 button.colab-df-convert');\n",
              "        buttonEl.style.display =\n",
              "          google.colab.kernel.accessAllowed ? 'block' : 'none';\n",
              "\n",
              "        async function convertToInteractive(key) {\n",
              "          const element = document.querySelector('#df-0e55aabd-d276-4924-9ba3-6d035a574ff7');\n",
              "          const dataTable =\n",
              "            await google.colab.kernel.invokeFunction('convertToInteractive',\n",
              "                                                     [key], {});\n",
              "          if (!dataTable) return;\n",
              "\n",
              "          const docLinkHtml = 'Like what you see? Visit the ' +\n",
              "            '<a target=\"_blank\" href=https://colab.research.google.com/notebooks/data_table.ipynb>data table notebook</a>'\n",
              "            + ' to learn more about interactive tables.';\n",
              "          element.innerHTML = '';\n",
              "          dataTable['output_type'] = 'display_data';\n",
              "          await google.colab.output.renderOutput(dataTable, element);\n",
              "          const docLink = document.createElement('div');\n",
              "          docLink.innerHTML = docLinkHtml;\n",
              "          element.appendChild(docLink);\n",
              "        }\n",
              "      </script>\n",
              "    </div>\n",
              "  </div>\n",
              "  "
            ]
          },
          "metadata": {},
          "execution_count": 83
        }
      ],
      "source": [
        "df_population"
      ]
    },
    {
      "cell_type": "code",
      "execution_count": 84,
      "metadata": {
        "colab": {
          "base_uri": "https://localhost:8080/"
        },
        "id": "pgXhc4b35FKs",
        "outputId": "b2c933bd-10b8-45a2-c1e9-ee89294066f9"
      },
      "outputs": [
        {
          "output_type": "stream",
          "name": "stdout",
          "text": [
            "<class 'pandas.core.frame.DataFrame'>\n",
            "RangeIndex: 222 entries, 0 to 221\n",
            "Data columns (total 15 columns):\n",
            " #   Column      Non-Null Count  Dtype \n",
            "---  ------      --------------  ----- \n",
            " 0   행정구역(동읍면)별  222 non-null    object\n",
            " 1   합계          222 non-null    int64 \n",
            " 2   50 - 54세    222 non-null    int64 \n",
            " 3   55 - 59세    222 non-null    int64 \n",
            " 4   60 - 64세    222 non-null    int64 \n",
            " 5   65 - 69세    222 non-null    int64 \n",
            " 6   70 - 74세    222 non-null    int64 \n",
            " 7   75 - 79세    222 non-null    int64 \n",
            " 8   80 - 84세    222 non-null    int64 \n",
            " 9   85 - 89세    222 non-null    int64 \n",
            " 10  90 - 94세    222 non-null    int64 \n",
            " 11  95 - 99세    222 non-null    int64 \n",
            " 12  100+        222 non-null    int64 \n",
            " 13  고령인구 합계     222 non-null    int64 \n",
            " 14  구간 합계       222 non-null    int64 \n",
            "dtypes: int64(14), object(1)\n",
            "memory usage: 26.1+ KB\n"
          ]
        }
      ],
      "source": [
        "# 인구 현황 파일의 데이터 칼럼타입\n",
        "df_population.info()"
      ]
    },
    {
      "cell_type": "code",
      "execution_count": 85,
      "metadata": {
        "colab": {
          "base_uri": "https://localhost:8080/"
        },
        "id": "-Cv8M6M6eY9w",
        "outputId": "f6dd714b-b272-495b-e972-10d1c3b3c893"
      },
      "outputs": [
        {
          "output_type": "stream",
          "name": "stdout",
          "text": [
            "<class 'pandas.core.frame.DataFrame'>\n",
            "RangeIndex: 2310 entries, 0 to 2309\n",
            "Data columns (total 9 columns):\n",
            " #   Column  Non-Null Count  Dtype  \n",
            "---  ------  --------------  -----  \n",
            " 0   관리기관명   2310 non-null   object \n",
            " 1   경로당명    2309 non-null   object \n",
            " 2   소재지     2309 non-null   object \n",
            " 3   연락처     1980 non-null   object \n",
            " 4   위도      2308 non-null   float64\n",
            " 5   경도      2308 non-null   float64\n",
            " 6   X좌표     2309 non-null   float64\n",
            " 7   Y좌표     2309 non-null   float64\n",
            " 8   읍면동     2310 non-null   object \n",
            "dtypes: float64(4), object(5)\n",
            "memory usage: 162.5+ KB\n"
          ]
        }
      ],
      "source": [
        "df_busan_senior_centers.info()"
      ]
    },
    {
      "cell_type": "code",
      "execution_count": 86,
      "metadata": {
        "colab": {
          "base_uri": "https://localhost:8080/",
          "height": 551
        },
        "id": "yhvt9CmFedTO",
        "outputId": "8600d9ba-223e-4dd8-d7e5-e625929a3efe"
      },
      "outputs": [
        {
          "output_type": "execute_result",
          "data": {
            "text/plain": [
              "      구분  경로당 1개소 당 등록자 수  전체 노인 중 경로당 이용 비율  전체 인구 중 노인 비율\n",
              "0     중구             43.2               12.5           24.2\n",
              "1     서구             26.2                7.6           22.8\n",
              "2     동구             30.7                9.6           24.6\n",
              "3    영도구             35.2                8.1           24.2\n",
              "4   부산진구             31.9               15.0           17.8\n",
              "5    동래구             39.8               13.0           16.6\n",
              "6     남구             34.0               10.0           17.9\n",
              "7     북구             29.9               10.4           14.5\n",
              "8   해운대구             39.9               14.2           15.3\n",
              "9    사하구             26.5                9.3           16.1\n",
              "10   금정구             41.0               11.2           18.2\n",
              "11   강서구             33.6               38.2           11.4\n",
              "12   연제구             33.9               11.7           17.0\n",
              "13   수영구             41.9               10.5           19.1\n",
              "14   사상구             33.1               16.2           15.3\n",
              "15   기장군             31.6               37.1           14.5"
            ],
            "text/html": [
              "\n",
              "  <div id=\"df-f62c9799-e206-4cbc-a9f1-5ccc712522d5\">\n",
              "    <div class=\"colab-df-container\">\n",
              "      <div>\n",
              "<style scoped>\n",
              "    .dataframe tbody tr th:only-of-type {\n",
              "        vertical-align: middle;\n",
              "    }\n",
              "\n",
              "    .dataframe tbody tr th {\n",
              "        vertical-align: top;\n",
              "    }\n",
              "\n",
              "    .dataframe thead th {\n",
              "        text-align: right;\n",
              "    }\n",
              "</style>\n",
              "<table border=\"1\" class=\"dataframe\">\n",
              "  <thead>\n",
              "    <tr style=\"text-align: right;\">\n",
              "      <th></th>\n",
              "      <th>구분</th>\n",
              "      <th>경로당 1개소 당 등록자 수</th>\n",
              "      <th>전체 노인 중 경로당 이용 비율</th>\n",
              "      <th>전체 인구 중 노인 비율</th>\n",
              "    </tr>\n",
              "  </thead>\n",
              "  <tbody>\n",
              "    <tr>\n",
              "      <th>0</th>\n",
              "      <td>중구</td>\n",
              "      <td>43.2</td>\n",
              "      <td>12.5</td>\n",
              "      <td>24.2</td>\n",
              "    </tr>\n",
              "    <tr>\n",
              "      <th>1</th>\n",
              "      <td>서구</td>\n",
              "      <td>26.2</td>\n",
              "      <td>7.6</td>\n",
              "      <td>22.8</td>\n",
              "    </tr>\n",
              "    <tr>\n",
              "      <th>2</th>\n",
              "      <td>동구</td>\n",
              "      <td>30.7</td>\n",
              "      <td>9.6</td>\n",
              "      <td>24.6</td>\n",
              "    </tr>\n",
              "    <tr>\n",
              "      <th>3</th>\n",
              "      <td>영도구</td>\n",
              "      <td>35.2</td>\n",
              "      <td>8.1</td>\n",
              "      <td>24.2</td>\n",
              "    </tr>\n",
              "    <tr>\n",
              "      <th>4</th>\n",
              "      <td>부산진구</td>\n",
              "      <td>31.9</td>\n",
              "      <td>15.0</td>\n",
              "      <td>17.8</td>\n",
              "    </tr>\n",
              "    <tr>\n",
              "      <th>5</th>\n",
              "      <td>동래구</td>\n",
              "      <td>39.8</td>\n",
              "      <td>13.0</td>\n",
              "      <td>16.6</td>\n",
              "    </tr>\n",
              "    <tr>\n",
              "      <th>6</th>\n",
              "      <td>남구</td>\n",
              "      <td>34.0</td>\n",
              "      <td>10.0</td>\n",
              "      <td>17.9</td>\n",
              "    </tr>\n",
              "    <tr>\n",
              "      <th>7</th>\n",
              "      <td>북구</td>\n",
              "      <td>29.9</td>\n",
              "      <td>10.4</td>\n",
              "      <td>14.5</td>\n",
              "    </tr>\n",
              "    <tr>\n",
              "      <th>8</th>\n",
              "      <td>해운대구</td>\n",
              "      <td>39.9</td>\n",
              "      <td>14.2</td>\n",
              "      <td>15.3</td>\n",
              "    </tr>\n",
              "    <tr>\n",
              "      <th>9</th>\n",
              "      <td>사하구</td>\n",
              "      <td>26.5</td>\n",
              "      <td>9.3</td>\n",
              "      <td>16.1</td>\n",
              "    </tr>\n",
              "    <tr>\n",
              "      <th>10</th>\n",
              "      <td>금정구</td>\n",
              "      <td>41.0</td>\n",
              "      <td>11.2</td>\n",
              "      <td>18.2</td>\n",
              "    </tr>\n",
              "    <tr>\n",
              "      <th>11</th>\n",
              "      <td>강서구</td>\n",
              "      <td>33.6</td>\n",
              "      <td>38.2</td>\n",
              "      <td>11.4</td>\n",
              "    </tr>\n",
              "    <tr>\n",
              "      <th>12</th>\n",
              "      <td>연제구</td>\n",
              "      <td>33.9</td>\n",
              "      <td>11.7</td>\n",
              "      <td>17.0</td>\n",
              "    </tr>\n",
              "    <tr>\n",
              "      <th>13</th>\n",
              "      <td>수영구</td>\n",
              "      <td>41.9</td>\n",
              "      <td>10.5</td>\n",
              "      <td>19.1</td>\n",
              "    </tr>\n",
              "    <tr>\n",
              "      <th>14</th>\n",
              "      <td>사상구</td>\n",
              "      <td>33.1</td>\n",
              "      <td>16.2</td>\n",
              "      <td>15.3</td>\n",
              "    </tr>\n",
              "    <tr>\n",
              "      <th>15</th>\n",
              "      <td>기장군</td>\n",
              "      <td>31.6</td>\n",
              "      <td>37.1</td>\n",
              "      <td>14.5</td>\n",
              "    </tr>\n",
              "  </tbody>\n",
              "</table>\n",
              "</div>\n",
              "      <button class=\"colab-df-convert\" onclick=\"convertToInteractive('df-f62c9799-e206-4cbc-a9f1-5ccc712522d5')\"\n",
              "              title=\"Convert this dataframe to an interactive table.\"\n",
              "              style=\"display:none;\">\n",
              "        \n",
              "  <svg xmlns=\"http://www.w3.org/2000/svg\" height=\"24px\"viewBox=\"0 0 24 24\"\n",
              "       width=\"24px\">\n",
              "    <path d=\"M0 0h24v24H0V0z\" fill=\"none\"/>\n",
              "    <path d=\"M18.56 5.44l.94 2.06.94-2.06 2.06-.94-2.06-.94-.94-2.06-.94 2.06-2.06.94zm-11 1L8.5 8.5l.94-2.06 2.06-.94-2.06-.94L8.5 2.5l-.94 2.06-2.06.94zm10 10l.94 2.06.94-2.06 2.06-.94-2.06-.94-.94-2.06-.94 2.06-2.06.94z\"/><path d=\"M17.41 7.96l-1.37-1.37c-.4-.4-.92-.59-1.43-.59-.52 0-1.04.2-1.43.59L10.3 9.45l-7.72 7.72c-.78.78-.78 2.05 0 2.83L4 21.41c.39.39.9.59 1.41.59.51 0 1.02-.2 1.41-.59l7.78-7.78 2.81-2.81c.8-.78.8-2.07 0-2.86zM5.41 20L4 18.59l7.72-7.72 1.47 1.35L5.41 20z\"/>\n",
              "  </svg>\n",
              "      </button>\n",
              "      \n",
              "  <style>\n",
              "    .colab-df-container {\n",
              "      display:flex;\n",
              "      flex-wrap:wrap;\n",
              "      gap: 12px;\n",
              "    }\n",
              "\n",
              "    .colab-df-convert {\n",
              "      background-color: #E8F0FE;\n",
              "      border: none;\n",
              "      border-radius: 50%;\n",
              "      cursor: pointer;\n",
              "      display: none;\n",
              "      fill: #1967D2;\n",
              "      height: 32px;\n",
              "      padding: 0 0 0 0;\n",
              "      width: 32px;\n",
              "    }\n",
              "\n",
              "    .colab-df-convert:hover {\n",
              "      background-color: #E2EBFA;\n",
              "      box-shadow: 0px 1px 2px rgba(60, 64, 67, 0.3), 0px 1px 3px 1px rgba(60, 64, 67, 0.15);\n",
              "      fill: #174EA6;\n",
              "    }\n",
              "\n",
              "    [theme=dark] .colab-df-convert {\n",
              "      background-color: #3B4455;\n",
              "      fill: #D2E3FC;\n",
              "    }\n",
              "\n",
              "    [theme=dark] .colab-df-convert:hover {\n",
              "      background-color: #434B5C;\n",
              "      box-shadow: 0px 1px 3px 1px rgba(0, 0, 0, 0.15);\n",
              "      filter: drop-shadow(0px 1px 2px rgba(0, 0, 0, 0.3));\n",
              "      fill: #FFFFFF;\n",
              "    }\n",
              "  </style>\n",
              "\n",
              "      <script>\n",
              "        const buttonEl =\n",
              "          document.querySelector('#df-f62c9799-e206-4cbc-a9f1-5ccc712522d5 button.colab-df-convert');\n",
              "        buttonEl.style.display =\n",
              "          google.colab.kernel.accessAllowed ? 'block' : 'none';\n",
              "\n",
              "        async function convertToInteractive(key) {\n",
              "          const element = document.querySelector('#df-f62c9799-e206-4cbc-a9f1-5ccc712522d5');\n",
              "          const dataTable =\n",
              "            await google.colab.kernel.invokeFunction('convertToInteractive',\n",
              "                                                     [key], {});\n",
              "          if (!dataTable) return;\n",
              "\n",
              "          const docLinkHtml = 'Like what you see? Visit the ' +\n",
              "            '<a target=\"_blank\" href=https://colab.research.google.com/notebooks/data_table.ipynb>data table notebook</a>'\n",
              "            + ' to learn more about interactive tables.';\n",
              "          element.innerHTML = '';\n",
              "          dataTable['output_type'] = 'display_data';\n",
              "          await google.colab.output.renderOutput(dataTable, element);\n",
              "          const docLink = document.createElement('div');\n",
              "          docLink.innerHTML = docLinkHtml;\n",
              "          element.appendChild(docLink);\n",
              "        }\n",
              "      </script>\n",
              "    </div>\n",
              "  </div>\n",
              "  "
            ]
          },
          "metadata": {},
          "execution_count": 86
        }
      ],
      "source": [
        "df_sc_members"
      ]
    },
    {
      "cell_type": "markdown",
      "metadata": {
        "collapsed": false,
        "id": "zqCcOJGFrcIn"
      },
      "source": [
        "## 2) 적절한 경로당 수, 필요한 경로당 수를 파악하기 위해 새로운 데이터 프레임 생성\n",
        "---\n",
        "\n",
        "행정 구 단위 경로당을 추출 및 행정 구역 데이터 로드\n",
        "\n",
        "데이터 프레임 컬럼 구조\n",
        "\n",
        "행정 구 | 행정 동 | 경로당 수 | 적절한 경로당 수 | 필요한 경로당 수 |"
      ]
    },
    {
      "cell_type": "code",
      "execution_count": 87,
      "metadata": {
        "id": "8MhIEp2trcIp"
      },
      "outputs": [],
      "source": [
        "district = [\"강서구\", \"금정구\",\"기장군\",\"남구\",\"동구\",\"동래구\",\"부산진구\",\"북구\",\"사상구\",\"사하구\",\"서구\",\"수영구\",\"연제구\",\"영도구\",\"중구\",\"해운대구\"]"
      ]
    },
    {
      "cell_type": "markdown",
      "metadata": {
        "id": "VM7xhSFi1aPA"
      },
      "source": [
        "### 2.1) 새로운 데이터 프레임 생성 메서드"
      ]
    },
    {
      "cell_type": "code",
      "execution_count": 88,
      "metadata": {
        "id": "0INzHKh2rcIr"
      },
      "outputs": [],
      "source": [
        "def get_senior_centers_by_district():\n",
        "    '''\n",
        "    구별로 시니어 센터를가져옴. 구.csv파일 읽음\n",
        "    :return: 행정구 | 행정 동 | 경로당 수 | 적절한 경로당 수 | 필요한 경로당 수 |\n",
        "    '''\n",
        "    df_temp = pd.DataFrame(columns=[\"경로당 수\", \"적절한 경로당 수\", \"필요한 경로당 수\"])\n",
        "    #  구, 동에 대한 정보 불러옴\n",
        "    df_district = pd.read_csv(\"/구2021.csv\", encoding='UTF-8')\n",
        "    df = pd.concat([df_district , df_temp])\n",
        "\n",
        "    return df"
      ]
    },
    {
      "cell_type": "code",
      "execution_count": 89,
      "metadata": {
        "colab": {
          "base_uri": "https://localhost:8080/",
          "height": 206
        },
        "id": "VOyCsw7CrcIt",
        "outputId": "a5a61723-347d-4d28-fd41-a00ee8fdec96"
      },
      "outputs": [
        {
          "output_type": "execute_result",
          "data": {
            "text/plain": [
              "  행정 구 행정 동 경로당 수 적절한 경로당 수 필요한 경로당 수\n",
              "0   중구  중앙동   NaN       NaN       NaN\n",
              "1   중구  동광동   NaN       NaN       NaN\n",
              "2   중구  대청동   NaN       NaN       NaN\n",
              "3   중구  보수동   NaN       NaN       NaN\n",
              "4   중구  부평동   NaN       NaN       NaN"
            ],
            "text/html": [
              "\n",
              "  <div id=\"df-d533e9ad-88c8-4455-ad5d-2723cebdd146\">\n",
              "    <div class=\"colab-df-container\">\n",
              "      <div>\n",
              "<style scoped>\n",
              "    .dataframe tbody tr th:only-of-type {\n",
              "        vertical-align: middle;\n",
              "    }\n",
              "\n",
              "    .dataframe tbody tr th {\n",
              "        vertical-align: top;\n",
              "    }\n",
              "\n",
              "    .dataframe thead th {\n",
              "        text-align: right;\n",
              "    }\n",
              "</style>\n",
              "<table border=\"1\" class=\"dataframe\">\n",
              "  <thead>\n",
              "    <tr style=\"text-align: right;\">\n",
              "      <th></th>\n",
              "      <th>행정 구</th>\n",
              "      <th>행정 동</th>\n",
              "      <th>경로당 수</th>\n",
              "      <th>적절한 경로당 수</th>\n",
              "      <th>필요한 경로당 수</th>\n",
              "    </tr>\n",
              "  </thead>\n",
              "  <tbody>\n",
              "    <tr>\n",
              "      <th>0</th>\n",
              "      <td>중구</td>\n",
              "      <td>중앙동</td>\n",
              "      <td>NaN</td>\n",
              "      <td>NaN</td>\n",
              "      <td>NaN</td>\n",
              "    </tr>\n",
              "    <tr>\n",
              "      <th>1</th>\n",
              "      <td>중구</td>\n",
              "      <td>동광동</td>\n",
              "      <td>NaN</td>\n",
              "      <td>NaN</td>\n",
              "      <td>NaN</td>\n",
              "    </tr>\n",
              "    <tr>\n",
              "      <th>2</th>\n",
              "      <td>중구</td>\n",
              "      <td>대청동</td>\n",
              "      <td>NaN</td>\n",
              "      <td>NaN</td>\n",
              "      <td>NaN</td>\n",
              "    </tr>\n",
              "    <tr>\n",
              "      <th>3</th>\n",
              "      <td>중구</td>\n",
              "      <td>보수동</td>\n",
              "      <td>NaN</td>\n",
              "      <td>NaN</td>\n",
              "      <td>NaN</td>\n",
              "    </tr>\n",
              "    <tr>\n",
              "      <th>4</th>\n",
              "      <td>중구</td>\n",
              "      <td>부평동</td>\n",
              "      <td>NaN</td>\n",
              "      <td>NaN</td>\n",
              "      <td>NaN</td>\n",
              "    </tr>\n",
              "  </tbody>\n",
              "</table>\n",
              "</div>\n",
              "      <button class=\"colab-df-convert\" onclick=\"convertToInteractive('df-d533e9ad-88c8-4455-ad5d-2723cebdd146')\"\n",
              "              title=\"Convert this dataframe to an interactive table.\"\n",
              "              style=\"display:none;\">\n",
              "        \n",
              "  <svg xmlns=\"http://www.w3.org/2000/svg\" height=\"24px\"viewBox=\"0 0 24 24\"\n",
              "       width=\"24px\">\n",
              "    <path d=\"M0 0h24v24H0V0z\" fill=\"none\"/>\n",
              "    <path d=\"M18.56 5.44l.94 2.06.94-2.06 2.06-.94-2.06-.94-.94-2.06-.94 2.06-2.06.94zm-11 1L8.5 8.5l.94-2.06 2.06-.94-2.06-.94L8.5 2.5l-.94 2.06-2.06.94zm10 10l.94 2.06.94-2.06 2.06-.94-2.06-.94-.94-2.06-.94 2.06-2.06.94z\"/><path d=\"M17.41 7.96l-1.37-1.37c-.4-.4-.92-.59-1.43-.59-.52 0-1.04.2-1.43.59L10.3 9.45l-7.72 7.72c-.78.78-.78 2.05 0 2.83L4 21.41c.39.39.9.59 1.41.59.51 0 1.02-.2 1.41-.59l7.78-7.78 2.81-2.81c.8-.78.8-2.07 0-2.86zM5.41 20L4 18.59l7.72-7.72 1.47 1.35L5.41 20z\"/>\n",
              "  </svg>\n",
              "      </button>\n",
              "      \n",
              "  <style>\n",
              "    .colab-df-container {\n",
              "      display:flex;\n",
              "      flex-wrap:wrap;\n",
              "      gap: 12px;\n",
              "    }\n",
              "\n",
              "    .colab-df-convert {\n",
              "      background-color: #E8F0FE;\n",
              "      border: none;\n",
              "      border-radius: 50%;\n",
              "      cursor: pointer;\n",
              "      display: none;\n",
              "      fill: #1967D2;\n",
              "      height: 32px;\n",
              "      padding: 0 0 0 0;\n",
              "      width: 32px;\n",
              "    }\n",
              "\n",
              "    .colab-df-convert:hover {\n",
              "      background-color: #E2EBFA;\n",
              "      box-shadow: 0px 1px 2px rgba(60, 64, 67, 0.3), 0px 1px 3px 1px rgba(60, 64, 67, 0.15);\n",
              "      fill: #174EA6;\n",
              "    }\n",
              "\n",
              "    [theme=dark] .colab-df-convert {\n",
              "      background-color: #3B4455;\n",
              "      fill: #D2E3FC;\n",
              "    }\n",
              "\n",
              "    [theme=dark] .colab-df-convert:hover {\n",
              "      background-color: #434B5C;\n",
              "      box-shadow: 0px 1px 3px 1px rgba(0, 0, 0, 0.15);\n",
              "      filter: drop-shadow(0px 1px 2px rgba(0, 0, 0, 0.3));\n",
              "      fill: #FFFFFF;\n",
              "    }\n",
              "  </style>\n",
              "\n",
              "      <script>\n",
              "        const buttonEl =\n",
              "          document.querySelector('#df-d533e9ad-88c8-4455-ad5d-2723cebdd146 button.colab-df-convert');\n",
              "        buttonEl.style.display =\n",
              "          google.colab.kernel.accessAllowed ? 'block' : 'none';\n",
              "\n",
              "        async function convertToInteractive(key) {\n",
              "          const element = document.querySelector('#df-d533e9ad-88c8-4455-ad5d-2723cebdd146');\n",
              "          const dataTable =\n",
              "            await google.colab.kernel.invokeFunction('convertToInteractive',\n",
              "                                                     [key], {});\n",
              "          if (!dataTable) return;\n",
              "\n",
              "          const docLinkHtml = 'Like what you see? Visit the ' +\n",
              "            '<a target=\"_blank\" href=https://colab.research.google.com/notebooks/data_table.ipynb>data table notebook</a>'\n",
              "            + ' to learn more about interactive tables.';\n",
              "          element.innerHTML = '';\n",
              "          dataTable['output_type'] = 'display_data';\n",
              "          await google.colab.output.renderOutput(dataTable, element);\n",
              "          const docLink = document.createElement('div');\n",
              "          docLink.innerHTML = docLinkHtml;\n",
              "          element.appendChild(docLink);\n",
              "        }\n",
              "      </script>\n",
              "    </div>\n",
              "  </div>\n",
              "  "
            ]
          },
          "metadata": {},
          "execution_count": 89
        }
      ],
      "source": [
        "df_main =get_senior_centers_by_district()\n",
        "df_main.head(5)"
      ]
    },
    {
      "cell_type": "markdown",
      "metadata": {
        "collapsed": false,
        "id": "a39E5hXxrcIv"
      },
      "source": [
        "## 3) 행정 동 단위 고령인구를 파악\n",
        "---\n",
        "\n",
        "각 행정 동 단위 적절한 경로당 수 및 필요한 경로당 수를 파악하기 위해 행정 동 단위 고령인구를 파악해야한다."
      ]
    },
    {
      "cell_type": "markdown",
      "metadata": {
        "id": "3856ZcbQ2DFr"
      },
      "source": [
        "### 3.1) 행정 동 단위 고령인구 추출 메서드"
      ]
    },
    {
      "cell_type": "code",
      "execution_count": 90,
      "metadata": {
        "colab": {
          "base_uri": "https://localhost:8080/",
          "height": 424
        },
        "id": "LLc_hlMr_o1s",
        "outputId": "bfa0f9c4-62e5-428f-b36d-a99e6d023f8d"
      },
      "outputs": [
        {
          "output_type": "execute_result",
          "data": {
            "text/plain": [
              "          합계  50 - 54세\n",
              "0    3356311    284015\n",
              "1      40676      3386\n",
              "2       2865       193\n",
              "3       2684       228\n",
              "4       6298       508\n",
              "..       ...       ...\n",
              "217    52793      4938\n",
              "218     8598       710\n",
              "219    81798      5350\n",
              "220    25805      1947\n",
              "221     7885       644\n",
              "\n",
              "[222 rows x 2 columns]"
            ],
            "text/html": [
              "\n",
              "  <div id=\"df-d25929e5-fdd5-46a3-86f4-b36385df8286\">\n",
              "    <div class=\"colab-df-container\">\n",
              "      <div>\n",
              "<style scoped>\n",
              "    .dataframe tbody tr th:only-of-type {\n",
              "        vertical-align: middle;\n",
              "    }\n",
              "\n",
              "    .dataframe tbody tr th {\n",
              "        vertical-align: top;\n",
              "    }\n",
              "\n",
              "    .dataframe thead th {\n",
              "        text-align: right;\n",
              "    }\n",
              "</style>\n",
              "<table border=\"1\" class=\"dataframe\">\n",
              "  <thead>\n",
              "    <tr style=\"text-align: right;\">\n",
              "      <th></th>\n",
              "      <th>합계</th>\n",
              "      <th>50 - 54세</th>\n",
              "    </tr>\n",
              "  </thead>\n",
              "  <tbody>\n",
              "    <tr>\n",
              "      <th>0</th>\n",
              "      <td>3356311</td>\n",
              "      <td>284015</td>\n",
              "    </tr>\n",
              "    <tr>\n",
              "      <th>1</th>\n",
              "      <td>40676</td>\n",
              "      <td>3386</td>\n",
              "    </tr>\n",
              "    <tr>\n",
              "      <th>2</th>\n",
              "      <td>2865</td>\n",
              "      <td>193</td>\n",
              "    </tr>\n",
              "    <tr>\n",
              "      <th>3</th>\n",
              "      <td>2684</td>\n",
              "      <td>228</td>\n",
              "    </tr>\n",
              "    <tr>\n",
              "      <th>4</th>\n",
              "      <td>6298</td>\n",
              "      <td>508</td>\n",
              "    </tr>\n",
              "    <tr>\n",
              "      <th>...</th>\n",
              "      <td>...</td>\n",
              "      <td>...</td>\n",
              "    </tr>\n",
              "    <tr>\n",
              "      <th>217</th>\n",
              "      <td>52793</td>\n",
              "      <td>4938</td>\n",
              "    </tr>\n",
              "    <tr>\n",
              "      <th>218</th>\n",
              "      <td>8598</td>\n",
              "      <td>710</td>\n",
              "    </tr>\n",
              "    <tr>\n",
              "      <th>219</th>\n",
              "      <td>81798</td>\n",
              "      <td>5350</td>\n",
              "    </tr>\n",
              "    <tr>\n",
              "      <th>220</th>\n",
              "      <td>25805</td>\n",
              "      <td>1947</td>\n",
              "    </tr>\n",
              "    <tr>\n",
              "      <th>221</th>\n",
              "      <td>7885</td>\n",
              "      <td>644</td>\n",
              "    </tr>\n",
              "  </tbody>\n",
              "</table>\n",
              "<p>222 rows × 2 columns</p>\n",
              "</div>\n",
              "      <button class=\"colab-df-convert\" onclick=\"convertToInteractive('df-d25929e5-fdd5-46a3-86f4-b36385df8286')\"\n",
              "              title=\"Convert this dataframe to an interactive table.\"\n",
              "              style=\"display:none;\">\n",
              "        \n",
              "  <svg xmlns=\"http://www.w3.org/2000/svg\" height=\"24px\"viewBox=\"0 0 24 24\"\n",
              "       width=\"24px\">\n",
              "    <path d=\"M0 0h24v24H0V0z\" fill=\"none\"/>\n",
              "    <path d=\"M18.56 5.44l.94 2.06.94-2.06 2.06-.94-2.06-.94-.94-2.06-.94 2.06-2.06.94zm-11 1L8.5 8.5l.94-2.06 2.06-.94-2.06-.94L8.5 2.5l-.94 2.06-2.06.94zm10 10l.94 2.06.94-2.06 2.06-.94-2.06-.94-.94-2.06-.94 2.06-2.06.94z\"/><path d=\"M17.41 7.96l-1.37-1.37c-.4-.4-.92-.59-1.43-.59-.52 0-1.04.2-1.43.59L10.3 9.45l-7.72 7.72c-.78.78-.78 2.05 0 2.83L4 21.41c.39.39.9.59 1.41.59.51 0 1.02-.2 1.41-.59l7.78-7.78 2.81-2.81c.8-.78.8-2.07 0-2.86zM5.41 20L4 18.59l7.72-7.72 1.47 1.35L5.41 20z\"/>\n",
              "  </svg>\n",
              "      </button>\n",
              "      \n",
              "  <style>\n",
              "    .colab-df-container {\n",
              "      display:flex;\n",
              "      flex-wrap:wrap;\n",
              "      gap: 12px;\n",
              "    }\n",
              "\n",
              "    .colab-df-convert {\n",
              "      background-color: #E8F0FE;\n",
              "      border: none;\n",
              "      border-radius: 50%;\n",
              "      cursor: pointer;\n",
              "      display: none;\n",
              "      fill: #1967D2;\n",
              "      height: 32px;\n",
              "      padding: 0 0 0 0;\n",
              "      width: 32px;\n",
              "    }\n",
              "\n",
              "    .colab-df-convert:hover {\n",
              "      background-color: #E2EBFA;\n",
              "      box-shadow: 0px 1px 2px rgba(60, 64, 67, 0.3), 0px 1px 3px 1px rgba(60, 64, 67, 0.15);\n",
              "      fill: #174EA6;\n",
              "    }\n",
              "\n",
              "    [theme=dark] .colab-df-convert {\n",
              "      background-color: #3B4455;\n",
              "      fill: #D2E3FC;\n",
              "    }\n",
              "\n",
              "    [theme=dark] .colab-df-convert:hover {\n",
              "      background-color: #434B5C;\n",
              "      box-shadow: 0px 1px 3px 1px rgba(0, 0, 0, 0.15);\n",
              "      filter: drop-shadow(0px 1px 2px rgba(0, 0, 0, 0.3));\n",
              "      fill: #FFFFFF;\n",
              "    }\n",
              "  </style>\n",
              "\n",
              "      <script>\n",
              "        const buttonEl =\n",
              "          document.querySelector('#df-d25929e5-fdd5-46a3-86f4-b36385df8286 button.colab-df-convert');\n",
              "        buttonEl.style.display =\n",
              "          google.colab.kernel.accessAllowed ? 'block' : 'none';\n",
              "\n",
              "        async function convertToInteractive(key) {\n",
              "          const element = document.querySelector('#df-d25929e5-fdd5-46a3-86f4-b36385df8286');\n",
              "          const dataTable =\n",
              "            await google.colab.kernel.invokeFunction('convertToInteractive',\n",
              "                                                     [key], {});\n",
              "          if (!dataTable) return;\n",
              "\n",
              "          const docLinkHtml = 'Like what you see? Visit the ' +\n",
              "            '<a target=\"_blank\" href=https://colab.research.google.com/notebooks/data_table.ipynb>data table notebook</a>'\n",
              "            + ' to learn more about interactive tables.';\n",
              "          element.innerHTML = '';\n",
              "          dataTable['output_type'] = 'display_data';\n",
              "          await google.colab.output.renderOutput(dataTable, element);\n",
              "          const docLink = document.createElement('div');\n",
              "          docLink.innerHTML = docLinkHtml;\n",
              "          element.appendChild(docLink);\n",
              "        }\n",
              "      </script>\n",
              "    </div>\n",
              "  </div>\n",
              "  "
            ]
          },
          "metadata": {},
          "execution_count": 90
        }
      ],
      "source": [
        "df_population[['합계','50 - 54세']]"
      ]
    },
    {
      "cell_type": "code",
      "execution_count": 91,
      "metadata": {
        "colab": {
          "base_uri": "https://localhost:8080/"
        },
        "id": "gJ8gxpleBbx3",
        "outputId": "db8bc4da-066b-41ea-aed6-ea569e2b3c60"
      },
      "outputs": [
        {
          "output_type": "execute_result",
          "data": {
            "text/plain": [
              "0      부산광역시\n",
              "1         중구\n",
              "2        중앙동\n",
              "3        동광동\n",
              "4        대청동\n",
              "       ...  \n",
              "217      기장읍\n",
              "218      장안읍\n",
              "219      정관읍\n",
              "220      일광면\n",
              "221      철마면\n",
              "Name: 행정구역(동읍면)별, Length: 222, dtype: object"
            ]
          },
          "metadata": {},
          "execution_count": 91
        }
      ],
      "source": [
        "df_population[\"행정구역(동읍면)별\"]"
      ]
    },
    {
      "cell_type": "code",
      "execution_count": 92,
      "metadata": {
        "colab": {
          "base_uri": "https://localhost:8080/"
        },
        "id": "TYvf1jTGBfQo",
        "outputId": "7e9cf74b-cd87-4a09-cf6a-3a7d70a53dbe"
      },
      "outputs": [
        {
          "output_type": "execute_result",
          "data": {
            "text/plain": [
              "0      677214\n",
              "1       11128\n",
              "2         466\n",
              "3         908\n",
              "4        1615\n",
              "        ...  \n",
              "217     11510\n",
              "218      2319\n",
              "219      8969\n",
              "220      3721\n",
              "221      2526\n",
              "Name: 고령인구 합계, Length: 222, dtype: int64"
            ]
          },
          "metadata": {},
          "execution_count": 92
        }
      ],
      "source": [
        "df_population[\"고령인구 합계\"]"
      ]
    },
    {
      "cell_type": "code",
      "execution_count": 93,
      "metadata": {
        "id": "lVipcaqTBiNr"
      },
      "outputs": [],
      "source": [
        "lst_df = [df_population[\"행정구역(동읍면)별\"],df_population[\"고령인구 합계\"]]"
      ]
    },
    {
      "cell_type": "code",
      "execution_count": 94,
      "metadata": {
        "colab": {
          "base_uri": "https://localhost:8080/"
        },
        "id": "T6Nl2RR4BllW",
        "outputId": "9bcd3069-2d93-4f72-99a0-733866bed63a"
      },
      "outputs": [
        {
          "output_type": "execute_result",
          "data": {
            "text/plain": [
              "[0      부산광역시\n",
              " 1         중구\n",
              " 2        중앙동\n",
              " 3        동광동\n",
              " 4        대청동\n",
              "        ...  \n",
              " 217      기장읍\n",
              " 218      장안읍\n",
              " 219      정관읍\n",
              " 220      일광면\n",
              " 221      철마면\n",
              " Name: 행정구역(동읍면)별, Length: 222, dtype: object, 0      677214\n",
              " 1       11128\n",
              " 2         466\n",
              " 3         908\n",
              " 4        1615\n",
              "         ...  \n",
              " 217     11510\n",
              " 218      2319\n",
              " 219      8969\n",
              " 220      3721\n",
              " 221      2526\n",
              " Name: 고령인구 합계, Length: 222, dtype: int64]"
            ]
          },
          "metadata": {},
          "execution_count": 94
        }
      ],
      "source": [
        "lst_df"
      ]
    },
    {
      "cell_type": "code",
      "execution_count": 95,
      "metadata": {
        "id": "LiwMycLBB2eb"
      },
      "outputs": [],
      "source": [
        "df_sc = pd.concat(lst_df,axis=1)"
      ]
    },
    {
      "cell_type": "code",
      "execution_count": 96,
      "metadata": {
        "colab": {
          "base_uri": "https://localhost:8080/",
          "height": 424
        },
        "id": "Jp387nPoCCGO",
        "outputId": "425e7681-df93-4bbc-cfff-81f622018faa"
      },
      "outputs": [
        {
          "output_type": "execute_result",
          "data": {
            "text/plain": [
              "    행정구역(동읍면)별  고령인구 합계\n",
              "0        부산광역시   677214\n",
              "1           중구    11128\n",
              "2          중앙동      466\n",
              "3          동광동      908\n",
              "4          대청동     1615\n",
              "..         ...      ...\n",
              "217        기장읍    11510\n",
              "218        장안읍     2319\n",
              "219        정관읍     8969\n",
              "220        일광면     3721\n",
              "221        철마면     2526\n",
              "\n",
              "[222 rows x 2 columns]"
            ],
            "text/html": [
              "\n",
              "  <div id=\"df-5770f5dd-4c73-4726-a831-745486bc4535\">\n",
              "    <div class=\"colab-df-container\">\n",
              "      <div>\n",
              "<style scoped>\n",
              "    .dataframe tbody tr th:only-of-type {\n",
              "        vertical-align: middle;\n",
              "    }\n",
              "\n",
              "    .dataframe tbody tr th {\n",
              "        vertical-align: top;\n",
              "    }\n",
              "\n",
              "    .dataframe thead th {\n",
              "        text-align: right;\n",
              "    }\n",
              "</style>\n",
              "<table border=\"1\" class=\"dataframe\">\n",
              "  <thead>\n",
              "    <tr style=\"text-align: right;\">\n",
              "      <th></th>\n",
              "      <th>행정구역(동읍면)별</th>\n",
              "      <th>고령인구 합계</th>\n",
              "    </tr>\n",
              "  </thead>\n",
              "  <tbody>\n",
              "    <tr>\n",
              "      <th>0</th>\n",
              "      <td>부산광역시</td>\n",
              "      <td>677214</td>\n",
              "    </tr>\n",
              "    <tr>\n",
              "      <th>1</th>\n",
              "      <td>중구</td>\n",
              "      <td>11128</td>\n",
              "    </tr>\n",
              "    <tr>\n",
              "      <th>2</th>\n",
              "      <td>중앙동</td>\n",
              "      <td>466</td>\n",
              "    </tr>\n",
              "    <tr>\n",
              "      <th>3</th>\n",
              "      <td>동광동</td>\n",
              "      <td>908</td>\n",
              "    </tr>\n",
              "    <tr>\n",
              "      <th>4</th>\n",
              "      <td>대청동</td>\n",
              "      <td>1615</td>\n",
              "    </tr>\n",
              "    <tr>\n",
              "      <th>...</th>\n",
              "      <td>...</td>\n",
              "      <td>...</td>\n",
              "    </tr>\n",
              "    <tr>\n",
              "      <th>217</th>\n",
              "      <td>기장읍</td>\n",
              "      <td>11510</td>\n",
              "    </tr>\n",
              "    <tr>\n",
              "      <th>218</th>\n",
              "      <td>장안읍</td>\n",
              "      <td>2319</td>\n",
              "    </tr>\n",
              "    <tr>\n",
              "      <th>219</th>\n",
              "      <td>정관읍</td>\n",
              "      <td>8969</td>\n",
              "    </tr>\n",
              "    <tr>\n",
              "      <th>220</th>\n",
              "      <td>일광면</td>\n",
              "      <td>3721</td>\n",
              "    </tr>\n",
              "    <tr>\n",
              "      <th>221</th>\n",
              "      <td>철마면</td>\n",
              "      <td>2526</td>\n",
              "    </tr>\n",
              "  </tbody>\n",
              "</table>\n",
              "<p>222 rows × 2 columns</p>\n",
              "</div>\n",
              "      <button class=\"colab-df-convert\" onclick=\"convertToInteractive('df-5770f5dd-4c73-4726-a831-745486bc4535')\"\n",
              "              title=\"Convert this dataframe to an interactive table.\"\n",
              "              style=\"display:none;\">\n",
              "        \n",
              "  <svg xmlns=\"http://www.w3.org/2000/svg\" height=\"24px\"viewBox=\"0 0 24 24\"\n",
              "       width=\"24px\">\n",
              "    <path d=\"M0 0h24v24H0V0z\" fill=\"none\"/>\n",
              "    <path d=\"M18.56 5.44l.94 2.06.94-2.06 2.06-.94-2.06-.94-.94-2.06-.94 2.06-2.06.94zm-11 1L8.5 8.5l.94-2.06 2.06-.94-2.06-.94L8.5 2.5l-.94 2.06-2.06.94zm10 10l.94 2.06.94-2.06 2.06-.94-2.06-.94-.94-2.06-.94 2.06-2.06.94z\"/><path d=\"M17.41 7.96l-1.37-1.37c-.4-.4-.92-.59-1.43-.59-.52 0-1.04.2-1.43.59L10.3 9.45l-7.72 7.72c-.78.78-.78 2.05 0 2.83L4 21.41c.39.39.9.59 1.41.59.51 0 1.02-.2 1.41-.59l7.78-7.78 2.81-2.81c.8-.78.8-2.07 0-2.86zM5.41 20L4 18.59l7.72-7.72 1.47 1.35L5.41 20z\"/>\n",
              "  </svg>\n",
              "      </button>\n",
              "      \n",
              "  <style>\n",
              "    .colab-df-container {\n",
              "      display:flex;\n",
              "      flex-wrap:wrap;\n",
              "      gap: 12px;\n",
              "    }\n",
              "\n",
              "    .colab-df-convert {\n",
              "      background-color: #E8F0FE;\n",
              "      border: none;\n",
              "      border-radius: 50%;\n",
              "      cursor: pointer;\n",
              "      display: none;\n",
              "      fill: #1967D2;\n",
              "      height: 32px;\n",
              "      padding: 0 0 0 0;\n",
              "      width: 32px;\n",
              "    }\n",
              "\n",
              "    .colab-df-convert:hover {\n",
              "      background-color: #E2EBFA;\n",
              "      box-shadow: 0px 1px 2px rgba(60, 64, 67, 0.3), 0px 1px 3px 1px rgba(60, 64, 67, 0.15);\n",
              "      fill: #174EA6;\n",
              "    }\n",
              "\n",
              "    [theme=dark] .colab-df-convert {\n",
              "      background-color: #3B4455;\n",
              "      fill: #D2E3FC;\n",
              "    }\n",
              "\n",
              "    [theme=dark] .colab-df-convert:hover {\n",
              "      background-color: #434B5C;\n",
              "      box-shadow: 0px 1px 3px 1px rgba(0, 0, 0, 0.15);\n",
              "      filter: drop-shadow(0px 1px 2px rgba(0, 0, 0, 0.3));\n",
              "      fill: #FFFFFF;\n",
              "    }\n",
              "  </style>\n",
              "\n",
              "      <script>\n",
              "        const buttonEl =\n",
              "          document.querySelector('#df-5770f5dd-4c73-4726-a831-745486bc4535 button.colab-df-convert');\n",
              "        buttonEl.style.display =\n",
              "          google.colab.kernel.accessAllowed ? 'block' : 'none';\n",
              "\n",
              "        async function convertToInteractive(key) {\n",
              "          const element = document.querySelector('#df-5770f5dd-4c73-4726-a831-745486bc4535');\n",
              "          const dataTable =\n",
              "            await google.colab.kernel.invokeFunction('convertToInteractive',\n",
              "                                                     [key], {});\n",
              "          if (!dataTable) return;\n",
              "\n",
              "          const docLinkHtml = 'Like what you see? Visit the ' +\n",
              "            '<a target=\"_blank\" href=https://colab.research.google.com/notebooks/data_table.ipynb>data table notebook</a>'\n",
              "            + ' to learn more about interactive tables.';\n",
              "          element.innerHTML = '';\n",
              "          dataTable['output_type'] = 'display_data';\n",
              "          await google.colab.output.renderOutput(dataTable, element);\n",
              "          const docLink = document.createElement('div');\n",
              "          docLink.innerHTML = docLinkHtml;\n",
              "          element.appendChild(docLink);\n",
              "        }\n",
              "      </script>\n",
              "    </div>\n",
              "  </div>\n",
              "  "
            ]
          },
          "metadata": {},
          "execution_count": 96
        }
      ],
      "source": [
        "df_sc"
      ]
    },
    {
      "cell_type": "code",
      "execution_count": 97,
      "metadata": {
        "id": "rU3YKQEircIw"
      },
      "outputs": [],
      "source": [
        "\n",
        "def get_senior_people_by_admin_area(district):\n",
        "    '''\n",
        "    행정구역별 고령인구 가져옴\n",
        "    :return: 행정구역별 | 고령인구 합계\n",
        "    '''\n",
        "    \n",
        "    #lst_df = [df_population[\"행정구역(동읍면)별\"],df_population[\"고령인구 합계\"]]\n",
        "    #df_sc = pd.concat(lst_df,axis=1)\n",
        "    #위 두 줄을 밑의 한줄로 간결화\n",
        "    df_sc = df_population[[\"행정구역(동읍면)별\",\"고령인구 합계\"]].copy()\n",
        "    \n",
        "    \n",
        "    lst = []\n",
        "    for i in range(1,222): # 222 : number_of_record\n",
        "        for d in district:\n",
        "            if df_sc.iloc[i][\"행정구역(동읍면)별\"] == d:\n",
        "                lst.append(i)\n",
        "\n",
        "    for i in lst:\n",
        "        df_sc.drop(index=i,axis=0,inplace=True) # 행정 구 삭제\n",
        "    df_sc .drop(index=0,inplace=True)  # 부산광역시 전체 삭제\n",
        "    df_sc.set_index(\"행정구역(동읍면)별\",inplace=True) # 동을 기준으로 함\n",
        "    return df_sc.copy()"
      ]
    },
    {
      "cell_type": "code",
      "execution_count": 98,
      "metadata": {
        "colab": {
          "base_uri": "https://localhost:8080/",
          "height": 238
        },
        "id": "v27d27vIrcIy",
        "outputId": "f64aeda1-b0e3-48dc-bee2-88ab25f35443"
      },
      "outputs": [
        {
          "output_type": "execute_result",
          "data": {
            "text/plain": [
              "            고령인구 합계\n",
              "행정구역(동읍면)별         \n",
              "중앙동             466\n",
              "동광동             908\n",
              "대청동            1615\n",
              "보수동            2808\n",
              "부평동            1377"
            ],
            "text/html": [
              "\n",
              "  <div id=\"df-d21e764f-4bdf-4a10-82fd-7a71c2243b18\">\n",
              "    <div class=\"colab-df-container\">\n",
              "      <div>\n",
              "<style scoped>\n",
              "    .dataframe tbody tr th:only-of-type {\n",
              "        vertical-align: middle;\n",
              "    }\n",
              "\n",
              "    .dataframe tbody tr th {\n",
              "        vertical-align: top;\n",
              "    }\n",
              "\n",
              "    .dataframe thead th {\n",
              "        text-align: right;\n",
              "    }\n",
              "</style>\n",
              "<table border=\"1\" class=\"dataframe\">\n",
              "  <thead>\n",
              "    <tr style=\"text-align: right;\">\n",
              "      <th></th>\n",
              "      <th>고령인구 합계</th>\n",
              "    </tr>\n",
              "    <tr>\n",
              "      <th>행정구역(동읍면)별</th>\n",
              "      <th></th>\n",
              "    </tr>\n",
              "  </thead>\n",
              "  <tbody>\n",
              "    <tr>\n",
              "      <th>중앙동</th>\n",
              "      <td>466</td>\n",
              "    </tr>\n",
              "    <tr>\n",
              "      <th>동광동</th>\n",
              "      <td>908</td>\n",
              "    </tr>\n",
              "    <tr>\n",
              "      <th>대청동</th>\n",
              "      <td>1615</td>\n",
              "    </tr>\n",
              "    <tr>\n",
              "      <th>보수동</th>\n",
              "      <td>2808</td>\n",
              "    </tr>\n",
              "    <tr>\n",
              "      <th>부평동</th>\n",
              "      <td>1377</td>\n",
              "    </tr>\n",
              "  </tbody>\n",
              "</table>\n",
              "</div>\n",
              "      <button class=\"colab-df-convert\" onclick=\"convertToInteractive('df-d21e764f-4bdf-4a10-82fd-7a71c2243b18')\"\n",
              "              title=\"Convert this dataframe to an interactive table.\"\n",
              "              style=\"display:none;\">\n",
              "        \n",
              "  <svg xmlns=\"http://www.w3.org/2000/svg\" height=\"24px\"viewBox=\"0 0 24 24\"\n",
              "       width=\"24px\">\n",
              "    <path d=\"M0 0h24v24H0V0z\" fill=\"none\"/>\n",
              "    <path d=\"M18.56 5.44l.94 2.06.94-2.06 2.06-.94-2.06-.94-.94-2.06-.94 2.06-2.06.94zm-11 1L8.5 8.5l.94-2.06 2.06-.94-2.06-.94L8.5 2.5l-.94 2.06-2.06.94zm10 10l.94 2.06.94-2.06 2.06-.94-2.06-.94-.94-2.06-.94 2.06-2.06.94z\"/><path d=\"M17.41 7.96l-1.37-1.37c-.4-.4-.92-.59-1.43-.59-.52 0-1.04.2-1.43.59L10.3 9.45l-7.72 7.72c-.78.78-.78 2.05 0 2.83L4 21.41c.39.39.9.59 1.41.59.51 0 1.02-.2 1.41-.59l7.78-7.78 2.81-2.81c.8-.78.8-2.07 0-2.86zM5.41 20L4 18.59l7.72-7.72 1.47 1.35L5.41 20z\"/>\n",
              "  </svg>\n",
              "      </button>\n",
              "      \n",
              "  <style>\n",
              "    .colab-df-container {\n",
              "      display:flex;\n",
              "      flex-wrap:wrap;\n",
              "      gap: 12px;\n",
              "    }\n",
              "\n",
              "    .colab-df-convert {\n",
              "      background-color: #E8F0FE;\n",
              "      border: none;\n",
              "      border-radius: 50%;\n",
              "      cursor: pointer;\n",
              "      display: none;\n",
              "      fill: #1967D2;\n",
              "      height: 32px;\n",
              "      padding: 0 0 0 0;\n",
              "      width: 32px;\n",
              "    }\n",
              "\n",
              "    .colab-df-convert:hover {\n",
              "      background-color: #E2EBFA;\n",
              "      box-shadow: 0px 1px 2px rgba(60, 64, 67, 0.3), 0px 1px 3px 1px rgba(60, 64, 67, 0.15);\n",
              "      fill: #174EA6;\n",
              "    }\n",
              "\n",
              "    [theme=dark] .colab-df-convert {\n",
              "      background-color: #3B4455;\n",
              "      fill: #D2E3FC;\n",
              "    }\n",
              "\n",
              "    [theme=dark] .colab-df-convert:hover {\n",
              "      background-color: #434B5C;\n",
              "      box-shadow: 0px 1px 3px 1px rgba(0, 0, 0, 0.15);\n",
              "      filter: drop-shadow(0px 1px 2px rgba(0, 0, 0, 0.3));\n",
              "      fill: #FFFFFF;\n",
              "    }\n",
              "  </style>\n",
              "\n",
              "      <script>\n",
              "        const buttonEl =\n",
              "          document.querySelector('#df-d21e764f-4bdf-4a10-82fd-7a71c2243b18 button.colab-df-convert');\n",
              "        buttonEl.style.display =\n",
              "          google.colab.kernel.accessAllowed ? 'block' : 'none';\n",
              "\n",
              "        async function convertToInteractive(key) {\n",
              "          const element = document.querySelector('#df-d21e764f-4bdf-4a10-82fd-7a71c2243b18');\n",
              "          const dataTable =\n",
              "            await google.colab.kernel.invokeFunction('convertToInteractive',\n",
              "                                                     [key], {});\n",
              "          if (!dataTable) return;\n",
              "\n",
              "          const docLinkHtml = 'Like what you see? Visit the ' +\n",
              "            '<a target=\"_blank\" href=https://colab.research.google.com/notebooks/data_table.ipynb>data table notebook</a>'\n",
              "            + ' to learn more about interactive tables.';\n",
              "          element.innerHTML = '';\n",
              "          dataTable['output_type'] = 'display_data';\n",
              "          await google.colab.output.renderOutput(dataTable, element);\n",
              "          const docLink = document.createElement('div');\n",
              "          docLink.innerHTML = docLinkHtml;\n",
              "          element.appendChild(docLink);\n",
              "        }\n",
              "      </script>\n",
              "    </div>\n",
              "  </div>\n",
              "  "
            ]
          },
          "metadata": {},
          "execution_count": 98
        }
      ],
      "source": [
        "df_senior_people = get_senior_people_by_admin_area(district)\n",
        "df_senior_people.head(5)"
      ]
    },
    {
      "cell_type": "code",
      "execution_count": 99,
      "metadata": {
        "colab": {
          "base_uri": "https://localhost:8080/",
          "height": 238
        },
        "id": "BT9J1qZkrcIz",
        "outputId": "e15b44a6-f8e0-473a-eb97-f0b6db87cac1"
      },
      "outputs": [
        {
          "output_type": "execute_result",
          "data": {
            "text/plain": [
              "            고령인구 합계\n",
              "행정구역(동읍면)별         \n",
              "가덕도동           1183\n",
              "가락동             928\n",
              "가야1동           4339\n",
              "가야2동           3888\n",
              "감만1동           3430"
            ],
            "text/html": [
              "\n",
              "  <div id=\"df-4fd0292c-ead5-422a-bc8e-d5c54e9281b7\">\n",
              "    <div class=\"colab-df-container\">\n",
              "      <div>\n",
              "<style scoped>\n",
              "    .dataframe tbody tr th:only-of-type {\n",
              "        vertical-align: middle;\n",
              "    }\n",
              "\n",
              "    .dataframe tbody tr th {\n",
              "        vertical-align: top;\n",
              "    }\n",
              "\n",
              "    .dataframe thead th {\n",
              "        text-align: right;\n",
              "    }\n",
              "</style>\n",
              "<table border=\"1\" class=\"dataframe\">\n",
              "  <thead>\n",
              "    <tr style=\"text-align: right;\">\n",
              "      <th></th>\n",
              "      <th>고령인구 합계</th>\n",
              "    </tr>\n",
              "    <tr>\n",
              "      <th>행정구역(동읍면)별</th>\n",
              "      <th></th>\n",
              "    </tr>\n",
              "  </thead>\n",
              "  <tbody>\n",
              "    <tr>\n",
              "      <th>가덕도동</th>\n",
              "      <td>1183</td>\n",
              "    </tr>\n",
              "    <tr>\n",
              "      <th>가락동</th>\n",
              "      <td>928</td>\n",
              "    </tr>\n",
              "    <tr>\n",
              "      <th>가야1동</th>\n",
              "      <td>4339</td>\n",
              "    </tr>\n",
              "    <tr>\n",
              "      <th>가야2동</th>\n",
              "      <td>3888</td>\n",
              "    </tr>\n",
              "    <tr>\n",
              "      <th>감만1동</th>\n",
              "      <td>3430</td>\n",
              "    </tr>\n",
              "  </tbody>\n",
              "</table>\n",
              "</div>\n",
              "      <button class=\"colab-df-convert\" onclick=\"convertToInteractive('df-4fd0292c-ead5-422a-bc8e-d5c54e9281b7')\"\n",
              "              title=\"Convert this dataframe to an interactive table.\"\n",
              "              style=\"display:none;\">\n",
              "        \n",
              "  <svg xmlns=\"http://www.w3.org/2000/svg\" height=\"24px\"viewBox=\"0 0 24 24\"\n",
              "       width=\"24px\">\n",
              "    <path d=\"M0 0h24v24H0V0z\" fill=\"none\"/>\n",
              "    <path d=\"M18.56 5.44l.94 2.06.94-2.06 2.06-.94-2.06-.94-.94-2.06-.94 2.06-2.06.94zm-11 1L8.5 8.5l.94-2.06 2.06-.94-2.06-.94L8.5 2.5l-.94 2.06-2.06.94zm10 10l.94 2.06.94-2.06 2.06-.94-2.06-.94-.94-2.06-.94 2.06-2.06.94z\"/><path d=\"M17.41 7.96l-1.37-1.37c-.4-.4-.92-.59-1.43-.59-.52 0-1.04.2-1.43.59L10.3 9.45l-7.72 7.72c-.78.78-.78 2.05 0 2.83L4 21.41c.39.39.9.59 1.41.59.51 0 1.02-.2 1.41-.59l7.78-7.78 2.81-2.81c.8-.78.8-2.07 0-2.86zM5.41 20L4 18.59l7.72-7.72 1.47 1.35L5.41 20z\"/>\n",
              "  </svg>\n",
              "      </button>\n",
              "      \n",
              "  <style>\n",
              "    .colab-df-container {\n",
              "      display:flex;\n",
              "      flex-wrap:wrap;\n",
              "      gap: 12px;\n",
              "    }\n",
              "\n",
              "    .colab-df-convert {\n",
              "      background-color: #E8F0FE;\n",
              "      border: none;\n",
              "      border-radius: 50%;\n",
              "      cursor: pointer;\n",
              "      display: none;\n",
              "      fill: #1967D2;\n",
              "      height: 32px;\n",
              "      padding: 0 0 0 0;\n",
              "      width: 32px;\n",
              "    }\n",
              "\n",
              "    .colab-df-convert:hover {\n",
              "      background-color: #E2EBFA;\n",
              "      box-shadow: 0px 1px 2px rgba(60, 64, 67, 0.3), 0px 1px 3px 1px rgba(60, 64, 67, 0.15);\n",
              "      fill: #174EA6;\n",
              "    }\n",
              "\n",
              "    [theme=dark] .colab-df-convert {\n",
              "      background-color: #3B4455;\n",
              "      fill: #D2E3FC;\n",
              "    }\n",
              "\n",
              "    [theme=dark] .colab-df-convert:hover {\n",
              "      background-color: #434B5C;\n",
              "      box-shadow: 0px 1px 3px 1px rgba(0, 0, 0, 0.15);\n",
              "      filter: drop-shadow(0px 1px 2px rgba(0, 0, 0, 0.3));\n",
              "      fill: #FFFFFF;\n",
              "    }\n",
              "  </style>\n",
              "\n",
              "      <script>\n",
              "        const buttonEl =\n",
              "          document.querySelector('#df-4fd0292c-ead5-422a-bc8e-d5c54e9281b7 button.colab-df-convert');\n",
              "        buttonEl.style.display =\n",
              "          google.colab.kernel.accessAllowed ? 'block' : 'none';\n",
              "\n",
              "        async function convertToInteractive(key) {\n",
              "          const element = document.querySelector('#df-4fd0292c-ead5-422a-bc8e-d5c54e9281b7');\n",
              "          const dataTable =\n",
              "            await google.colab.kernel.invokeFunction('convertToInteractive',\n",
              "                                                     [key], {});\n",
              "          if (!dataTable) return;\n",
              "\n",
              "          const docLinkHtml = 'Like what you see? Visit the ' +\n",
              "            '<a target=\"_blank\" href=https://colab.research.google.com/notebooks/data_table.ipynb>data table notebook</a>'\n",
              "            + ' to learn more about interactive tables.';\n",
              "          element.innerHTML = '';\n",
              "          dataTable['output_type'] = 'display_data';\n",
              "          await google.colab.output.renderOutput(dataTable, element);\n",
              "          const docLink = document.createElement('div');\n",
              "          docLink.innerHTML = docLinkHtml;\n",
              "          element.appendChild(docLink);\n",
              "        }\n",
              "      </script>\n",
              "    </div>\n",
              "  </div>\n",
              "  "
            ]
          },
          "metadata": {},
          "execution_count": 99
        }
      ],
      "source": [
        "df_old_population_count  = df_senior_people .sort_index()\n",
        "df_old_population_count.head(5)"
      ]
    },
    {
      "cell_type": "markdown",
      "metadata": {
        "id": "3oscGaqn2u8f"
      },
      "source": [
        "### 3.2) 노인 1명당 경로당 수 산출 메서드"
      ]
    },
    {
      "cell_type": "code",
      "execution_count": 100,
      "metadata": {
        "id": "EG6xJy3lrcI2"
      },
      "outputs": [],
      "source": [
        "def oen_old_population_senior_centers(df_busan_senior_centers,df_population):\n",
        "    '''\n",
        "     부산 전체 경로당 수 / 부산 전체 고령인구 수\n",
        "    :param df_busan_senior_centers:  부산 전체 경로당 수\n",
        "    :param df_population: 부산 전체 고령인구 수\n",
        "    :return: 노인 1명당 경로당 수\n",
        "    '''\n",
        "    busan_senior_centers = df_busan_senior_centers.shape[0] # 부산 전체 경로당 수\n",
        "    old_population_count = df_population.iloc[0][\"고령인구 합계\"] # 부산 전체 고령인구\n",
        "    oen_old_population_senior_center = (busan_senior_centers / old_population_count)\n",
        "    return oen_old_population_senior_center"
      ]
    },
    {
      "cell_type": "code",
      "execution_count": 101,
      "metadata": {
        "colab": {
          "base_uri": "https://localhost:8080/"
        },
        "id": "r3-5rSa8rcI3",
        "outputId": "d9c02acb-e492-48f6-b9e0-6ae9f4927997"
      },
      "outputs": [
        {
          "output_type": "execute_result",
          "data": {
            "text/plain": [
              "0.003411034030601848"
            ]
          },
          "metadata": {},
          "execution_count": 101
        }
      ],
      "source": [
        "oen_old_population_senior_center = oen_old_population_senior_centers(df_busan_senior_centers,df_population)\n",
        "oen_old_population_senior_center"
      ]
    },
    {
      "cell_type": "markdown",
      "metadata": {
        "id": "LJFjsT5F3BJ_"
      },
      "source": [
        "### 3.3) 행정 동 단위 적절한 경로당 수 산출 메서드\n",
        "----\n",
        "\n",
        "노인 1명당 경로당 수를 파악하여 행정 동 단위 고령인구와 곱한다.\n",
        "\n",
        "$ 행정\\, 동\\, 단위\\, 적절한\\, 경로당\\, 수\\, =\\, 노인\\, 1명당\\, 경로당\\, 수\\, *\\, 행정\\, 동\\, 단위\\, 고령인구\\, $\n"
      ]
    },
    {
      "cell_type": "code",
      "execution_count": 102,
      "metadata": {
        "id": "_GMIG6HmrcI4"
      },
      "outputs": [],
      "source": [
        "\n",
        "def old_population_sum_by_admin_area(df_old_population_count,oen_old_population_senior_center):\n",
        "    '''\n",
        "    각 행정 동 고령 인구 합계를 구한 후 이를 이용하여 적절한 경로당 수 구한다\n",
        "    :param df_old_population_count: 행정 동 단위 고령인구\n",
        "    :param oen_old_population_senior_center: 노인 1명당 경로당 수\n",
        "    :return: 적절한 경로당 수\n",
        "    '''\n",
        "\n",
        "    row_n = df_old_population_count.shape[0]\n",
        "    old_people_admin_area = np.array([])\n",
        "    for i in range(0,row_n):\n",
        "        old_people_admin_area=np.append(old_people_admin_area,df_old_population_count .iloc[i][\"고령인구 합계\"])\n",
        "    old_people_admin_area = old_people_admin_area.astype(int)\n",
        "    proper_senior_center_n = np.round(old_people_admin_area*oen_old_population_senior_center,1)\n",
        "    return  proper_senior_center_n#적절한 경로당 수"
      ]
    },
    {
      "cell_type": "code",
      "execution_count": 103,
      "metadata": {
        "colab": {
          "base_uri": "https://localhost:8080/"
        },
        "id": "CGAbZS5-rcI-",
        "outputId": "6cd8297c-bda5-463a-8b99-191064337e74"
      },
      "outputs": [
        {
          "output_type": "execute_result",
          "data": {
            "text/plain": [
              "array([ 4. ,  3.2, 14.8, 13.3, 11.7,  6.8, 10.6, 15.5,  7.6,  5.1,  9.3,\n",
              "        8.8, 19.3, 17.2,  7.1,  9.7,  7.4,  1.1, 16.8, 12.9,  7.4,  9.7,\n",
              "       12.4, 16.2, 11.7, 11.5,  9.7, 12. , 22. ,  6. , 11. , 16.4, 12.7,\n",
              "       30. ,  8. ,  0.9, 39.3,  5.8, 10.3, 23. , 10.2,  8.5,  1.1, 11.6,\n",
              "       13.9, 23.5, 19.4, 17.5,  7.2,  8.4, 18.7, 12.1, 14.4,  9.8, 11.7,\n",
              "        8. ,  7.5,  5.8,  5.5, 10.4,  9.5,  9.7,  6.2,  8.8,  3.1,  4.6,\n",
              "        7.8,  6.3, 23.1,  3.3, 11.9,  9.8, 16.2, 12.8, 23.9,  8.7, 11.5,\n",
              "       11. , 11.6, 12.7,  7.8, 19.5, 12.9, 10.6,  7.2, 10.5,  7.9, 19.2,\n",
              "       15.1, 24.5, 18.4, 11.7,  8.5,  8.7, 12.4,  5.8,  3.6,  7.1, 16.1,\n",
              "        9.6, 10. ,  6.9,  7.2,  9. , 12.1, 10.3, 11.7,  5.1, 14.1, 11.4,\n",
              "       10.2,  4.6,  4.7,  7.2, 11.6, 11.5,  5.1,  5.9,  8.3, 10.9,  9.5,\n",
              "        5.9,  5.3,  2.6,  8.5, 21.4, 15. ,  4. ,  9.6,  5. ,  6.1, 10.2,\n",
              "       12.5,  8.6,  8.1, 12.4, 17.7, 11.2, 13.8,  6.9, 13. , 11.4, 13.2,\n",
              "        7.4, 13.4,  9.2, 14.4,  9.1, 23. , 15.9,  4.1,  8.6,  3.9,  7.5,\n",
              "       12.6, 12.3, 24.6,  5.9, 27.9, 11.8, 11.9,  7. , 16.3, 16.6, 15.4,\n",
              "       12.7, 12.7,  6.7, 15.9,  7.9,  9.1, 16. , 16.5, 16.9, 10.8, 16.1,\n",
              "       30.6,  8.9, 16.5, 10.5, 11.5, 10.8,  9.5, 13. ,  9. , 14.8,  9.2,\n",
              "        1.6,  8.6,  9.5,  6.3, 15.5,  4.3,  6.4,  5.8,  6.9, 20.3,  5.3,\n",
              "        8.6, 13.1, 13.9, 18.3, 15.6,  9.6, 13.5])"
            ]
          },
          "metadata": {},
          "execution_count": 103
        }
      ],
      "source": [
        "proper_senior_center_n = old_population_sum_by_admin_area(df_old_population_count,oen_old_population_senior_center)\n",
        "proper_senior_center_n"
      ]
    },
    {
      "cell_type": "markdown",
      "metadata": {
        "id": "18zICOvw375w"
      },
      "source": [
        "### 3.4) 행정 동 단위 필요한 경로당 수 파악\n",
        "----\n",
        "\n",
        "적절한 경로당 수와 기존에 설치된 경로당 수를 이용하여 필요한 경로당 수를 이용해 계산\n",
        "\n",
        "$ 필요한\\,경로당\\,수\\, =\\,  -(기존에\\, 설치된\\, 경로당\\, 수\\, - 적절한\\, 경로당\\, 수) $\n",
        "\n",
        "결과 값에 음수를 취하는 이유는 포화 상태 여부를 강조하기 위함\n",
        "\n",
        "~~~\n",
        "if 필요한 경로당 수  <  0  then\n",
        "        경로당 수 포화\n",
        "    else \n",
        "        증설할 경로당 수 \n",
        "    endif\n",
        "~~~\n",
        "\n"
      ]
    },
    {
      "cell_type": "code",
      "execution_count": 104,
      "metadata": {
        "id": "aMToBmNBrcI_"
      },
      "outputs": [],
      "source": [
        "df_main = df_main.sort_values(by=['행정 동'])\n",
        "df_busan_senior_centers = df_busan_senior_centers.sort_values(by=[\"읍면동\"])"
      ]
    },
    {
      "cell_type": "markdown",
      "metadata": {
        "id": "ZeBXTqw95j5h"
      },
      "source": [
        "### 3.5) 행정 동 단위 해당하는 경로당의 수 추출"
      ]
    },
    {
      "cell_type": "code",
      "execution_count": 105,
      "metadata": {
        "id": "Qpkh4rdcrcJA"
      },
      "outputs": [],
      "source": [
        "# 각 행정 동에 해당하는 경로당의 수를 추출\n",
        "data = df_busan_senior_centers[\"읍면동\"].value_counts().sort_index()\n",
        "senior_center_by_admin_area = np.array(data)"
      ]
    },
    {
      "cell_type": "markdown",
      "metadata": {
        "id": "rCKKgcfO35e5"
      },
      "source": [
        "### 3.6) 필요한 경로당 수 산출 메서드"
      ]
    },
    {
      "cell_type": "code",
      "execution_count": 106,
      "metadata": {
        "id": "Y7EUTmxsrcJB"
      },
      "outputs": [],
      "source": [
        "\n",
        "def senior_center_need_counts_by_admin_area(df_main,senior_center_by_admin_area,proper_senior_center_n):\n",
        "    '''\n",
        "    읍면동 경로당 수 및 적절한 경로당 수를 이용하여 필요한 경로당 수 구한다.\n",
        "    :param df_main: 데이터를 삽입할 데이터 프레임\n",
        "    :param senior_center_by_admin_area: 읍면동의 경로당 수\n",
        "    :param proper_senior_center_n: 적절한 경로당 수\n",
        "    :return: 필요한 경로당 수\n",
        "    '''\n",
        "    idx_lst = [\"행정 구\",\"행정 동\"]\n",
        "    df_main[\"경로당 수\"] = senior_center_by_admin_area\n",
        "    df_main[\"적절한 경로당 수\"] = proper_senior_center_n\n",
        "    df_main.loc[df_main.iloc[0:][idx_lst[1]] == \"광복동\", \"경로당 수\"] = 0\n",
        "    #df_main.loc[df_main.iloc[0:][idx_lst[1]]==\"광복동\",\"경로당 수\"] = 0\n",
        "    df_main[\"필요한 경로당 수\"] = -(df_main[\"경로당 수\"] - df_main[\"적절한 경로당 수\"])\n",
        "    df_main = df_main.sort_index()\n",
        "    df_main = df_main.set_index(idx_lst)\n",
        "\n",
        "    return df_main"
      ]
    },
    {
      "cell_type": "code",
      "execution_count": 107,
      "metadata": {
        "colab": {
          "base_uri": "https://localhost:8080/",
          "height": 455
        },
        "id": "p7BmMl90rcJB",
        "outputId": "8d129380-b766-498c-8b6f-92aae87ee3fb"
      },
      "outputs": [
        {
          "output_type": "execute_result",
          "data": {
            "text/plain": [
              "           경로당 수  적절한 경로당 수  필요한 경로당 수\n",
              "행정 구 행정 동                             \n",
              "중구   중앙동       1        1.6        0.6\n",
              "     동광동       1        3.1        2.1\n",
              "     대청동       4        5.5        1.5\n",
              "     보수동      10        9.6       -0.4\n",
              "     부평동       2        4.7        2.7\n",
              "...          ...        ...        ...\n",
              "기장군  기장읍      87       39.3      -47.7\n",
              "     장안읍      42        7.9      -34.1\n",
              "     정관읍      77       30.6      -46.4\n",
              "     일광면      42       12.7      -29.3\n",
              "     철마면      33        8.6      -24.4\n",
              "\n",
              "[205 rows x 3 columns]"
            ],
            "text/html": [
              "\n",
              "  <div id=\"df-3d15a91a-3a55-400e-ad48-020a607d514a\">\n",
              "    <div class=\"colab-df-container\">\n",
              "      <div>\n",
              "<style scoped>\n",
              "    .dataframe tbody tr th:only-of-type {\n",
              "        vertical-align: middle;\n",
              "    }\n",
              "\n",
              "    .dataframe tbody tr th {\n",
              "        vertical-align: top;\n",
              "    }\n",
              "\n",
              "    .dataframe thead th {\n",
              "        text-align: right;\n",
              "    }\n",
              "</style>\n",
              "<table border=\"1\" class=\"dataframe\">\n",
              "  <thead>\n",
              "    <tr style=\"text-align: right;\">\n",
              "      <th></th>\n",
              "      <th></th>\n",
              "      <th>경로당 수</th>\n",
              "      <th>적절한 경로당 수</th>\n",
              "      <th>필요한 경로당 수</th>\n",
              "    </tr>\n",
              "    <tr>\n",
              "      <th>행정 구</th>\n",
              "      <th>행정 동</th>\n",
              "      <th></th>\n",
              "      <th></th>\n",
              "      <th></th>\n",
              "    </tr>\n",
              "  </thead>\n",
              "  <tbody>\n",
              "    <tr>\n",
              "      <th rowspan=\"5\" valign=\"top\">중구</th>\n",
              "      <th>중앙동</th>\n",
              "      <td>1</td>\n",
              "      <td>1.6</td>\n",
              "      <td>0.6</td>\n",
              "    </tr>\n",
              "    <tr>\n",
              "      <th>동광동</th>\n",
              "      <td>1</td>\n",
              "      <td>3.1</td>\n",
              "      <td>2.1</td>\n",
              "    </tr>\n",
              "    <tr>\n",
              "      <th>대청동</th>\n",
              "      <td>4</td>\n",
              "      <td>5.5</td>\n",
              "      <td>1.5</td>\n",
              "    </tr>\n",
              "    <tr>\n",
              "      <th>보수동</th>\n",
              "      <td>10</td>\n",
              "      <td>9.6</td>\n",
              "      <td>-0.4</td>\n",
              "    </tr>\n",
              "    <tr>\n",
              "      <th>부평동</th>\n",
              "      <td>2</td>\n",
              "      <td>4.7</td>\n",
              "      <td>2.7</td>\n",
              "    </tr>\n",
              "    <tr>\n",
              "      <th>...</th>\n",
              "      <th>...</th>\n",
              "      <td>...</td>\n",
              "      <td>...</td>\n",
              "      <td>...</td>\n",
              "    </tr>\n",
              "    <tr>\n",
              "      <th rowspan=\"5\" valign=\"top\">기장군</th>\n",
              "      <th>기장읍</th>\n",
              "      <td>87</td>\n",
              "      <td>39.3</td>\n",
              "      <td>-47.7</td>\n",
              "    </tr>\n",
              "    <tr>\n",
              "      <th>장안읍</th>\n",
              "      <td>42</td>\n",
              "      <td>7.9</td>\n",
              "      <td>-34.1</td>\n",
              "    </tr>\n",
              "    <tr>\n",
              "      <th>정관읍</th>\n",
              "      <td>77</td>\n",
              "      <td>30.6</td>\n",
              "      <td>-46.4</td>\n",
              "    </tr>\n",
              "    <tr>\n",
              "      <th>일광면</th>\n",
              "      <td>42</td>\n",
              "      <td>12.7</td>\n",
              "      <td>-29.3</td>\n",
              "    </tr>\n",
              "    <tr>\n",
              "      <th>철마면</th>\n",
              "      <td>33</td>\n",
              "      <td>8.6</td>\n",
              "      <td>-24.4</td>\n",
              "    </tr>\n",
              "  </tbody>\n",
              "</table>\n",
              "<p>205 rows × 3 columns</p>\n",
              "</div>\n",
              "      <button class=\"colab-df-convert\" onclick=\"convertToInteractive('df-3d15a91a-3a55-400e-ad48-020a607d514a')\"\n",
              "              title=\"Convert this dataframe to an interactive table.\"\n",
              "              style=\"display:none;\">\n",
              "        \n",
              "  <svg xmlns=\"http://www.w3.org/2000/svg\" height=\"24px\"viewBox=\"0 0 24 24\"\n",
              "       width=\"24px\">\n",
              "    <path d=\"M0 0h24v24H0V0z\" fill=\"none\"/>\n",
              "    <path d=\"M18.56 5.44l.94 2.06.94-2.06 2.06-.94-2.06-.94-.94-2.06-.94 2.06-2.06.94zm-11 1L8.5 8.5l.94-2.06 2.06-.94-2.06-.94L8.5 2.5l-.94 2.06-2.06.94zm10 10l.94 2.06.94-2.06 2.06-.94-2.06-.94-.94-2.06-.94 2.06-2.06.94z\"/><path d=\"M17.41 7.96l-1.37-1.37c-.4-.4-.92-.59-1.43-.59-.52 0-1.04.2-1.43.59L10.3 9.45l-7.72 7.72c-.78.78-.78 2.05 0 2.83L4 21.41c.39.39.9.59 1.41.59.51 0 1.02-.2 1.41-.59l7.78-7.78 2.81-2.81c.8-.78.8-2.07 0-2.86zM5.41 20L4 18.59l7.72-7.72 1.47 1.35L5.41 20z\"/>\n",
              "  </svg>\n",
              "      </button>\n",
              "      \n",
              "  <style>\n",
              "    .colab-df-container {\n",
              "      display:flex;\n",
              "      flex-wrap:wrap;\n",
              "      gap: 12px;\n",
              "    }\n",
              "\n",
              "    .colab-df-convert {\n",
              "      background-color: #E8F0FE;\n",
              "      border: none;\n",
              "      border-radius: 50%;\n",
              "      cursor: pointer;\n",
              "      display: none;\n",
              "      fill: #1967D2;\n",
              "      height: 32px;\n",
              "      padding: 0 0 0 0;\n",
              "      width: 32px;\n",
              "    }\n",
              "\n",
              "    .colab-df-convert:hover {\n",
              "      background-color: #E2EBFA;\n",
              "      box-shadow: 0px 1px 2px rgba(60, 64, 67, 0.3), 0px 1px 3px 1px rgba(60, 64, 67, 0.15);\n",
              "      fill: #174EA6;\n",
              "    }\n",
              "\n",
              "    [theme=dark] .colab-df-convert {\n",
              "      background-color: #3B4455;\n",
              "      fill: #D2E3FC;\n",
              "    }\n",
              "\n",
              "    [theme=dark] .colab-df-convert:hover {\n",
              "      background-color: #434B5C;\n",
              "      box-shadow: 0px 1px 3px 1px rgba(0, 0, 0, 0.15);\n",
              "      filter: drop-shadow(0px 1px 2px rgba(0, 0, 0, 0.3));\n",
              "      fill: #FFFFFF;\n",
              "    }\n",
              "  </style>\n",
              "\n",
              "      <script>\n",
              "        const buttonEl =\n",
              "          document.querySelector('#df-3d15a91a-3a55-400e-ad48-020a607d514a button.colab-df-convert');\n",
              "        buttonEl.style.display =\n",
              "          google.colab.kernel.accessAllowed ? 'block' : 'none';\n",
              "\n",
              "        async function convertToInteractive(key) {\n",
              "          const element = document.querySelector('#df-3d15a91a-3a55-400e-ad48-020a607d514a');\n",
              "          const dataTable =\n",
              "            await google.colab.kernel.invokeFunction('convertToInteractive',\n",
              "                                                     [key], {});\n",
              "          if (!dataTable) return;\n",
              "\n",
              "          const docLinkHtml = 'Like what you see? Visit the ' +\n",
              "            '<a target=\"_blank\" href=https://colab.research.google.com/notebooks/data_table.ipynb>data table notebook</a>'\n",
              "            + ' to learn more about interactive tables.';\n",
              "          element.innerHTML = '';\n",
              "          dataTable['output_type'] = 'display_data';\n",
              "          await google.colab.output.renderOutput(dataTable, element);\n",
              "          const docLink = document.createElement('div');\n",
              "          docLink.innerHTML = docLinkHtml;\n",
              "          element.appendChild(docLink);\n",
              "        }\n",
              "      </script>\n",
              "    </div>\n",
              "  </div>\n",
              "  "
            ]
          },
          "metadata": {},
          "execution_count": 107
        }
      ],
      "source": [
        "df_main = senior_center_need_counts_by_admin_area(df_main,senior_center_by_admin_area,proper_senior_center_n)\n",
        "df_main"
      ]
    },
    {
      "cell_type": "markdown",
      "metadata": {
        "id": "iiUBJlZ8sB9V"
      },
      "source": [
        "## 4) 필요한 정보 구하기"
      ]
    },
    {
      "cell_type": "markdown",
      "metadata": {
        "id": "zUFu85vq5vTk"
      },
      "source": [
        "- 경로당 이용률을 고려한 적정 경로당 수 및 필요한 경로당 수 구하기\n",
        "--------\n",
        "\n",
        "이용률을 고려하지 않은 결과 \n",
        " __고령 인구가 많이 없는 지역의 실제 경로당 수와 적절한 경로당 수의 차이가 매우 심각하게 나타나는 현상 발견__\n",
        "\n",
        "\n",
        "이에 따른 원인을 분석한 결과 경로당 이용률에 대한 차이가 클 것이다는 가정을 세웠다. \n",
        "\n",
        "이용률을 고려하여 노인 1명당 필요한 경로당 수를 다시 산출해야한다.\n",
        "\n",
        "$ 노인\\,1명당\\,필요한\\,경로당\\,수\\, =(\\,전체\\,노인\\,중\\,경로당\\,이용\\,비율/100) \\,/\\,경로당\\,1개소\\,당\\,등록자\\,수\\,$"
      ]
    },
    {
      "cell_type": "markdown",
      "metadata": {
        "collapsed": false,
        "id": "DL26mYI8rcJC"
      },
      "source": [
        "### 4.1) 노인 1명당 필요한 경로당 수 산출 메서드"
      ]
    },
    {
      "cell_type": "code",
      "execution_count": 108,
      "metadata": {
        "id": "VWRd2DnlrcJD"
      },
      "outputs": [],
      "source": [
        "def oen_old_population_senior_centers_request_by_member(df_sc_members):\n",
        "    '''\n",
        "    이용률을 고려한 1명의 노인당 필요한 경로당 개수를 구하여 경로당 이용률 데이터 프레임에 삽입\n",
        "    :param df_sc_members: 경로당 이용률 데이터 프레임\n",
        "    :return: 1명의 노인이 필요한 경로당 수\n",
        "    '''\n",
        "\n",
        "    sc_members_rate = df_sc_members.iloc[0:][\"전체 노인 중 경로당 이용 비율\"] # A\n",
        "    sc_member_n = df_sc_members.iloc[0:][\"경로당 1개소 당 등록자 수\"] # B\n",
        "    result = (sc_members_rate/100) / sc_member_n\n",
        "    df = pd.concat([df_sc_members,result],axis=1)\n",
        "    df.rename(columns={0:'노인 1명이 필요한 경로당 개수'},inplace=True)\n",
        "\n",
        "    return df"
      ]
    },
    {
      "cell_type": "code",
      "execution_count": 109,
      "metadata": {
        "id": "A20j0RizrcJE"
      },
      "outputs": [],
      "source": [
        "df_sc_members = oen_old_population_senior_centers_request_by_member(df_sc_members)\n",
        "df_request_member_main = get_senior_centers_by_district()\n",
        "district = list(df_request_member_main.iloc[0:][\"행정 구\"])\n",
        "df_request_member_main = df_request_member_main.set_index([\"행정 구\",\"행정 동\"])"
      ]
    },
    {
      "cell_type": "code",
      "execution_count": 110,
      "metadata": {
        "colab": {
          "base_uri": "https://localhost:8080/",
          "height": 551
        },
        "id": "dnZg_8FNgM8n",
        "outputId": "c4a30b30-7177-4314-8f5d-c8d863136620"
      },
      "outputs": [
        {
          "output_type": "execute_result",
          "data": {
            "text/plain": [
              "      구분  경로당 1개소 당 등록자 수  전체 노인 중 경로당 이용 비율  전체 인구 중 노인 비율  노인 1명이 필요한 경로당 개수\n",
              "0     중구             43.2               12.5           24.2           0.002894\n",
              "1     서구             26.2                7.6           22.8           0.002901\n",
              "2     동구             30.7                9.6           24.6           0.003127\n",
              "3    영도구             35.2                8.1           24.2           0.002301\n",
              "4   부산진구             31.9               15.0           17.8           0.004702\n",
              "5    동래구             39.8               13.0           16.6           0.003266\n",
              "6     남구             34.0               10.0           17.9           0.002941\n",
              "7     북구             29.9               10.4           14.5           0.003478\n",
              "8   해운대구             39.9               14.2           15.3           0.003559\n",
              "9    사하구             26.5                9.3           16.1           0.003509\n",
              "10   금정구             41.0               11.2           18.2           0.002732\n",
              "11   강서구             33.6               38.2           11.4           0.011369\n",
              "12   연제구             33.9               11.7           17.0           0.003451\n",
              "13   수영구             41.9               10.5           19.1           0.002506\n",
              "14   사상구             33.1               16.2           15.3           0.004894\n",
              "15   기장군             31.6               37.1           14.5           0.011741"
            ],
            "text/html": [
              "\n",
              "  <div id=\"df-76810c97-3f84-4c43-8040-76a730ce5cb1\">\n",
              "    <div class=\"colab-df-container\">\n",
              "      <div>\n",
              "<style scoped>\n",
              "    .dataframe tbody tr th:only-of-type {\n",
              "        vertical-align: middle;\n",
              "    }\n",
              "\n",
              "    .dataframe tbody tr th {\n",
              "        vertical-align: top;\n",
              "    }\n",
              "\n",
              "    .dataframe thead th {\n",
              "        text-align: right;\n",
              "    }\n",
              "</style>\n",
              "<table border=\"1\" class=\"dataframe\">\n",
              "  <thead>\n",
              "    <tr style=\"text-align: right;\">\n",
              "      <th></th>\n",
              "      <th>구분</th>\n",
              "      <th>경로당 1개소 당 등록자 수</th>\n",
              "      <th>전체 노인 중 경로당 이용 비율</th>\n",
              "      <th>전체 인구 중 노인 비율</th>\n",
              "      <th>노인 1명이 필요한 경로당 개수</th>\n",
              "    </tr>\n",
              "  </thead>\n",
              "  <tbody>\n",
              "    <tr>\n",
              "      <th>0</th>\n",
              "      <td>중구</td>\n",
              "      <td>43.2</td>\n",
              "      <td>12.5</td>\n",
              "      <td>24.2</td>\n",
              "      <td>0.002894</td>\n",
              "    </tr>\n",
              "    <tr>\n",
              "      <th>1</th>\n",
              "      <td>서구</td>\n",
              "      <td>26.2</td>\n",
              "      <td>7.6</td>\n",
              "      <td>22.8</td>\n",
              "      <td>0.002901</td>\n",
              "    </tr>\n",
              "    <tr>\n",
              "      <th>2</th>\n",
              "      <td>동구</td>\n",
              "      <td>30.7</td>\n",
              "      <td>9.6</td>\n",
              "      <td>24.6</td>\n",
              "      <td>0.003127</td>\n",
              "    </tr>\n",
              "    <tr>\n",
              "      <th>3</th>\n",
              "      <td>영도구</td>\n",
              "      <td>35.2</td>\n",
              "      <td>8.1</td>\n",
              "      <td>24.2</td>\n",
              "      <td>0.002301</td>\n",
              "    </tr>\n",
              "    <tr>\n",
              "      <th>4</th>\n",
              "      <td>부산진구</td>\n",
              "      <td>31.9</td>\n",
              "      <td>15.0</td>\n",
              "      <td>17.8</td>\n",
              "      <td>0.004702</td>\n",
              "    </tr>\n",
              "    <tr>\n",
              "      <th>5</th>\n",
              "      <td>동래구</td>\n",
              "      <td>39.8</td>\n",
              "      <td>13.0</td>\n",
              "      <td>16.6</td>\n",
              "      <td>0.003266</td>\n",
              "    </tr>\n",
              "    <tr>\n",
              "      <th>6</th>\n",
              "      <td>남구</td>\n",
              "      <td>34.0</td>\n",
              "      <td>10.0</td>\n",
              "      <td>17.9</td>\n",
              "      <td>0.002941</td>\n",
              "    </tr>\n",
              "    <tr>\n",
              "      <th>7</th>\n",
              "      <td>북구</td>\n",
              "      <td>29.9</td>\n",
              "      <td>10.4</td>\n",
              "      <td>14.5</td>\n",
              "      <td>0.003478</td>\n",
              "    </tr>\n",
              "    <tr>\n",
              "      <th>8</th>\n",
              "      <td>해운대구</td>\n",
              "      <td>39.9</td>\n",
              "      <td>14.2</td>\n",
              "      <td>15.3</td>\n",
              "      <td>0.003559</td>\n",
              "    </tr>\n",
              "    <tr>\n",
              "      <th>9</th>\n",
              "      <td>사하구</td>\n",
              "      <td>26.5</td>\n",
              "      <td>9.3</td>\n",
              "      <td>16.1</td>\n",
              "      <td>0.003509</td>\n",
              "    </tr>\n",
              "    <tr>\n",
              "      <th>10</th>\n",
              "      <td>금정구</td>\n",
              "      <td>41.0</td>\n",
              "      <td>11.2</td>\n",
              "      <td>18.2</td>\n",
              "      <td>0.002732</td>\n",
              "    </tr>\n",
              "    <tr>\n",
              "      <th>11</th>\n",
              "      <td>강서구</td>\n",
              "      <td>33.6</td>\n",
              "      <td>38.2</td>\n",
              "      <td>11.4</td>\n",
              "      <td>0.011369</td>\n",
              "    </tr>\n",
              "    <tr>\n",
              "      <th>12</th>\n",
              "      <td>연제구</td>\n",
              "      <td>33.9</td>\n",
              "      <td>11.7</td>\n",
              "      <td>17.0</td>\n",
              "      <td>0.003451</td>\n",
              "    </tr>\n",
              "    <tr>\n",
              "      <th>13</th>\n",
              "      <td>수영구</td>\n",
              "      <td>41.9</td>\n",
              "      <td>10.5</td>\n",
              "      <td>19.1</td>\n",
              "      <td>0.002506</td>\n",
              "    </tr>\n",
              "    <tr>\n",
              "      <th>14</th>\n",
              "      <td>사상구</td>\n",
              "      <td>33.1</td>\n",
              "      <td>16.2</td>\n",
              "      <td>15.3</td>\n",
              "      <td>0.004894</td>\n",
              "    </tr>\n",
              "    <tr>\n",
              "      <th>15</th>\n",
              "      <td>기장군</td>\n",
              "      <td>31.6</td>\n",
              "      <td>37.1</td>\n",
              "      <td>14.5</td>\n",
              "      <td>0.011741</td>\n",
              "    </tr>\n",
              "  </tbody>\n",
              "</table>\n",
              "</div>\n",
              "      <button class=\"colab-df-convert\" onclick=\"convertToInteractive('df-76810c97-3f84-4c43-8040-76a730ce5cb1')\"\n",
              "              title=\"Convert this dataframe to an interactive table.\"\n",
              "              style=\"display:none;\">\n",
              "        \n",
              "  <svg xmlns=\"http://www.w3.org/2000/svg\" height=\"24px\"viewBox=\"0 0 24 24\"\n",
              "       width=\"24px\">\n",
              "    <path d=\"M0 0h24v24H0V0z\" fill=\"none\"/>\n",
              "    <path d=\"M18.56 5.44l.94 2.06.94-2.06 2.06-.94-2.06-.94-.94-2.06-.94 2.06-2.06.94zm-11 1L8.5 8.5l.94-2.06 2.06-.94-2.06-.94L8.5 2.5l-.94 2.06-2.06.94zm10 10l.94 2.06.94-2.06 2.06-.94-2.06-.94-.94-2.06-.94 2.06-2.06.94z\"/><path d=\"M17.41 7.96l-1.37-1.37c-.4-.4-.92-.59-1.43-.59-.52 0-1.04.2-1.43.59L10.3 9.45l-7.72 7.72c-.78.78-.78 2.05 0 2.83L4 21.41c.39.39.9.59 1.41.59.51 0 1.02-.2 1.41-.59l7.78-7.78 2.81-2.81c.8-.78.8-2.07 0-2.86zM5.41 20L4 18.59l7.72-7.72 1.47 1.35L5.41 20z\"/>\n",
              "  </svg>\n",
              "      </button>\n",
              "      \n",
              "  <style>\n",
              "    .colab-df-container {\n",
              "      display:flex;\n",
              "      flex-wrap:wrap;\n",
              "      gap: 12px;\n",
              "    }\n",
              "\n",
              "    .colab-df-convert {\n",
              "      background-color: #E8F0FE;\n",
              "      border: none;\n",
              "      border-radius: 50%;\n",
              "      cursor: pointer;\n",
              "      display: none;\n",
              "      fill: #1967D2;\n",
              "      height: 32px;\n",
              "      padding: 0 0 0 0;\n",
              "      width: 32px;\n",
              "    }\n",
              "\n",
              "    .colab-df-convert:hover {\n",
              "      background-color: #E2EBFA;\n",
              "      box-shadow: 0px 1px 2px rgba(60, 64, 67, 0.3), 0px 1px 3px 1px rgba(60, 64, 67, 0.15);\n",
              "      fill: #174EA6;\n",
              "    }\n",
              "\n",
              "    [theme=dark] .colab-df-convert {\n",
              "      background-color: #3B4455;\n",
              "      fill: #D2E3FC;\n",
              "    }\n",
              "\n",
              "    [theme=dark] .colab-df-convert:hover {\n",
              "      background-color: #434B5C;\n",
              "      box-shadow: 0px 1px 3px 1px rgba(0, 0, 0, 0.15);\n",
              "      filter: drop-shadow(0px 1px 2px rgba(0, 0, 0, 0.3));\n",
              "      fill: #FFFFFF;\n",
              "    }\n",
              "  </style>\n",
              "\n",
              "      <script>\n",
              "        const buttonEl =\n",
              "          document.querySelector('#df-76810c97-3f84-4c43-8040-76a730ce5cb1 button.colab-df-convert');\n",
              "        buttonEl.style.display =\n",
              "          google.colab.kernel.accessAllowed ? 'block' : 'none';\n",
              "\n",
              "        async function convertToInteractive(key) {\n",
              "          const element = document.querySelector('#df-76810c97-3f84-4c43-8040-76a730ce5cb1');\n",
              "          const dataTable =\n",
              "            await google.colab.kernel.invokeFunction('convertToInteractive',\n",
              "                                                     [key], {});\n",
              "          if (!dataTable) return;\n",
              "\n",
              "          const docLinkHtml = 'Like what you see? Visit the ' +\n",
              "            '<a target=\"_blank\" href=https://colab.research.google.com/notebooks/data_table.ipynb>data table notebook</a>'\n",
              "            + ' to learn more about interactive tables.';\n",
              "          element.innerHTML = '';\n",
              "          dataTable['output_type'] = 'display_data';\n",
              "          await google.colab.output.renderOutput(dataTable, element);\n",
              "          const docLink = document.createElement('div');\n",
              "          docLink.innerHTML = docLinkHtml;\n",
              "          element.appendChild(docLink);\n",
              "        }\n",
              "      </script>\n",
              "    </div>\n",
              "  </div>\n",
              "  "
            ]
          },
          "metadata": {},
          "execution_count": 110
        }
      ],
      "source": [
        "df_sc_members"
      ]
    },
    {
      "cell_type": "code",
      "execution_count": 111,
      "metadata": {
        "colab": {
          "base_uri": "https://localhost:8080/",
          "height": 238
        },
        "id": "e9EqrgJpEmAP",
        "outputId": "68c6393d-a243-48b3-ae06-abfd2ef2f6aa"
      },
      "outputs": [
        {
          "output_type": "execute_result",
          "data": {
            "text/plain": [
              "          경로당 수 적절한 경로당 수 필요한 경로당 수\n",
              "행정 구 행정 동                          \n",
              "중구   중앙동    NaN       NaN       NaN\n",
              "     동광동    NaN       NaN       NaN\n",
              "     대청동    NaN       NaN       NaN\n",
              "     보수동    NaN       NaN       NaN\n",
              "     부평동    NaN       NaN       NaN"
            ],
            "text/html": [
              "\n",
              "  <div id=\"df-8119e685-e34d-4a64-9c36-b380c518dcad\">\n",
              "    <div class=\"colab-df-container\">\n",
              "      <div>\n",
              "<style scoped>\n",
              "    .dataframe tbody tr th:only-of-type {\n",
              "        vertical-align: middle;\n",
              "    }\n",
              "\n",
              "    .dataframe tbody tr th {\n",
              "        vertical-align: top;\n",
              "    }\n",
              "\n",
              "    .dataframe thead th {\n",
              "        text-align: right;\n",
              "    }\n",
              "</style>\n",
              "<table border=\"1\" class=\"dataframe\">\n",
              "  <thead>\n",
              "    <tr style=\"text-align: right;\">\n",
              "      <th></th>\n",
              "      <th></th>\n",
              "      <th>경로당 수</th>\n",
              "      <th>적절한 경로당 수</th>\n",
              "      <th>필요한 경로당 수</th>\n",
              "    </tr>\n",
              "    <tr>\n",
              "      <th>행정 구</th>\n",
              "      <th>행정 동</th>\n",
              "      <th></th>\n",
              "      <th></th>\n",
              "      <th></th>\n",
              "    </tr>\n",
              "  </thead>\n",
              "  <tbody>\n",
              "    <tr>\n",
              "      <th rowspan=\"5\" valign=\"top\">중구</th>\n",
              "      <th>중앙동</th>\n",
              "      <td>NaN</td>\n",
              "      <td>NaN</td>\n",
              "      <td>NaN</td>\n",
              "    </tr>\n",
              "    <tr>\n",
              "      <th>동광동</th>\n",
              "      <td>NaN</td>\n",
              "      <td>NaN</td>\n",
              "      <td>NaN</td>\n",
              "    </tr>\n",
              "    <tr>\n",
              "      <th>대청동</th>\n",
              "      <td>NaN</td>\n",
              "      <td>NaN</td>\n",
              "      <td>NaN</td>\n",
              "    </tr>\n",
              "    <tr>\n",
              "      <th>보수동</th>\n",
              "      <td>NaN</td>\n",
              "      <td>NaN</td>\n",
              "      <td>NaN</td>\n",
              "    </tr>\n",
              "    <tr>\n",
              "      <th>부평동</th>\n",
              "      <td>NaN</td>\n",
              "      <td>NaN</td>\n",
              "      <td>NaN</td>\n",
              "    </tr>\n",
              "  </tbody>\n",
              "</table>\n",
              "</div>\n",
              "      <button class=\"colab-df-convert\" onclick=\"convertToInteractive('df-8119e685-e34d-4a64-9c36-b380c518dcad')\"\n",
              "              title=\"Convert this dataframe to an interactive table.\"\n",
              "              style=\"display:none;\">\n",
              "        \n",
              "  <svg xmlns=\"http://www.w3.org/2000/svg\" height=\"24px\"viewBox=\"0 0 24 24\"\n",
              "       width=\"24px\">\n",
              "    <path d=\"M0 0h24v24H0V0z\" fill=\"none\"/>\n",
              "    <path d=\"M18.56 5.44l.94 2.06.94-2.06 2.06-.94-2.06-.94-.94-2.06-.94 2.06-2.06.94zm-11 1L8.5 8.5l.94-2.06 2.06-.94-2.06-.94L8.5 2.5l-.94 2.06-2.06.94zm10 10l.94 2.06.94-2.06 2.06-.94-2.06-.94-.94-2.06-.94 2.06-2.06.94z\"/><path d=\"M17.41 7.96l-1.37-1.37c-.4-.4-.92-.59-1.43-.59-.52 0-1.04.2-1.43.59L10.3 9.45l-7.72 7.72c-.78.78-.78 2.05 0 2.83L4 21.41c.39.39.9.59 1.41.59.51 0 1.02-.2 1.41-.59l7.78-7.78 2.81-2.81c.8-.78.8-2.07 0-2.86zM5.41 20L4 18.59l7.72-7.72 1.47 1.35L5.41 20z\"/>\n",
              "  </svg>\n",
              "      </button>\n",
              "      \n",
              "  <style>\n",
              "    .colab-df-container {\n",
              "      display:flex;\n",
              "      flex-wrap:wrap;\n",
              "      gap: 12px;\n",
              "    }\n",
              "\n",
              "    .colab-df-convert {\n",
              "      background-color: #E8F0FE;\n",
              "      border: none;\n",
              "      border-radius: 50%;\n",
              "      cursor: pointer;\n",
              "      display: none;\n",
              "      fill: #1967D2;\n",
              "      height: 32px;\n",
              "      padding: 0 0 0 0;\n",
              "      width: 32px;\n",
              "    }\n",
              "\n",
              "    .colab-df-convert:hover {\n",
              "      background-color: #E2EBFA;\n",
              "      box-shadow: 0px 1px 2px rgba(60, 64, 67, 0.3), 0px 1px 3px 1px rgba(60, 64, 67, 0.15);\n",
              "      fill: #174EA6;\n",
              "    }\n",
              "\n",
              "    [theme=dark] .colab-df-convert {\n",
              "      background-color: #3B4455;\n",
              "      fill: #D2E3FC;\n",
              "    }\n",
              "\n",
              "    [theme=dark] .colab-df-convert:hover {\n",
              "      background-color: #434B5C;\n",
              "      box-shadow: 0px 1px 3px 1px rgba(0, 0, 0, 0.15);\n",
              "      filter: drop-shadow(0px 1px 2px rgba(0, 0, 0, 0.3));\n",
              "      fill: #FFFFFF;\n",
              "    }\n",
              "  </style>\n",
              "\n",
              "      <script>\n",
              "        const buttonEl =\n",
              "          document.querySelector('#df-8119e685-e34d-4a64-9c36-b380c518dcad button.colab-df-convert');\n",
              "        buttonEl.style.display =\n",
              "          google.colab.kernel.accessAllowed ? 'block' : 'none';\n",
              "\n",
              "        async function convertToInteractive(key) {\n",
              "          const element = document.querySelector('#df-8119e685-e34d-4a64-9c36-b380c518dcad');\n",
              "          const dataTable =\n",
              "            await google.colab.kernel.invokeFunction('convertToInteractive',\n",
              "                                                     [key], {});\n",
              "          if (!dataTable) return;\n",
              "\n",
              "          const docLinkHtml = 'Like what you see? Visit the ' +\n",
              "            '<a target=\"_blank\" href=https://colab.research.google.com/notebooks/data_table.ipynb>data table notebook</a>'\n",
              "            + ' to learn more about interactive tables.';\n",
              "          element.innerHTML = '';\n",
              "          dataTable['output_type'] = 'display_data';\n",
              "          await google.colab.output.renderOutput(dataTable, element);\n",
              "          const docLink = document.createElement('div');\n",
              "          docLink.innerHTML = docLinkHtml;\n",
              "          element.appendChild(docLink);\n",
              "        }\n",
              "      </script>\n",
              "    </div>\n",
              "  </div>\n",
              "  "
            ]
          },
          "metadata": {},
          "execution_count": 111
        }
      ],
      "source": [
        "df_request_member_main.head(5)"
      ]
    },
    {
      "cell_type": "markdown",
      "metadata": {
        "id": "JbZBiQfy_PTh"
      },
      "source": [
        "###4.2) 행정 동 단위 적절한 경로당 수 산출 메서드"
      ]
    },
    {
      "cell_type": "code",
      "execution_count": 112,
      "metadata": {
        "id": "fOt85oVhrcJG"
      },
      "outputs": [],
      "source": [
        "def old_population_sum_by_admin_area_advance(df_request_member_main,df_senior_people,df_sc_members):\n",
        "    '''\n",
        "    행정 동 별 적절한 경로당 수를 구한다.\n",
        "    :param df_request_member_main: 이용률을 고려한 데이터를 담을 df\n",
        "    :param df_senior_people: 행정 동 단위 고령인구\n",
        "    :param df_sc_members: 노인 1명당 필요한 경로당 개수 정보\n",
        "    :return: 적절한 경로당 수가 추가된 데이터 프레임\n",
        "    '''\n",
        "    df_sc_members.set_index(\"구분\",inplace=True)\n",
        "    appropriate_data = np.array([])\n",
        "    dong_n = df_senior_people.shape[0]\n",
        "    gu_n = df_sc_members.shape[0]\n",
        "    str_info = \"고령인구 합계\"\n",
        "    for i in range(0,gu_n):\n",
        "        for j in range(0,dong_n):\n",
        "            if df_request_member_main.index[j][0] == df_sc_members.index[i]:\n",
        "                appropriate_data= np.append(\n",
        "                    appropriate_data,\n",
        "                    round(df_sc_members.iloc[i][\"노인 1명이 필요한 경로당 개수\"]*df_senior_people.iloc[j][str_info],1)\n",
        "                )\n",
        "                #print(f\"result[i]:{df_sc_members.index[i]} 고령:{df_senior_people.iloc[j][str_info]} \")\n",
        "\n",
        "    df_request_member_main[\"적절한 경로당 수\"] = appropriate_data\n",
        "    return df_request_member_main"
      ]
    },
    {
      "cell_type": "code",
      "execution_count": 113,
      "metadata": {
        "id": "ZqOgI_QbrcJI"
      },
      "outputs": [],
      "source": [
        "df_request_member_main= old_population_sum_by_admin_area_advance(\n",
        "    df_request_member_main,\n",
        "    df_senior_people,\n",
        "    df_sc_members\n",
        ")"
      ]
    },
    {
      "cell_type": "code",
      "execution_count": 114,
      "metadata": {
        "colab": {
          "base_uri": "https://localhost:8080/",
          "height": 238
        },
        "id": "536NznMyEpkX",
        "outputId": "92f47df7-d597-4e8e-e8c9-649f81ef41b1"
      },
      "outputs": [
        {
          "output_type": "execute_result",
          "data": {
            "text/plain": [
              "          경로당 수  적절한 경로당 수 필요한 경로당 수\n",
              "행정 구 행정 동                           \n",
              "중구   중앙동    NaN        1.3       NaN\n",
              "     동광동    NaN        2.6       NaN\n",
              "     대청동    NaN        4.7       NaN\n",
              "     보수동    NaN        8.1       NaN\n",
              "     부평동    NaN        4.0       NaN"
            ],
            "text/html": [
              "\n",
              "  <div id=\"df-55b33cb2-8ae3-47cf-9c71-288dadcd98f6\">\n",
              "    <div class=\"colab-df-container\">\n",
              "      <div>\n",
              "<style scoped>\n",
              "    .dataframe tbody tr th:only-of-type {\n",
              "        vertical-align: middle;\n",
              "    }\n",
              "\n",
              "    .dataframe tbody tr th {\n",
              "        vertical-align: top;\n",
              "    }\n",
              "\n",
              "    .dataframe thead th {\n",
              "        text-align: right;\n",
              "    }\n",
              "</style>\n",
              "<table border=\"1\" class=\"dataframe\">\n",
              "  <thead>\n",
              "    <tr style=\"text-align: right;\">\n",
              "      <th></th>\n",
              "      <th></th>\n",
              "      <th>경로당 수</th>\n",
              "      <th>적절한 경로당 수</th>\n",
              "      <th>필요한 경로당 수</th>\n",
              "    </tr>\n",
              "    <tr>\n",
              "      <th>행정 구</th>\n",
              "      <th>행정 동</th>\n",
              "      <th></th>\n",
              "      <th></th>\n",
              "      <th></th>\n",
              "    </tr>\n",
              "  </thead>\n",
              "  <tbody>\n",
              "    <tr>\n",
              "      <th rowspan=\"5\" valign=\"top\">중구</th>\n",
              "      <th>중앙동</th>\n",
              "      <td>NaN</td>\n",
              "      <td>1.3</td>\n",
              "      <td>NaN</td>\n",
              "    </tr>\n",
              "    <tr>\n",
              "      <th>동광동</th>\n",
              "      <td>NaN</td>\n",
              "      <td>2.6</td>\n",
              "      <td>NaN</td>\n",
              "    </tr>\n",
              "    <tr>\n",
              "      <th>대청동</th>\n",
              "      <td>NaN</td>\n",
              "      <td>4.7</td>\n",
              "      <td>NaN</td>\n",
              "    </tr>\n",
              "    <tr>\n",
              "      <th>보수동</th>\n",
              "      <td>NaN</td>\n",
              "      <td>8.1</td>\n",
              "      <td>NaN</td>\n",
              "    </tr>\n",
              "    <tr>\n",
              "      <th>부평동</th>\n",
              "      <td>NaN</td>\n",
              "      <td>4.0</td>\n",
              "      <td>NaN</td>\n",
              "    </tr>\n",
              "  </tbody>\n",
              "</table>\n",
              "</div>\n",
              "      <button class=\"colab-df-convert\" onclick=\"convertToInteractive('df-55b33cb2-8ae3-47cf-9c71-288dadcd98f6')\"\n",
              "              title=\"Convert this dataframe to an interactive table.\"\n",
              "              style=\"display:none;\">\n",
              "        \n",
              "  <svg xmlns=\"http://www.w3.org/2000/svg\" height=\"24px\"viewBox=\"0 0 24 24\"\n",
              "       width=\"24px\">\n",
              "    <path d=\"M0 0h24v24H0V0z\" fill=\"none\"/>\n",
              "    <path d=\"M18.56 5.44l.94 2.06.94-2.06 2.06-.94-2.06-.94-.94-2.06-.94 2.06-2.06.94zm-11 1L8.5 8.5l.94-2.06 2.06-.94-2.06-.94L8.5 2.5l-.94 2.06-2.06.94zm10 10l.94 2.06.94-2.06 2.06-.94-2.06-.94-.94-2.06-.94 2.06-2.06.94z\"/><path d=\"M17.41 7.96l-1.37-1.37c-.4-.4-.92-.59-1.43-.59-.52 0-1.04.2-1.43.59L10.3 9.45l-7.72 7.72c-.78.78-.78 2.05 0 2.83L4 21.41c.39.39.9.59 1.41.59.51 0 1.02-.2 1.41-.59l7.78-7.78 2.81-2.81c.8-.78.8-2.07 0-2.86zM5.41 20L4 18.59l7.72-7.72 1.47 1.35L5.41 20z\"/>\n",
              "  </svg>\n",
              "      </button>\n",
              "      \n",
              "  <style>\n",
              "    .colab-df-container {\n",
              "      display:flex;\n",
              "      flex-wrap:wrap;\n",
              "      gap: 12px;\n",
              "    }\n",
              "\n",
              "    .colab-df-convert {\n",
              "      background-color: #E8F0FE;\n",
              "      border: none;\n",
              "      border-radius: 50%;\n",
              "      cursor: pointer;\n",
              "      display: none;\n",
              "      fill: #1967D2;\n",
              "      height: 32px;\n",
              "      padding: 0 0 0 0;\n",
              "      width: 32px;\n",
              "    }\n",
              "\n",
              "    .colab-df-convert:hover {\n",
              "      background-color: #E2EBFA;\n",
              "      box-shadow: 0px 1px 2px rgba(60, 64, 67, 0.3), 0px 1px 3px 1px rgba(60, 64, 67, 0.15);\n",
              "      fill: #174EA6;\n",
              "    }\n",
              "\n",
              "    [theme=dark] .colab-df-convert {\n",
              "      background-color: #3B4455;\n",
              "      fill: #D2E3FC;\n",
              "    }\n",
              "\n",
              "    [theme=dark] .colab-df-convert:hover {\n",
              "      background-color: #434B5C;\n",
              "      box-shadow: 0px 1px 3px 1px rgba(0, 0, 0, 0.15);\n",
              "      filter: drop-shadow(0px 1px 2px rgba(0, 0, 0, 0.3));\n",
              "      fill: #FFFFFF;\n",
              "    }\n",
              "  </style>\n",
              "\n",
              "      <script>\n",
              "        const buttonEl =\n",
              "          document.querySelector('#df-55b33cb2-8ae3-47cf-9c71-288dadcd98f6 button.colab-df-convert');\n",
              "        buttonEl.style.display =\n",
              "          google.colab.kernel.accessAllowed ? 'block' : 'none';\n",
              "\n",
              "        async function convertToInteractive(key) {\n",
              "          const element = document.querySelector('#df-55b33cb2-8ae3-47cf-9c71-288dadcd98f6');\n",
              "          const dataTable =\n",
              "            await google.colab.kernel.invokeFunction('convertToInteractive',\n",
              "                                                     [key], {});\n",
              "          if (!dataTable) return;\n",
              "\n",
              "          const docLinkHtml = 'Like what you see? Visit the ' +\n",
              "            '<a target=\"_blank\" href=https://colab.research.google.com/notebooks/data_table.ipynb>data table notebook</a>'\n",
              "            + ' to learn more about interactive tables.';\n",
              "          element.innerHTML = '';\n",
              "          dataTable['output_type'] = 'display_data';\n",
              "          await google.colab.output.renderOutput(dataTable, element);\n",
              "          const docLink = document.createElement('div');\n",
              "          docLink.innerHTML = docLinkHtml;\n",
              "          element.appendChild(docLink);\n",
              "        }\n",
              "      </script>\n",
              "    </div>\n",
              "  </div>\n",
              "  "
            ]
          },
          "metadata": {},
          "execution_count": 114
        }
      ],
      "source": [
        "df_request_member_main.head(5)"
      ]
    },
    {
      "cell_type": "markdown",
      "metadata": {
        "collapsed": false,
        "id": "PwbsctQ0rcJJ"
      },
      "source": [
        "###4.3) 행정 동 단위 해당하는 경로당 수 및 필요한 경로당 수 산출 메서드"
      ]
    },
    {
      "cell_type": "code",
      "execution_count": 115,
      "metadata": {
        "id": "GEHnLbryrcJK"
      },
      "outputs": [],
      "source": [
        "def senior_center_need_counts_by_admin_area_advance(df_busan_senior_centers,df_request_member_main):\n",
        "    '''\n",
        "    행정 동 단위 이용률을 고려한 경로당 개수를 구한다\n",
        "    :param df_busan_senior_centers: 부산시 경로당 현황 데이터\n",
        "    :param df_request_member_main:  이용률을 고려한 데이터를 담을 df\n",
        "    :return: 행정 동 단위 이용률을 고려한 경로당 개수를 담은 df\n",
        "    '''\n",
        "    sc_n_by_admin_area = np.array(df_busan_senior_centers[\"읍면동\"].value_counts().sort_index())\n",
        "    df_request_member_main.reset_index(inplace=True)\n",
        "    df_request_member_main.sort_values(by=[\"행정 동\"],inplace=True)\n",
        "    df_request_member_main[\"경로당 수\"] = sc_n_by_admin_area\n",
        "    df_request_member_main.loc[df_request_member_main.iloc[0:][\"행정 동\"]==\"광복동\",\"경로당 수\"] = 0\n",
        "    df_request_member_main[\"필요한 경로당 수\"] = round(-(df_request_member_main[\"경로당 수\"] - df_request_member_main[\"적절한 경로당 수\"]),0)\n",
        "    # df_request_member_main.set_index([\"행정 구\"],inplace=True)\n",
        "\n",
        "    return df_request_member_main"
      ]
    },
    {
      "cell_type": "code",
      "execution_count": 116,
      "metadata": {
        "colab": {
          "base_uri": "https://localhost:8080/",
          "height": 206
        },
        "id": "i2zzinUtrcJL",
        "outputId": "f8908204-b2ba-41a0-9797-e974890a7098"
      },
      "outputs": [
        {
          "output_type": "execute_result",
          "data": {
            "text/plain": [
              "     행정 구  행정 동  경로당 수  적절한 경로당 수  필요한 경로당 수\n",
              "165   강서구  가덕도동     17       13.4       -4.0\n",
              "162   강서구   가락동     18       10.6       -7.0\n",
              "58   부산진구  가야1동     15       20.4        5.0\n",
              "59   부산진구  가야2동     12       18.3        6.0\n",
              "88     남구  감만1동     15       10.1       -5.0"
            ],
            "text/html": [
              "\n",
              "  <div id=\"df-c5452cd1-a718-405f-82e9-370693c02fb8\">\n",
              "    <div class=\"colab-df-container\">\n",
              "      <div>\n",
              "<style scoped>\n",
              "    .dataframe tbody tr th:only-of-type {\n",
              "        vertical-align: middle;\n",
              "    }\n",
              "\n",
              "    .dataframe tbody tr th {\n",
              "        vertical-align: top;\n",
              "    }\n",
              "\n",
              "    .dataframe thead th {\n",
              "        text-align: right;\n",
              "    }\n",
              "</style>\n",
              "<table border=\"1\" class=\"dataframe\">\n",
              "  <thead>\n",
              "    <tr style=\"text-align: right;\">\n",
              "      <th></th>\n",
              "      <th>행정 구</th>\n",
              "      <th>행정 동</th>\n",
              "      <th>경로당 수</th>\n",
              "      <th>적절한 경로당 수</th>\n",
              "      <th>필요한 경로당 수</th>\n",
              "    </tr>\n",
              "  </thead>\n",
              "  <tbody>\n",
              "    <tr>\n",
              "      <th>165</th>\n",
              "      <td>강서구</td>\n",
              "      <td>가덕도동</td>\n",
              "      <td>17</td>\n",
              "      <td>13.4</td>\n",
              "      <td>-4.0</td>\n",
              "    </tr>\n",
              "    <tr>\n",
              "      <th>162</th>\n",
              "      <td>강서구</td>\n",
              "      <td>가락동</td>\n",
              "      <td>18</td>\n",
              "      <td>10.6</td>\n",
              "      <td>-7.0</td>\n",
              "    </tr>\n",
              "    <tr>\n",
              "      <th>58</th>\n",
              "      <td>부산진구</td>\n",
              "      <td>가야1동</td>\n",
              "      <td>15</td>\n",
              "      <td>20.4</td>\n",
              "      <td>5.0</td>\n",
              "    </tr>\n",
              "    <tr>\n",
              "      <th>59</th>\n",
              "      <td>부산진구</td>\n",
              "      <td>가야2동</td>\n",
              "      <td>12</td>\n",
              "      <td>18.3</td>\n",
              "      <td>6.0</td>\n",
              "    </tr>\n",
              "    <tr>\n",
              "      <th>88</th>\n",
              "      <td>남구</td>\n",
              "      <td>감만1동</td>\n",
              "      <td>15</td>\n",
              "      <td>10.1</td>\n",
              "      <td>-5.0</td>\n",
              "    </tr>\n",
              "  </tbody>\n",
              "</table>\n",
              "</div>\n",
              "      <button class=\"colab-df-convert\" onclick=\"convertToInteractive('df-c5452cd1-a718-405f-82e9-370693c02fb8')\"\n",
              "              title=\"Convert this dataframe to an interactive table.\"\n",
              "              style=\"display:none;\">\n",
              "        \n",
              "  <svg xmlns=\"http://www.w3.org/2000/svg\" height=\"24px\"viewBox=\"0 0 24 24\"\n",
              "       width=\"24px\">\n",
              "    <path d=\"M0 0h24v24H0V0z\" fill=\"none\"/>\n",
              "    <path d=\"M18.56 5.44l.94 2.06.94-2.06 2.06-.94-2.06-.94-.94-2.06-.94 2.06-2.06.94zm-11 1L8.5 8.5l.94-2.06 2.06-.94-2.06-.94L8.5 2.5l-.94 2.06-2.06.94zm10 10l.94 2.06.94-2.06 2.06-.94-2.06-.94-.94-2.06-.94 2.06-2.06.94z\"/><path d=\"M17.41 7.96l-1.37-1.37c-.4-.4-.92-.59-1.43-.59-.52 0-1.04.2-1.43.59L10.3 9.45l-7.72 7.72c-.78.78-.78 2.05 0 2.83L4 21.41c.39.39.9.59 1.41.59.51 0 1.02-.2 1.41-.59l7.78-7.78 2.81-2.81c.8-.78.8-2.07 0-2.86zM5.41 20L4 18.59l7.72-7.72 1.47 1.35L5.41 20z\"/>\n",
              "  </svg>\n",
              "      </button>\n",
              "      \n",
              "  <style>\n",
              "    .colab-df-container {\n",
              "      display:flex;\n",
              "      flex-wrap:wrap;\n",
              "      gap: 12px;\n",
              "    }\n",
              "\n",
              "    .colab-df-convert {\n",
              "      background-color: #E8F0FE;\n",
              "      border: none;\n",
              "      border-radius: 50%;\n",
              "      cursor: pointer;\n",
              "      display: none;\n",
              "      fill: #1967D2;\n",
              "      height: 32px;\n",
              "      padding: 0 0 0 0;\n",
              "      width: 32px;\n",
              "    }\n",
              "\n",
              "    .colab-df-convert:hover {\n",
              "      background-color: #E2EBFA;\n",
              "      box-shadow: 0px 1px 2px rgba(60, 64, 67, 0.3), 0px 1px 3px 1px rgba(60, 64, 67, 0.15);\n",
              "      fill: #174EA6;\n",
              "    }\n",
              "\n",
              "    [theme=dark] .colab-df-convert {\n",
              "      background-color: #3B4455;\n",
              "      fill: #D2E3FC;\n",
              "    }\n",
              "\n",
              "    [theme=dark] .colab-df-convert:hover {\n",
              "      background-color: #434B5C;\n",
              "      box-shadow: 0px 1px 3px 1px rgba(0, 0, 0, 0.15);\n",
              "      filter: drop-shadow(0px 1px 2px rgba(0, 0, 0, 0.3));\n",
              "      fill: #FFFFFF;\n",
              "    }\n",
              "  </style>\n",
              "\n",
              "      <script>\n",
              "        const buttonEl =\n",
              "          document.querySelector('#df-c5452cd1-a718-405f-82e9-370693c02fb8 button.colab-df-convert');\n",
              "        buttonEl.style.display =\n",
              "          google.colab.kernel.accessAllowed ? 'block' : 'none';\n",
              "\n",
              "        async function convertToInteractive(key) {\n",
              "          const element = document.querySelector('#df-c5452cd1-a718-405f-82e9-370693c02fb8');\n",
              "          const dataTable =\n",
              "            await google.colab.kernel.invokeFunction('convertToInteractive',\n",
              "                                                     [key], {});\n",
              "          if (!dataTable) return;\n",
              "\n",
              "          const docLinkHtml = 'Like what you see? Visit the ' +\n",
              "            '<a target=\"_blank\" href=https://colab.research.google.com/notebooks/data_table.ipynb>data table notebook</a>'\n",
              "            + ' to learn more about interactive tables.';\n",
              "          element.innerHTML = '';\n",
              "          dataTable['output_type'] = 'display_data';\n",
              "          await google.colab.output.renderOutput(dataTable, element);\n",
              "          const docLink = document.createElement('div');\n",
              "          docLink.innerHTML = docLinkHtml;\n",
              "          element.appendChild(docLink);\n",
              "        }\n",
              "      </script>\n",
              "    </div>\n",
              "  </div>\n",
              "  "
            ]
          },
          "metadata": {},
          "execution_count": 116
        }
      ],
      "source": [
        "df_request_member_main = senior_center_need_counts_by_admin_area_advance(df_busan_senior_centers, df_request_member_main)\n",
        "df_request_member_main.head(5)"
      ]
    },
    {
      "cell_type": "code",
      "execution_count": 117,
      "metadata": {
        "id": "2f7BkKeprcJM"
      },
      "outputs": [],
      "source": [
        "# 예측 평가를 위해 파일 저장\n",
        "df_request_member_main.to_csv(\"예측비교.csv\",encoding='cp949')"
      ]
    },
    {
      "cell_type": "code",
      "execution_count": 118,
      "metadata": {
        "id": "zGYc24R-rcJO"
      },
      "outputs": [],
      "source": [
        "def extract_by_district_necessary_senior_center(df_request_member_main):\n",
        "    '''\n",
        "    df_request_member_main에서 행정 구, 행정 동, 필요한 경로당 수를 추출하여 새로운 데이터 프레임을 생성한다.\n",
        "    :param df_request_member_main: 추출할 데이터가 들어잇는 데이터 프레임\n",
        "    :return: 추출된 데이터를 가질 데이터 프레임\n",
        "    '''\n",
        "    df = df_request_member_main.sort_index()\n",
        "    df.drop(columns=[\"경로당 수\",\"적절한 경로당 수\"],axis=1,inplace=True)\n",
        "    return df"
      ]
    },
    {
      "cell_type": "code",
      "execution_count": 119,
      "metadata": {
        "colab": {
          "base_uri": "https://localhost:8080/",
          "height": 206
        },
        "id": "IU0Sx_IXrcJP",
        "outputId": "e8719d29-b557-44de-d680-9caf40f24116"
      },
      "outputs": [
        {
          "output_type": "execute_result",
          "data": {
            "text/plain": [
              "  행정 구 행정 동  필요한 경로당 수\n",
              "0   중구  중앙동        0.0\n",
              "1   중구  동광동        2.0\n",
              "2   중구  대청동        1.0\n",
              "3   중구  보수동       -2.0\n",
              "4   중구  부평동        2.0"
            ],
            "text/html": [
              "\n",
              "  <div id=\"df-d53c446d-455b-4bef-90be-203fc73874e1\">\n",
              "    <div class=\"colab-df-container\">\n",
              "      <div>\n",
              "<style scoped>\n",
              "    .dataframe tbody tr th:only-of-type {\n",
              "        vertical-align: middle;\n",
              "    }\n",
              "\n",
              "    .dataframe tbody tr th {\n",
              "        vertical-align: top;\n",
              "    }\n",
              "\n",
              "    .dataframe thead th {\n",
              "        text-align: right;\n",
              "    }\n",
              "</style>\n",
              "<table border=\"1\" class=\"dataframe\">\n",
              "  <thead>\n",
              "    <tr style=\"text-align: right;\">\n",
              "      <th></th>\n",
              "      <th>행정 구</th>\n",
              "      <th>행정 동</th>\n",
              "      <th>필요한 경로당 수</th>\n",
              "    </tr>\n",
              "  </thead>\n",
              "  <tbody>\n",
              "    <tr>\n",
              "      <th>0</th>\n",
              "      <td>중구</td>\n",
              "      <td>중앙동</td>\n",
              "      <td>0.0</td>\n",
              "    </tr>\n",
              "    <tr>\n",
              "      <th>1</th>\n",
              "      <td>중구</td>\n",
              "      <td>동광동</td>\n",
              "      <td>2.0</td>\n",
              "    </tr>\n",
              "    <tr>\n",
              "      <th>2</th>\n",
              "      <td>중구</td>\n",
              "      <td>대청동</td>\n",
              "      <td>1.0</td>\n",
              "    </tr>\n",
              "    <tr>\n",
              "      <th>3</th>\n",
              "      <td>중구</td>\n",
              "      <td>보수동</td>\n",
              "      <td>-2.0</td>\n",
              "    </tr>\n",
              "    <tr>\n",
              "      <th>4</th>\n",
              "      <td>중구</td>\n",
              "      <td>부평동</td>\n",
              "      <td>2.0</td>\n",
              "    </tr>\n",
              "  </tbody>\n",
              "</table>\n",
              "</div>\n",
              "      <button class=\"colab-df-convert\" onclick=\"convertToInteractive('df-d53c446d-455b-4bef-90be-203fc73874e1')\"\n",
              "              title=\"Convert this dataframe to an interactive table.\"\n",
              "              style=\"display:none;\">\n",
              "        \n",
              "  <svg xmlns=\"http://www.w3.org/2000/svg\" height=\"24px\"viewBox=\"0 0 24 24\"\n",
              "       width=\"24px\">\n",
              "    <path d=\"M0 0h24v24H0V0z\" fill=\"none\"/>\n",
              "    <path d=\"M18.56 5.44l.94 2.06.94-2.06 2.06-.94-2.06-.94-.94-2.06-.94 2.06-2.06.94zm-11 1L8.5 8.5l.94-2.06 2.06-.94-2.06-.94L8.5 2.5l-.94 2.06-2.06.94zm10 10l.94 2.06.94-2.06 2.06-.94-2.06-.94-.94-2.06-.94 2.06-2.06.94z\"/><path d=\"M17.41 7.96l-1.37-1.37c-.4-.4-.92-.59-1.43-.59-.52 0-1.04.2-1.43.59L10.3 9.45l-7.72 7.72c-.78.78-.78 2.05 0 2.83L4 21.41c.39.39.9.59 1.41.59.51 0 1.02-.2 1.41-.59l7.78-7.78 2.81-2.81c.8-.78.8-2.07 0-2.86zM5.41 20L4 18.59l7.72-7.72 1.47 1.35L5.41 20z\"/>\n",
              "  </svg>\n",
              "      </button>\n",
              "      \n",
              "  <style>\n",
              "    .colab-df-container {\n",
              "      display:flex;\n",
              "      flex-wrap:wrap;\n",
              "      gap: 12px;\n",
              "    }\n",
              "\n",
              "    .colab-df-convert {\n",
              "      background-color: #E8F0FE;\n",
              "      border: none;\n",
              "      border-radius: 50%;\n",
              "      cursor: pointer;\n",
              "      display: none;\n",
              "      fill: #1967D2;\n",
              "      height: 32px;\n",
              "      padding: 0 0 0 0;\n",
              "      width: 32px;\n",
              "    }\n",
              "\n",
              "    .colab-df-convert:hover {\n",
              "      background-color: #E2EBFA;\n",
              "      box-shadow: 0px 1px 2px rgba(60, 64, 67, 0.3), 0px 1px 3px 1px rgba(60, 64, 67, 0.15);\n",
              "      fill: #174EA6;\n",
              "    }\n",
              "\n",
              "    [theme=dark] .colab-df-convert {\n",
              "      background-color: #3B4455;\n",
              "      fill: #D2E3FC;\n",
              "    }\n",
              "\n",
              "    [theme=dark] .colab-df-convert:hover {\n",
              "      background-color: #434B5C;\n",
              "      box-shadow: 0px 1px 3px 1px rgba(0, 0, 0, 0.15);\n",
              "      filter: drop-shadow(0px 1px 2px rgba(0, 0, 0, 0.3));\n",
              "      fill: #FFFFFF;\n",
              "    }\n",
              "  </style>\n",
              "\n",
              "      <script>\n",
              "        const buttonEl =\n",
              "          document.querySelector('#df-d53c446d-455b-4bef-90be-203fc73874e1 button.colab-df-convert');\n",
              "        buttonEl.style.display =\n",
              "          google.colab.kernel.accessAllowed ? 'block' : 'none';\n",
              "\n",
              "        async function convertToInteractive(key) {\n",
              "          const element = document.querySelector('#df-d53c446d-455b-4bef-90be-203fc73874e1');\n",
              "          const dataTable =\n",
              "            await google.colab.kernel.invokeFunction('convertToInteractive',\n",
              "                                                     [key], {});\n",
              "          if (!dataTable) return;\n",
              "\n",
              "          const docLinkHtml = 'Like what you see? Visit the ' +\n",
              "            '<a target=\"_blank\" href=https://colab.research.google.com/notebooks/data_table.ipynb>data table notebook</a>'\n",
              "            + ' to learn more about interactive tables.';\n",
              "          element.innerHTML = '';\n",
              "          dataTable['output_type'] = 'display_data';\n",
              "          await google.colab.output.renderOutput(dataTable, element);\n",
              "          const docLink = document.createElement('div');\n",
              "          docLink.innerHTML = docLinkHtml;\n",
              "          element.appendChild(docLink);\n",
              "        }\n",
              "      </script>\n",
              "    </div>\n",
              "  </div>\n",
              "  "
            ]
          },
          "metadata": {},
          "execution_count": 119
        }
      ],
      "source": [
        "df_extract_main = extract_by_district_necessary_senior_center(df_request_member_main)\n",
        "df_extract_main.head(5)"
      ]
    },
    {
      "cell_type": "markdown",
      "metadata": {
        "collapsed": false,
        "id": "RSfMwCQhrcJQ"
      },
      "source": [
        "##5) 시각화, 2001년 ~ 2020년 부산 고령인구 증가 추세 파악\n",
        "-----\n",
        "\n",
        "\n",
        "* 2021년의 데이터를 반영하지 않은 이유는 2021년이 아직 지나지 않아 실제 고령인구 수의 변화가 있을 것 이라고 판단하였기 때문임\n",
        "\n"
      ]
    },
    {
      "cell_type": "code",
      "execution_count": 120,
      "metadata": {
        "id": "FFZNoJXTrcJR"
      },
      "outputs": [],
      "source": [
        "rate_df = pd.read_csv(\"/부산-비율.csv\",encoding='UTF-8')"
      ]
    },
    {
      "cell_type": "markdown",
      "metadata": {
        "collapsed": false,
        "id": "o2rnq3d0rcJS"
      },
      "source": [
        "### 5.1) 고령인구 증가 추세 시각화"
      ]
    },
    {
      "cell_type": "code",
      "execution_count": 121,
      "metadata": {
        "id": "lmkepiMIrcJS"
      },
      "outputs": [],
      "source": [
        "# seaborn 한글 설정\n",
        "sns.set(font=\"NanumBarunGothic\",\n",
        "        rc={\"axes.unicode_minus\":False},\n",
        "        style='darkgrid')"
      ]
    },
    {
      "cell_type": "markdown",
      "metadata": {
        "collapsed": false,
        "id": "h_sZPQxnrcJT"
      },
      "source": [
        "### 5.2) 시각화 데이터 추출"
      ]
    },
    {
      "cell_type": "code",
      "execution_count": 122,
      "metadata": {
        "id": "uTj3wZvBrcJT"
      },
      "outputs": [],
      "source": [
        "orginal = []\n",
        "last = []\n",
        "row_n = rate_df.shape[1]\n",
        "\n",
        "for i in range(0,row_n):\n",
        "    if i % 2 == 0:\n",
        "        orginal.append(rate_df.iloc[1][i])\n",
        "    else:\n",
        "        last.append(rate_df.iloc[1][i])\n",
        "orginal = list(map(float,orginal))\n",
        "last = list(map(float,last))\n",
        "\n",
        "year = ['2001','2002','2003','2004','2005','2006','2007','2008','2009','2010','2011','2012','2013','2014', '2015', '2016', '2017', '2018', '2019', '2020']\n",
        "year = list(map(int,year))"
      ]
    },
    {
      "cell_type": "markdown",
      "metadata": {
        "id": "xleE1m2yBsm4"
      },
      "source": [
        "### 5.3) 고령인구 증가율 시각화"
      ]
    },
    {
      "cell_type": "code",
      "execution_count": 123,
      "metadata": {
        "colab": {
          "base_uri": "https://localhost:8080/",
          "height": 795
        },
        "id": "uaH_ZZQ-rcJU",
        "outputId": "e12d01ee-9a9f-4a10-b8a2-130713c2db5a"
      },
      "outputs": [
        {
          "output_type": "error",
          "ename": "ValueError",
          "evalue": "ignored",
          "traceback": [
            "\u001b[0;31m---------------------------------------------------------------------------\u001b[0m",
            "\u001b[0;31mValueError\u001b[0m                                Traceback (most recent call last)",
            "\u001b[0;32m<ipython-input-123-a3fae3381077>\u001b[0m in \u001b[0;36m<module>\u001b[0;34m()\u001b[0m\n\u001b[1;32m      2\u001b[0m \u001b[0max\u001b[0m \u001b[0;34m=\u001b[0m \u001b[0mfig\u001b[0m\u001b[0;34m.\u001b[0m\u001b[0madd_subplot\u001b[0m\u001b[0;34m(\u001b[0m\u001b[0;36m1\u001b[0m\u001b[0;34m,\u001b[0m\u001b[0;36m1\u001b[0m\u001b[0;34m,\u001b[0m\u001b[0;36m1\u001b[0m\u001b[0;34m)\u001b[0m\u001b[0;34m\u001b[0m\u001b[0;34m\u001b[0m\u001b[0m\n\u001b[1;32m      3\u001b[0m \u001b[0;34m\u001b[0m\u001b[0m\n\u001b[0;32m----> 4\u001b[0;31m \u001b[0max\u001b[0m\u001b[0;34m.\u001b[0m\u001b[0mbar\u001b[0m\u001b[0;34m(\u001b[0m\u001b[0myear\u001b[0m\u001b[0;34m,\u001b[0m\u001b[0morginal\u001b[0m\u001b[0;34m,\u001b[0m\u001b[0mcolor\u001b[0m \u001b[0;34m=\u001b[0m \u001b[0;34m'#67DFDF'\u001b[0m\u001b[0;34m)\u001b[0m\u001b[0;34m\u001b[0m\u001b[0;34m\u001b[0m\u001b[0m\n\u001b[0m\u001b[1;32m      5\u001b[0m \u001b[0max\u001b[0m\u001b[0;34m.\u001b[0m\u001b[0mplot\u001b[0m\u001b[0;34m(\u001b[0m\u001b[0myear\u001b[0m\u001b[0;34m,\u001b[0m\u001b[0morginal\u001b[0m\u001b[0;34m,\u001b[0m\u001b[0mcolor\u001b[0m \u001b[0;34m=\u001b[0m \u001b[0;34m'#614FE4'\u001b[0m\u001b[0;34m,\u001b[0m\u001b[0mlinewidth\u001b[0m\u001b[0;34m=\u001b[0m\u001b[0;36m5.0\u001b[0m\u001b[0;34m)\u001b[0m\u001b[0;34m\u001b[0m\u001b[0;34m\u001b[0m\u001b[0m\n\u001b[1;32m      6\u001b[0m \u001b[0;34m\u001b[0m\u001b[0m\n",
            "\u001b[0;32m/usr/local/lib/python3.7/dist-packages/matplotlib/__init__.py\u001b[0m in \u001b[0;36minner\u001b[0;34m(ax, data, *args, **kwargs)\u001b[0m\n",
            "\u001b[0;32m/usr/local/lib/python3.7/dist-packages/matplotlib/axes/_axes.py\u001b[0m in \u001b[0;36mbar\u001b[0;34m(self, x, height, width, bottom, align, **kwargs)\u001b[0m\n\u001b[1;32m   2340\u001b[0m                 \u001b[0myerr\u001b[0m \u001b[0;34m=\u001b[0m \u001b[0mself\u001b[0m\u001b[0;34m.\u001b[0m\u001b[0m_convert_dx\u001b[0m\u001b[0;34m(\u001b[0m\u001b[0myerr\u001b[0m\u001b[0;34m,\u001b[0m \u001b[0my0\u001b[0m\u001b[0;34m,\u001b[0m \u001b[0my\u001b[0m\u001b[0;34m,\u001b[0m \u001b[0mself\u001b[0m\u001b[0;34m.\u001b[0m\u001b[0mconvert_yunits\u001b[0m\u001b[0;34m)\u001b[0m\u001b[0;34m\u001b[0m\u001b[0;34m\u001b[0m\u001b[0m\n\u001b[1;32m   2341\u001b[0m \u001b[0;34m\u001b[0m\u001b[0m\n\u001b[0;32m-> 2342\u001b[0;31m         x, height, width, y, linewidth, hatch = np.broadcast_arrays(\n\u001b[0m\u001b[1;32m   2343\u001b[0m             \u001b[0;31m# Make args iterable too.\u001b[0m\u001b[0;34m\u001b[0m\u001b[0;34m\u001b[0m\u001b[0;34m\u001b[0m\u001b[0m\n\u001b[1;32m   2344\u001b[0m             np.atleast_1d(x), height, width, y, linewidth, hatch)\n",
            "\u001b[0;32m<__array_function__ internals>\u001b[0m in \u001b[0;36mbroadcast_arrays\u001b[0;34m(*args, **kwargs)\u001b[0m\n",
            "\u001b[0;32m/usr/local/lib/python3.7/dist-packages/numpy/lib/stride_tricks.py\u001b[0m in \u001b[0;36mbroadcast_arrays\u001b[0;34m(subok, *args)\u001b[0m\n\u001b[1;32m    536\u001b[0m     \u001b[0margs\u001b[0m \u001b[0;34m=\u001b[0m \u001b[0;34m[\u001b[0m\u001b[0mnp\u001b[0m\u001b[0;34m.\u001b[0m\u001b[0marray\u001b[0m\u001b[0;34m(\u001b[0m\u001b[0m_m\u001b[0m\u001b[0;34m,\u001b[0m \u001b[0mcopy\u001b[0m\u001b[0;34m=\u001b[0m\u001b[0;32mFalse\u001b[0m\u001b[0;34m,\u001b[0m \u001b[0msubok\u001b[0m\u001b[0;34m=\u001b[0m\u001b[0msubok\u001b[0m\u001b[0;34m)\u001b[0m \u001b[0;32mfor\u001b[0m \u001b[0m_m\u001b[0m \u001b[0;32min\u001b[0m \u001b[0margs\u001b[0m\u001b[0;34m]\u001b[0m\u001b[0;34m\u001b[0m\u001b[0;34m\u001b[0m\u001b[0m\n\u001b[1;32m    537\u001b[0m \u001b[0;34m\u001b[0m\u001b[0m\n\u001b[0;32m--> 538\u001b[0;31m     \u001b[0mshape\u001b[0m \u001b[0;34m=\u001b[0m \u001b[0m_broadcast_shape\u001b[0m\u001b[0;34m(\u001b[0m\u001b[0;34m*\u001b[0m\u001b[0margs\u001b[0m\u001b[0;34m)\u001b[0m\u001b[0;34m\u001b[0m\u001b[0;34m\u001b[0m\u001b[0m\n\u001b[0m\u001b[1;32m    539\u001b[0m \u001b[0;34m\u001b[0m\u001b[0m\n\u001b[1;32m    540\u001b[0m     \u001b[0;32mif\u001b[0m \u001b[0mall\u001b[0m\u001b[0;34m(\u001b[0m\u001b[0marray\u001b[0m\u001b[0;34m.\u001b[0m\u001b[0mshape\u001b[0m \u001b[0;34m==\u001b[0m \u001b[0mshape\u001b[0m \u001b[0;32mfor\u001b[0m \u001b[0marray\u001b[0m \u001b[0;32min\u001b[0m \u001b[0margs\u001b[0m\u001b[0;34m)\u001b[0m\u001b[0;34m:\u001b[0m\u001b[0;34m\u001b[0m\u001b[0;34m\u001b[0m\u001b[0m\n",
            "\u001b[0;32m/usr/local/lib/python3.7/dist-packages/numpy/lib/stride_tricks.py\u001b[0m in \u001b[0;36m_broadcast_shape\u001b[0;34m(*args)\u001b[0m\n\u001b[1;32m    418\u001b[0m     \u001b[0;31m# use the old-iterator because np.nditer does not handle size 0 arrays\u001b[0m\u001b[0;34m\u001b[0m\u001b[0;34m\u001b[0m\u001b[0;34m\u001b[0m\u001b[0m\n\u001b[1;32m    419\u001b[0m     \u001b[0;31m# consistently\u001b[0m\u001b[0;34m\u001b[0m\u001b[0;34m\u001b[0m\u001b[0;34m\u001b[0m\u001b[0m\n\u001b[0;32m--> 420\u001b[0;31m     \u001b[0mb\u001b[0m \u001b[0;34m=\u001b[0m \u001b[0mnp\u001b[0m\u001b[0;34m.\u001b[0m\u001b[0mbroadcast\u001b[0m\u001b[0;34m(\u001b[0m\u001b[0;34m*\u001b[0m\u001b[0margs\u001b[0m\u001b[0;34m[\u001b[0m\u001b[0;34m:\u001b[0m\u001b[0;36m32\u001b[0m\u001b[0;34m]\u001b[0m\u001b[0;34m)\u001b[0m\u001b[0;34m\u001b[0m\u001b[0;34m\u001b[0m\u001b[0m\n\u001b[0m\u001b[1;32m    421\u001b[0m     \u001b[0;31m# unfortunately, it cannot handle 32 or more arguments directly\u001b[0m\u001b[0;34m\u001b[0m\u001b[0;34m\u001b[0m\u001b[0;34m\u001b[0m\u001b[0m\n\u001b[1;32m    422\u001b[0m     \u001b[0;32mfor\u001b[0m \u001b[0mpos\u001b[0m \u001b[0;32min\u001b[0m \u001b[0mrange\u001b[0m\u001b[0;34m(\u001b[0m\u001b[0;36m32\u001b[0m\u001b[0;34m,\u001b[0m \u001b[0mlen\u001b[0m\u001b[0;34m(\u001b[0m\u001b[0margs\u001b[0m\u001b[0;34m)\u001b[0m\u001b[0;34m,\u001b[0m \u001b[0;36m31\u001b[0m\u001b[0;34m)\u001b[0m\u001b[0;34m:\u001b[0m\u001b[0;34m\u001b[0m\u001b[0;34m\u001b[0m\u001b[0m\n",
            "\u001b[0;31mValueError\u001b[0m: shape mismatch: objects cannot be broadcast to a single shape"
          ]
        },
        {
          "output_type": "error",
          "ename": "ImportError",
          "evalue": "ignored",
          "traceback": [
            "\u001b[0;31m---------------------------------------------------------------------------\u001b[0m",
            "\u001b[0;31mImportError\u001b[0m                               Traceback (most recent call last)",
            "\u001b[0;32m/usr/local/lib/python3.7/dist-packages/IPython/core/formatters.py\u001b[0m in \u001b[0;36m__call__\u001b[0;34m(self, obj)\u001b[0m\n\u001b[1;32m    332\u001b[0m                 \u001b[0;32mpass\u001b[0m\u001b[0;34m\u001b[0m\u001b[0;34m\u001b[0m\u001b[0m\n\u001b[1;32m    333\u001b[0m             \u001b[0;32melse\u001b[0m\u001b[0;34m:\u001b[0m\u001b[0;34m\u001b[0m\u001b[0;34m\u001b[0m\u001b[0m\n\u001b[0;32m--> 334\u001b[0;31m                 \u001b[0;32mreturn\u001b[0m \u001b[0mprinter\u001b[0m\u001b[0;34m(\u001b[0m\u001b[0mobj\u001b[0m\u001b[0;34m)\u001b[0m\u001b[0;34m\u001b[0m\u001b[0;34m\u001b[0m\u001b[0m\n\u001b[0m\u001b[1;32m    335\u001b[0m             \u001b[0;31m# Finally look for special method names\u001b[0m\u001b[0;34m\u001b[0m\u001b[0;34m\u001b[0m\u001b[0;34m\u001b[0m\u001b[0m\n\u001b[1;32m    336\u001b[0m             \u001b[0mmethod\u001b[0m \u001b[0;34m=\u001b[0m \u001b[0mget_real_method\u001b[0m\u001b[0;34m(\u001b[0m\u001b[0mobj\u001b[0m\u001b[0;34m,\u001b[0m \u001b[0mself\u001b[0m\u001b[0;34m.\u001b[0m\u001b[0mprint_method\u001b[0m\u001b[0;34m)\u001b[0m\u001b[0;34m\u001b[0m\u001b[0;34m\u001b[0m\u001b[0m\n",
            "\u001b[0;32m/usr/local/lib/python3.7/dist-packages/IPython/core/pylabtools.py\u001b[0m in \u001b[0;36m<lambda>\u001b[0;34m(fig)\u001b[0m\n\u001b[1;32m    239\u001b[0m \u001b[0;34m\u001b[0m\u001b[0m\n\u001b[1;32m    240\u001b[0m     \u001b[0;32mif\u001b[0m \u001b[0;34m'png'\u001b[0m \u001b[0;32min\u001b[0m \u001b[0mformats\u001b[0m\u001b[0;34m:\u001b[0m\u001b[0;34m\u001b[0m\u001b[0;34m\u001b[0m\u001b[0m\n\u001b[0;32m--> 241\u001b[0;31m         \u001b[0mpng_formatter\u001b[0m\u001b[0;34m.\u001b[0m\u001b[0mfor_type\u001b[0m\u001b[0;34m(\u001b[0m\u001b[0mFigure\u001b[0m\u001b[0;34m,\u001b[0m \u001b[0;32mlambda\u001b[0m \u001b[0mfig\u001b[0m\u001b[0;34m:\u001b[0m \u001b[0mprint_figure\u001b[0m\u001b[0;34m(\u001b[0m\u001b[0mfig\u001b[0m\u001b[0;34m,\u001b[0m \u001b[0;34m'png'\u001b[0m\u001b[0;34m,\u001b[0m \u001b[0;34m**\u001b[0m\u001b[0mkwargs\u001b[0m\u001b[0;34m)\u001b[0m\u001b[0;34m)\u001b[0m\u001b[0;34m\u001b[0m\u001b[0;34m\u001b[0m\u001b[0m\n\u001b[0m\u001b[1;32m    242\u001b[0m     \u001b[0;32mif\u001b[0m \u001b[0;34m'retina'\u001b[0m \u001b[0;32min\u001b[0m \u001b[0mformats\u001b[0m \u001b[0;32mor\u001b[0m \u001b[0;34m'png2x'\u001b[0m \u001b[0;32min\u001b[0m \u001b[0mformats\u001b[0m\u001b[0;34m:\u001b[0m\u001b[0;34m\u001b[0m\u001b[0;34m\u001b[0m\u001b[0m\n\u001b[1;32m    243\u001b[0m         \u001b[0mpng_formatter\u001b[0m\u001b[0;34m.\u001b[0m\u001b[0mfor_type\u001b[0m\u001b[0;34m(\u001b[0m\u001b[0mFigure\u001b[0m\u001b[0;34m,\u001b[0m \u001b[0;32mlambda\u001b[0m \u001b[0mfig\u001b[0m\u001b[0;34m:\u001b[0m \u001b[0mretina_figure\u001b[0m\u001b[0;34m(\u001b[0m\u001b[0mfig\u001b[0m\u001b[0;34m,\u001b[0m \u001b[0;34m**\u001b[0m\u001b[0mkwargs\u001b[0m\u001b[0;34m)\u001b[0m\u001b[0;34m)\u001b[0m\u001b[0;34m\u001b[0m\u001b[0;34m\u001b[0m\u001b[0m\n",
            "\u001b[0;32m/usr/local/lib/python3.7/dist-packages/IPython/core/pylabtools.py\u001b[0m in \u001b[0;36mprint_figure\u001b[0;34m(fig, fmt, bbox_inches, **kwargs)\u001b[0m\n\u001b[1;32m    123\u001b[0m \u001b[0;34m\u001b[0m\u001b[0m\n\u001b[1;32m    124\u001b[0m     \u001b[0mbytes_io\u001b[0m \u001b[0;34m=\u001b[0m \u001b[0mBytesIO\u001b[0m\u001b[0;34m(\u001b[0m\u001b[0;34m)\u001b[0m\u001b[0;34m\u001b[0m\u001b[0;34m\u001b[0m\u001b[0m\n\u001b[0;32m--> 125\u001b[0;31m     \u001b[0mfig\u001b[0m\u001b[0;34m.\u001b[0m\u001b[0mcanvas\u001b[0m\u001b[0;34m.\u001b[0m\u001b[0mprint_figure\u001b[0m\u001b[0;34m(\u001b[0m\u001b[0mbytes_io\u001b[0m\u001b[0;34m,\u001b[0m \u001b[0;34m**\u001b[0m\u001b[0mkw\u001b[0m\u001b[0;34m)\u001b[0m\u001b[0;34m\u001b[0m\u001b[0;34m\u001b[0m\u001b[0m\n\u001b[0m\u001b[1;32m    126\u001b[0m     \u001b[0mdata\u001b[0m \u001b[0;34m=\u001b[0m \u001b[0mbytes_io\u001b[0m\u001b[0;34m.\u001b[0m\u001b[0mgetvalue\u001b[0m\u001b[0;34m(\u001b[0m\u001b[0;34m)\u001b[0m\u001b[0;34m\u001b[0m\u001b[0;34m\u001b[0m\u001b[0m\n\u001b[1;32m    127\u001b[0m     \u001b[0;32mif\u001b[0m \u001b[0mfmt\u001b[0m \u001b[0;34m==\u001b[0m \u001b[0;34m'svg'\u001b[0m\u001b[0;34m:\u001b[0m\u001b[0;34m\u001b[0m\u001b[0;34m\u001b[0m\u001b[0m\n",
            "\u001b[0;32m/usr/local/lib/python3.7/dist-packages/matplotlib/backend_bases.py\u001b[0m in \u001b[0;36mprint_figure\u001b[0;34m(self, filename, dpi, facecolor, edgecolor, orientation, format, bbox_inches, **kwargs)\u001b[0m\n\u001b[1;32m   2092\u001b[0m         \u001b[0mratio\u001b[0m \u001b[0;34m:\u001b[0m \u001b[0mfloat\u001b[0m\u001b[0;34m\u001b[0m\u001b[0;34m\u001b[0m\u001b[0m\n\u001b[1;32m   2093\u001b[0m             \u001b[0mThe\u001b[0m \u001b[0mratio\u001b[0m \u001b[0mof\u001b[0m \u001b[0mlogical\u001b[0m \u001b[0mto\u001b[0m \u001b[0mphysical\u001b[0m \u001b[0mpixels\u001b[0m \u001b[0mused\u001b[0m \u001b[0;32mfor\u001b[0m \u001b[0mthe\u001b[0m \u001b[0mcanvas\u001b[0m\u001b[0;34m.\u001b[0m\u001b[0;34m\u001b[0m\u001b[0;34m\u001b[0m\u001b[0m\n\u001b[0;32m-> 2094\u001b[0;31m \u001b[0;34m\u001b[0m\u001b[0m\n\u001b[0m\u001b[1;32m   2095\u001b[0m         \u001b[0mReturns\u001b[0m\u001b[0;34m\u001b[0m\u001b[0;34m\u001b[0m\u001b[0m\n\u001b[1;32m   2096\u001b[0m         \u001b[0;34m-\u001b[0m\u001b[0;34m-\u001b[0m\u001b[0;34m-\u001b[0m\u001b[0;34m-\u001b[0m\u001b[0;34m-\u001b[0m\u001b[0;34m-\u001b[0m\u001b[0;34m-\u001b[0m\u001b[0;34m\u001b[0m\u001b[0;34m\u001b[0m\u001b[0m\n",
            "\u001b[0;32m/usr/local/lib/python3.7/dist-packages/matplotlib/backend_bases.py\u001b[0m in \u001b[0;36m_get_renderer\u001b[0;34m(figure, print_method)\u001b[0m\n\u001b[1;32m   1558\u001b[0m     \u001b[0mfigure\u001b[0m\u001b[0;34m.\u001b[0m\u001b[0mdraw_without_rendering\u001b[0m\u001b[0;34m(\u001b[0m\u001b[0;34m)\u001b[0m\u001b[0;34m\u001b[0m\u001b[0;34m\u001b[0m\u001b[0m\n\u001b[1;32m   1559\u001b[0m \u001b[0;34m\u001b[0m\u001b[0m\n\u001b[0;32m-> 1560\u001b[0;31m \u001b[0;34m\u001b[0m\u001b[0m\n\u001b[0m\u001b[1;32m   1561\u001b[0m \u001b[0;32mdef\u001b[0m \u001b[0m_is_non_interactive_terminal_ipython\u001b[0m\u001b[0;34m(\u001b[0m\u001b[0mip\u001b[0m\u001b[0;34m)\u001b[0m\u001b[0;34m:\u001b[0m\u001b[0;34m\u001b[0m\u001b[0;34m\u001b[0m\u001b[0m\n\u001b[1;32m   1562\u001b[0m     \"\"\"\n",
            "\u001b[0;32m/usr/local/lib/python3.7/dist-packages/matplotlib/backends/backend_agg.py\u001b[0m in \u001b[0;36mprint_png\u001b[0;34m(self, filename_or_obj, metadata, pil_kwargs, *args, **kwargs)\u001b[0m\n\u001b[1;32m    503\u001b[0m             \u001b[0mMetadata\u001b[0m \u001b[0;32min\u001b[0m \u001b[0mthe\u001b[0m \u001b[0mPNG\u001b[0m \u001b[0mfile\u001b[0m \u001b[0;32mas\u001b[0m \u001b[0mkey\u001b[0m\u001b[0;34m-\u001b[0m\u001b[0mvalue\u001b[0m \u001b[0mpairs\u001b[0m \u001b[0mof\u001b[0m \u001b[0mbytes\u001b[0m \u001b[0;32mor\u001b[0m \u001b[0mlatin\u001b[0m\u001b[0;34m-\u001b[0m\u001b[0;36m1\u001b[0m\u001b[0;34m\u001b[0m\u001b[0;34m\u001b[0m\u001b[0m\n\u001b[1;32m    504\u001b[0m             \u001b[0mencodable\u001b[0m \u001b[0mstrings\u001b[0m\u001b[0;34m.\u001b[0m\u001b[0;34m\u001b[0m\u001b[0;34m\u001b[0m\u001b[0m\n\u001b[0;32m--> 505\u001b[0;31m             \u001b[0mAccording\u001b[0m \u001b[0mto\u001b[0m \u001b[0mthe\u001b[0m \u001b[0mPNG\u001b[0m \u001b[0mspecification\u001b[0m\u001b[0;34m,\u001b[0m \u001b[0mkeys\u001b[0m \u001b[0mmust\u001b[0m \u001b[0mbe\u001b[0m \u001b[0mshorter\u001b[0m \u001b[0mthan\u001b[0m \u001b[0;36m79\u001b[0m\u001b[0;34m\u001b[0m\u001b[0;34m\u001b[0m\u001b[0m\n\u001b[0m\u001b[1;32m    506\u001b[0m             \u001b[0mchars\u001b[0m\u001b[0;34m.\u001b[0m\u001b[0;34m\u001b[0m\u001b[0;34m\u001b[0m\u001b[0m\n\u001b[1;32m    507\u001b[0m \u001b[0;34m\u001b[0m\u001b[0m\n",
            "\u001b[0;31mImportError\u001b[0m: cannot import name '_png' from 'matplotlib' (/usr/local/lib/python3.7/dist-packages/matplotlib/__init__.py)"
          ]
        },
        {
          "output_type": "display_data",
          "data": {
            "text/plain": [
              "<Figure size 720x720 with 1 Axes>"
            ]
          },
          "metadata": {}
        }
      ],
      "source": [
        "fig = plt.figure(figsize=(10,10))\n",
        "ax = fig.add_subplot(1,1,1)\n",
        "\n",
        "ax.bar(year,orginal,color = '#67DFDF')\n",
        "ax.plot(year,orginal,color = '#614FE4',linewidth=5.0)\n",
        "\n",
        "plt.yticks([i for i in np.arange(6.0,20.0,1.1)])\n",
        "plt.xticks([i for i in range(2001,2021,1)])\n",
        "plt.title(\"년도별 고령인구 비율\")\n",
        "plt.xlabel(\"년도\")\n",
        "ax.set_ylabel(\"증가 비율\")"
      ]
    },
    {
      "cell_type": "code",
      "execution_count": null,
      "metadata": {
        "id": "YnktDLGBrcJV"
      },
      "outputs": [],
      "source": [
        "rate_df = rate_df.T # 전치"
      ]
    },
    {
      "cell_type": "markdown",
      "metadata": {
        "id": "qH3noW_lBkd8"
      },
      "source": [
        "### 5.4) 전년대비 고령인구 증가율 시각화"
      ]
    },
    {
      "cell_type": "code",
      "execution_count": null,
      "metadata": {
        "id": "0-1AFl8zrcJW"
      },
      "outputs": [],
      "source": [
        "plt.figure(figsize=(10,10))\n",
        "sns.barplot(x=year,y=last)\n",
        "plt.title(\"전년대비 고령인구 증가률\")\n",
        "plt.xlabel(\"년도\")\n",
        "plt.ylabel(\"비율\")\n",
        "plt.yticks([i for i in np.arange(0.0,1.3,0.1)])\n",
        "plt.show()"
      ]
    },
    {
      "cell_type": "markdown",
      "metadata": {
        "collapsed": false,
        "id": "DIRbayotrcJW"
      },
      "source": [
        "## 6) 예측, 미래 고령인구 및 경로당 수 예측 \n",
        "------\n",
        "\n",
        "2001년 ~ 2020년의 고령인구 증가율을 참고하여 미래 증가될 고령인구를 예측\n",
        "\n",
        "미래 고령인구 비율\n",
        "\n",
        "$ FOP_{rate}(a,b,c,k_{time\\,span}\\,=\\,e^{b+(a*x)}+c $\n",
        "\n",
        "$k_{time\\,span}\\,=\\,Y_{에측년도}\\,-\\,2001 $\n",
        "\n",
        "$a\\,=\\,ln(2020년\\,고령인구\\,증가율\\,/\\,2001년\\,고령인구\\,증가율)\\,/\\,2020년\\,-\\,2001년 $\n",
        "\n",
        "$b\\,=\\,ln(2001년\\,고령인구\\,증가율\\,/\\,a) $\n",
        "\n",
        "$c\\,=\\,2001년\\,고령인구\\,비율\\,-\\,e^b $\n"
      ]
    },
    {
      "cell_type": "markdown",
      "metadata": {
        "id": "WRgfzbXPEwZ3"
      },
      "source": [
        "###6.1) 미래 고령인구 비율 및 증가율 산출 메서드"
      ]
    },
    {
      "cell_type": "code",
      "execution_count": null,
      "metadata": {
        "id": "9GHnQPQ7rcJY"
      },
      "outputs": [],
      "source": [
        "def future_old_population_rate_method(PGR_2001, Old_rate_2001, PGR_2020, x):\n",
        "    '''\n",
        "    미래 고령인구 비율 f(x) = np.exp(b+a*x)+c\n",
        "    미래 고령인구 증가율 f'(x) = a*np.exp(b+a*x)\n",
        "    :param PGR_2001 : 2001년 고령인구 증가율\n",
        "    :param Old_rate_2001 : 2001년 고령인구 비율\n",
        "    :param PGR_2020 : 2020년 고령인구 증가율\n",
        "    :param x : 미래 년도 - 2001\n",
        "    :return: f(x), f'(x)\n",
        "    '''\n",
        "    x = x - 2001\n",
        "    a = np.log(PGR_2020/PGR_2001) / 19\n",
        "    b = np.log(PGR_2001/a)\n",
        "    c = (Old_rate_2001-np.exp(b))\n",
        "    fx = round(np.exp(b+(a*x))+c, 3)\n",
        "    fx_dot  = round(a*np.exp(b+(a*x)), 3)\n",
        "    print(f\"고령인구 비율 : {fx}%, 고령인구 증가율 : {fx_dot}%\")\n",
        "\n",
        "    return  fx,fx_dot"
      ]
    },
    {
      "cell_type": "code",
      "execution_count": null,
      "metadata": {
        "id": "1LDIzk46rcJZ"
      },
      "outputs": [],
      "source": [
        "PGR_2001 = last[0]\n",
        "Old_rate_2001 = orginal[0]\n",
        "PGR_2020 = last[-1]\n",
        "T = 2030 ## 2030년 예측하기\n",
        "future_old_population_rate,increase_old_population_rate = future_old_population_rate_method(PGR_2001, Old_rate_2001, PGR_2020, T) ## 2030년 고령인구 비율 예측"
      ]
    },
    {
      "cell_type": "markdown",
      "metadata": {
        "collapsed": false,
        "id": "KpvbD2-ircJa"
      },
      "source": [
        "###6.2) 미래 증가될 고령인구 산출 메서드\n",
        "----\n",
        "\n",
        "$ 미래\\,증가된\\,고령인구\\,=\\,(미래\\,고령인구\\,비율\\,/\\,100) * 부산\\,전체\\,인구 $\n",
        "\n",
        "$ 미래\\,증가될\\,고령인구\\,=\\,미래\\,증가된\\,고령인구\\,-\\,부산\\,고령인구 $"
      ]
    },
    {
      "cell_type": "code",
      "execution_count": null,
      "metadata": {
        "id": "-lWjBkD4rcJb"
      },
      "outputs": [],
      "source": [
        "def predict_future_old_population(future_old_population_rate,df_population):\n",
        "    '''\n",
        "    예측된 미래 고령인구 비율을 이용하여 증가될 고령인구 수를 구한다\n",
        "    :param future_old_population_rate: 미래 고령인구 비율\n",
        "    :param df_population: 현재 인구 데이터\n",
        "    :return: 미래 증가될 고령인구 수\n",
        "    '''\n",
        "    df = pd.DataFrame(columns=[\"행정 구\",\"행정 동\",\"증가될 인구\",\"증가될 경로당 수\"])\n",
        "    future_old_population =  (future_old_population_rate / 100) * df_population.iloc[0][\"합계\"] # 증가된 고령 인구 수\n",
        "    predict_future_old_population = round(future_old_population -  df_population.iloc[0][\"고령인구 합계\"])  # 증가될 고령 인구수 (증가된 고령 인구 - 현재 고령 인구)\n",
        "\n",
        "    return predict_future_old_population"
      ]
    },
    {
      "cell_type": "code",
      "execution_count": null,
      "metadata": {
        "id": "2hcyS3_ZrcJc"
      },
      "outputs": [],
      "source": [
        "future_old_population_by_busan = predict_future_old_population(future_old_population_rate,df_population)\n",
        "future_old_population_by_busan"
      ]
    },
    {
      "cell_type": "markdown",
      "metadata": {
        "collapsed": false,
        "id": "fnYY6NVNrcJd"
      },
      "source": [
        "### 6.3) 행정 동 단위 미래 증가될 고령인구 산출\n",
        "-----\n",
        "$ 행정\\,동\\,단위\\,미래\\,증가될\\,고령인구\\,=\\,(부산\\,행정\\,동\\,단위\\,고령인구\\,/\\,부산\\,고령인구)\\, * \\,미래\\,증가될\\,고령인구 $"
      ]
    },
    {
      "cell_type": "code",
      "execution_count": null,
      "metadata": {
        "id": "LqmWmTwhrcJf"
      },
      "outputs": [],
      "source": [
        "df_future_main =  get_senior_centers_by_district()\n",
        "#df_request_member_main"
      ]
    },
    {
      "cell_type": "code",
      "execution_count": null,
      "metadata": {
        "id": "O0Ao-D5krcJg"
      },
      "outputs": [],
      "source": [
        "predict_future_old_population_by_admin_area = (\n",
        "        (df_old_population_count.iloc[0:][\"고령인구 합계\"] / df_population.iloc[0][\"고령인구 합계\"]) * future_old_population_by_busan).reset_index()\n",
        "predict_future_old_population_by_admin_area.head(5)"
      ]
    },
    {
      "cell_type": "markdown",
      "metadata": {
        "id": "Wc41j2lcHEUZ"
      },
      "source": [
        "###6.4) 미래 행정 동 단위 적절한 경로당 수 산출 메서드\n",
        "----\n",
        "노인 1명당 필요한 경로당 개수는 현재 산출한 값을 사용\n",
        "\n",
        "$ 행정\\,동\\,단위\\,적절한\\,경로당\\,수\\,=\\,노인\\,1명당\\,필요한\\,경로당\\,개수\\, * \\,미래\\,행정\\,동\\,단위\\,증가될\\,고령인구 $"
      ]
    },
    {
      "cell_type": "code",
      "execution_count": null,
      "metadata": {
        "id": "OHzqv-DGrcJh"
      },
      "outputs": [],
      "source": [
        "def future_old_population_sum_by_admin_area_advance_2(df_future_main,predict_future_old_population_by_admin_area,df_sc_members):\n",
        "    '''\n",
        "    미래의 행정 동 별 적절한 경로당 수를 구한다.\n",
        "    :param df_future_main: 이용률을 고려한 데이터를 담을 df\n",
        "    :param predict_future_old_population_by_admin_area: 미래 행정 동 단위 증가될 고령인구\n",
        "    :param df_sc_members: 노인 1명당 필요한 경로당 개수 정보\n",
        "    :return: 적절한 경로당 수가 추가된 데이터 프레임\n",
        "    '''\n",
        "\n",
        "    admin_area_n = df_sc_members.shape[0] # 행정 동 개수 205\n",
        "    gu_n = predict_future_old_population_by_admin_area.shape[0] # 행정 구 개수 16개\n",
        "    df_future_main.set_index([\"행정 구\"],inplace=True)\n",
        "    district = [\"강서구\", \"금정구\",\"기장군\",\"남구\",\"동구\",\"동래구\",\"부산진구\",\"북구\",\"사상구\",\"사하구\",\"서구\",\"수영구\",\"연제구\",\"영도구\",\"중구\",\"해운대구\"]\n",
        "    i = 0\n",
        "\n",
        "    for d in district:\n",
        "        df_future_main.loc[d,[\"노인 1명당 필요한 경로당 개수\"]] = df_sc_members.loc[d][\"노인 1명이 필요한 경로당 개수\"]\n",
        "        i += 1\n",
        "\n",
        "    # 행정 동 적절한 경로당 수 구함\n",
        "\n",
        "    df_future_main.reset_index(inplace=True)\n",
        "    df_future_main = df_future_main.set_index(\"행정 동\").sort_index()\n",
        "    predict_future_old_population_by_admin_area.set_index(\"행정구역(동읍면)별\",inplace=True)\n",
        "\n",
        "    lst1 = np.array(df_future_main.iloc[0:][\"노인 1명당 필요한 경로당 개수\"])\n",
        "    lst2 = np.array(predict_future_old_population_by_admin_area.iloc[0:][\"고령인구 합계\"])\n",
        "\n",
        "    mul = lst1 * lst2\n",
        "    mul = mul.astype(int)\n",
        "    df_future_main[\"적절한 경로당 수\"] = mul\n",
        "    return df_future_main"
      ]
    },
    {
      "cell_type": "code",
      "execution_count": null,
      "metadata": {
        "id": "l3BSxsImrcJi"
      },
      "outputs": [],
      "source": [
        "df_future_main = future_old_population_sum_by_admin_area_advance_2(df_future_main,predict_future_old_population_by_admin_area,df_sc_members)"
      ]
    },
    {
      "cell_type": "code",
      "execution_count": null,
      "metadata": {
        "id": "KVwFGVqTEx19"
      },
      "outputs": [],
      "source": [
        "df_future_main.head(5)"
      ]
    },
    {
      "cell_type": "markdown",
      "metadata": {
        "id": "jwX8BHdRH9yJ"
      },
      "source": [
        "### 6.5) 미래 Main 데이터 프레임 컬럼명 변경 및 미래 필요한 경로당 수 산출 메서드\n",
        "----\n",
        "\n",
        "필요한 경로당 수 -> 미래 필요한 경로당 수\n",
        "\n",
        "적절한 경로당 수 -> 증가될 경로당 수\n",
        "\n",
        "$ 미래\\,필요한\\,경로당\\,수\\,=\\,증가될\\,경로당\\,수\\, + \\,현재\\,필요한\\,경로당\\,수 $"
      ]
    },
    {
      "cell_type": "code",
      "execution_count": null,
      "metadata": {
        "id": "uACQvyAPrcJj"
      },
      "outputs": [],
      "source": [
        "\n",
        "def complete_it(df_future_main,predict_future_old_population_by_admin_area,df_extract_main):\n",
        "    '''\n",
        "    증가될 인구 및 미래 필요한 경로당 수, 증가될 경로당 수를 산출하여 리턴한다.\n",
        "    :param df_future_main: 미래의 데이터를 가짐\n",
        "    :param predict_future_old_population_by_admin_area: 미래의 고령인구\n",
        "    :param df_extract_main: 현재의 필요한 경로당 수가 추출된 데이터\n",
        "    :return: 행정 동 | 행정 구 | 증가될 경로당 수 | 미래 필요한 경로당 수 | 노인 1명당 필요한 경로당 개수 | 증가될 인구\n",
        "    '''\n",
        "    df_future_main[\"증가될 인구\"] = round(predict_future_old_population_by_admin_area.iloc[0:][\"고령인구 합계\"], 0).astype(int)\n",
        "    df_future_main = df_future_main.drop(columns=[\"경로당 수\"])\n",
        "    df_future_main = df_future_main.rename(columns={\"필요한 경로당 수\": \"미래 필요한 경로당 수\", \"적절한 경로당 수\": \"증가될 경로당 수\"})\n",
        "    df_extract_main = df_extract_main.set_index(\"행정 동\").sort_index()\n",
        "    # 미래의 적절한 경로당 + 현재의 필요한 경로당 수\n",
        "    df_future_main[\"미래 필요한 경로당 수\"] = df_future_main.iloc[0:][\"증가될 경로당 수\"] + df_extract_main.iloc[0:][\"필요한 경로당 수\"]\n",
        "\n",
        "    return df_future_main"
      ]
    },
    {
      "cell_type": "code",
      "execution_count": null,
      "metadata": {
        "id": "MZWmH87CrcJk"
      },
      "outputs": [],
      "source": [
        "df_future_main = complete_it(df_future_main,predict_future_old_population_by_admin_area,df_extract_main)"
      ]
    },
    {
      "cell_type": "code",
      "execution_count": null,
      "metadata": {
        "id": "hgcal2yVE0sU"
      },
      "outputs": [],
      "source": [
        "df_future_main.head(5)"
      ]
    },
    {
      "cell_type": "markdown",
      "metadata": {
        "collapsed": false,
        "id": "sMXIolyLrcJl"
      },
      "source": [
        "# [2] 모델링 - 시니어 센터가 시급하게 요구되는 후보지 기준\n",
        "------\n",
        "경로당을 미리 증설하여 증가하는 고령 인구와 지역별 이용률에 맞는 \n",
        "수요와 공급을 즉각 만족하기 위해\n",
        "\n",
        "__미래 필요한 경로당 수 상위 4개 행정 동__을 경로당이 시급하게 필요한 후보지로 설정.\n",
        "\n",
        "\n"
      ]
    },
    {
      "cell_type": "markdown",
      "metadata": {
        "id": "f4OFi95t2ebw"
      },
      "source": [
        "## 1) 시각화"
      ]
    },
    {
      "cell_type": "markdown",
      "metadata": {
        "id": "7yUrJBu4JIZ5"
      },
      "source": [
        "###1.1) 미래 필요한 경로당 수 상위4개 행정 동 시각화 메서드"
      ]
    },
    {
      "cell_type": "code",
      "execution_count": null,
      "metadata": {
        "id": "mA9cAOzvrcJl"
      },
      "outputs": [],
      "source": [
        "def drawing_future_senior_center_by_admin_area(df_future_main):\n",
        "    option = df_future_main[\"미래 필요한 경로당 수\"]>= 50\n",
        "    df_condition = df_future_main.loc[option]\n",
        "    df_condition.reset_index().sort_values(by=\"미래 필요한 경로당 수\")\n",
        "\n",
        "    plt.xlabel(\"행정 동\")\n",
        "    plt.ylabel(\"개소\")\n",
        "    sns.barplot(x=df_condition.index,y=\"미래 필요한 경로당 수\",data=df_condition.tail(4))\n",
        "    # plt.savefig(\"year_orginal.png\")\n",
        "    return plt.show()"
      ]
    },
    {
      "cell_type": "code",
      "execution_count": null,
      "metadata": {
        "id": "dbAi3h9LrcJm"
      },
      "outputs": [],
      "source": [
        "drawing_future_senior_center_by_admin_area(df_future_main)"
      ]
    },
    {
      "cell_type": "markdown",
      "metadata": {
        "collapsed": false,
        "id": "1n9ThHmXrcJn"
      },
      "source": [
        "- 최적의 입지를 위한 고려사항\n",
        "----\n",
        "노인의 __이동수단과 시간__을 고려했을 때 __걸어서 10분 이내의 위치가 최적__ 입지라고 선정.\n",
        "\n",
        "![그림2.png](data:image/png;base64,iVBORw0KGgoAAAANSUhEUgAAAkwAAAFaCAMAAADb3fLqAAAAAXNSR0IArs4c6QAAAARnQU1BAACxjwv8YQUAAAL9UExURf////39/f7+/vz8/Pv7+/b29vX19fr6+vf39/n5+fLy8uDg4N/f3+7u7u3t7d3d3fHx8eTk5M7Ozubm5tnZ2ezs7NTU1OLi4vj4+PT09O/v7+fn5/Pz897e3tvb29ra2uHh4fDw8Li4uLS0tNfX19zc3NHR0ampqa+vr6ioqKenp7y8vIGBga2trcXFxaKioru7u8TExJaWlre3t+vr6////v///crKytjY2Kurq4mJiZCQkMHBwY6OjoSEhIiIiKCgoMfHx9PT05iYmJOTk8jIyOjo6MDAwJKSkoODg4aGhoWFhYeHh4qKiqOjo6ysrHFxccvLy0tLS8zMzOnp6bOzs29vb5qampGRkbm5ub+/v6WlpXl5eV5eXmJiYoyMjMbGxoKCgmBgYF1dXWhoaNXV1ZeXl5WVlZSUlNbW1lBQUGdnZ2ZmZmtra8nJyX19fURERLGxsbKysrq6uurq6s3NzYCAgM/Pz0FBQX9/f5ycnLCwsMLCwra2tqampo2NjVtbW1xcXGNjY2FhYXV1dY+Pj3Z2dqSkpH5+fqqqqm1tbZmZmYuLi7W1tePj45+fn1RUVDY2NlNTU9DQ0F9fX2VlZW5ubkdHR3p6er6+vmRkZD09PVpaWnNzc1lZWeXl5VVVVXh4eEpKSnt7e3x8fHd3dzw8PFdXV1ZWVp2dnXBwcNLS0q6urmlpacPDw3R0dFFRUWpqap6enr29vU5OTnJyck9PT5ubm0hISEVFRU1NTTs7O0NDQ0xMTFhYWDo6OlJSUqGhoUlJSTc3Nzg4OD4+PkBAQDU1NSYmJhsbGyAgIC0tLS4uLhwcHB8fHywsLDExMTQ0NGxsbD8/PxgYGA8PDxISEhMTExQUFBEREQ0NDQ4ODkZGRjAwMEJCQisrKzMzMy8vLzIyMhcXFxkZGSgoKAgICAsLCwkJCQICAgEBAQUFBQQEBAAAAAoKCiMjIykpKScnJx0dHTk5ORAQEAcHByUlJSIiIh4eHhoaGiQkJBUVFSoqKiEhIQAAAHj9II4AAAD/dFJOU///////////////////////////////////////////////////////////////////////////////////////////////////////////////////////////////////////////////////////////////////////////////////////////////////////////////////////////////////////////////////////////////////////////////////////////////////////////////////////////////////////////////////AGb8ilkAAAAJcEhZcwAADsMAAA7DAcdvqGQAAGTYSURBVHhe7X29keM60/W6MlhMQgEwAzpTsqeKCWjWlqEsVCyWcpDDFG4Gj/VFcL1J4LXX/c453QBBipIoUjur1Z1DEP8AIaLVaID4+fGNb3zjG9/4xjfmIcvcco7LIRHZlEjf+I8gy/NL5DAWBL/crUJe9ZwRjJcmzi7E+8afxBVGAvSqMGON0p2NJjK/vKiVRHGFEDer6npIAVnewK/LLSvaepC3PSurmiJJnBU95zeeAllViDzilSLL67Isgh9dbdlUGQjmnC8oI0TNmxIxsqwoEZmqkTdj1DsGGRgF/lmFByTuH/W+DFEMeVWpgLVlpETKq/kmpicDKpN1VBW1LiAyEgTmTbvrCABcY3fakbiqhiTVA1gFyAKJc5EbouxPOyGkz6p2vzO2gwfWelyF57cVHmQFgLvZt72cWcCKZt3WVZYXKmSVZc03MT0f6rbMwXLa0wmEcoKetDLgLm0D5uLUkINeUJWoQxCZtWUdqpKEgyYLnIm8rCpPLSKTQLzS8+b0eRK9IZRkCVXnIiaQHl2nXQMaLHtEAgpWfjBB9UWpUrZFDi73WsS0wnWGEa8nBsmCZNLu96e2Pe1R24FIwD4QCH5yUjvEVq5mi6Oa9cYpAoyjbdoTCCMX1wJDAVmGtkuZgdratgW9wKM47ekAaTlnQgOKsNOuADGFAgiBmEDvoF+UCNE+TzWIqenFewGMUc7fRE2gCsrErOpTU1UgCLQgHibqAacpT05faNxqbwXBfnqtDGu5yHOwJjSNVvkl6LIqKijSVA6egoYJ0dBOgsOQuVSUzY0zSbSvQJBFPWzm6l0rzgSZCTlRoK/ZWr6MzBQ40ihn+quIKQ/ib16i2QAxeetlGqoO0ky7o8wCJ0QmMBZRFlmT+RrANyDZZORGxplAeWgyCbWSWQHZiWSLppIEW5+8kaLMpIaVTIzC+BlnavY7IyaUTT55DQZownwv5t8IUVAgmBHCGaew5wTaMP6/2aCh3SnRzFHKTaqI0pRRAwkC1OHNFFlTKjWhtURGGXUQkzhTwVYTQrhaKfAVGIxvxCZigjepDMTCxhOyFYipAmeyoQJlDv9m/6kyQmbSk2FBYuRA+cuj/b0gtTjFjBLO30RL1iThz76DuATJFpKMPAIk6YBAcrRXFZhBDcYiIkKVsnkKyNW5cmIiy0DvrGla5FmCtkAmBVpItXkIgORVQzpiI1gUlMqZNAfNos2FAC7aCkABPkle5EyiKbSXoCI493vQtcf6awFaMdWZKf4mxvSDPSSaEFcgD+GCHmpSfOMHqACsBb26XQtyIJWURm6QiZJ+nziT9dfFeSQotztJ9WBtDfqEYGq8qEA2JoDrpviEZnEHIoJ8X+8/yR2ZKTXQEMVyFMVkJohezuo0SNGV4G/FLcb011ATWjnv9nMAR6M45jRAXgJlsb8HioI4pQaQThhkWUl/Dr0xshfKP+JMRkwBJciUJrkfKaiskAsJCUHoxSmf6rRT/s0niEkUDkiMYkcPQeRMENE5fMCQdAD074WIxenlAjX9NQANhIqDDRVmYokjK2rxAJCRQe0beBAMStxpaySBvBPANQoJPkdmB4bGrhoauAZNJttLhnN8lFY0l2i00M077dGdrEIzp6zBiPC0CnQLwiFnQp9TzSmJiY2j0JXirwTJRSQzRjd/EWcCP1CnLEPllqglMCpUZGw7QCEN6KABhbiTnXoTs3z0J4IMi73BwjiTYov1oHkMBMohoyDlZM4EyXoqdP3a3ecneFVZ7j673hzbOMpH6Ao2YEqUtVqX+19vBHyMbv4iSgLwfweBkIvs9qeyPJ1aSk3+ZyddwE0KkRNMpISLHMnF4Q7wYJOFtKE3h+6WWjJQk7MwEY5ZGd9ytbEsfrZR7PIUiYlP0Zi6nla5zITcFcgRcI/4Ihhv5v4ieoJw0xT8zvH5699fvz55fzojYih64Sf25mhnXDhPYmWhG9ihatAZJBMyzgTC4Sgo+mugE4+acqbch5fIFRlbLR47e2UyaJnlaHdpIlztKrMNxOTpXwZjVPN3cSZUCrrj5f7fBJ+qJatpMILG+1Zwsc8ntsNUA76gQLEka+ZATIhC4agN1Cl532wmXgUEPxr+odf8foT5K4hEzkRispYYj/NiecxvPAH4VxfH4VdewXpXAiotkaHgRuXCBQnLqCKtSEWFSV4HEy0XOnGA5qAoBujKmjkFo0VlML/QKNSQDUfAA6xhBTFxjMLk+hdr5r4WZHoJ4wtWmDFkJPgG0JKwV6URRDYzFIxvVZJ9tLsAfg5mBmiX9DmldEkbijNXFIe0AeJl8GnQxS9iL62D0vMrIj/leTpmnKb7xr0wujFlCBaZ0Td1u2cS1oMNJt0HNDKX01C+kQkyLZsyjj0wWUeoJKySaNDMmpcBzZfb+g0YygmiowTuybrh1W/cD5BDpA4jjRVlfbPSHEr+SYjbRhHr14wxDIMo31yMHttFm7gLV4hKYjCTmj4jKwLcIYqljq5egOxsTZWvNarA1R/3jVFE0sgyWaHhrQZvuTYZ6CnEg4VWOZHGbUMk1RahOvP7Bs6jTEj0UIz+qm9cB0lDV75e57ir9QY9mgLvMtusq2qdr/Jim/urZUR4g7pAR/zrd1R3CU4Ej6KFK/kwaMJj0igXouPXue0b9wNEstkWxbFpPzgUvP044DVv0GFqPw55VddrsKbwfjf1B+UVCBlbfrwwdnY/JlS7cB7vRsp+sLtkDBLeyOcbsyB+UzXH4g19oF17yAsSU1Z9/ESnqC22h7raSDImRa22rb6r6yt/fny8tPrI/O7JC3EV/dG/5z+IrPgo0KFp6iN6Rtu2XK+yov2o64/d4Xio11Xz5k0dRwjLj6aq9XmEn2xJiw/Csopk6vT+xtcDpADOVJdFdThUG4jhWXE6NXlWvL+t83JXFyCmY/tO6QhRwZLAwsqCtPQjW9eXWdOX1ufYw8zvm6y+GKsfef1WVQcyJrCm5p/Pslqty7I+vn0UlJm2b6UT04/q7e3QlG+cAQLKKzjE9zDONA8PJJdvylsIcqbVum6q9aFs3zkE3J7ejzm4zsdu91FXkJnW+boSA8Odv+3a8q0t27bcgpj8I/3jMDc7pktuy8b0b3wpQDmHPK+aj4+2/WjK9ybLtk15+vx/p4+38u1ovTljQBorbsoPUFOd/SjaevOnOdM3ngvZujmss80Rbdd6ndftIdvU77v95+eea4qOeZ6v8ScXD8uyHAITv4jyw0PxcXHGxh/nCt/M6Q+AjIUzfCB516SZHxWn2lb14W33sz2QbDjWtIn8J9vWxfatOTZN/mP7LJ9Fv2nmebCpy+0qOx62bNDWR0hImVq6YpNBZsqrIxkQyQmyeoEuXM6Z/OzyaV7IkwAlieobfwTiOFn9UYCYyua43RZHEhPAaSTgUxDAN5vwRUW+lLzLHZeMHI2XjeHP1qie/k1UXw/QScb2Kjty/dl7u/swdoMu3nYlYhJPoggObbPd5ujUFXWR52jwLk5A+sZfgMgiHolVVXM0oAEpvaMBO4qY8mq7Xq1ATPqWonikqZW+x6EZzPJDbw3TN/4mWIX+DmpabbZ1la3W1RYo1mzUwIYyTg9YH8l9zMNjB6wpg3/jb4Wq8+HURErZrMO3XDnlKz1DgKzmJ7iRcZZidHWg5zfHelqoaqSd84elsPzQePUyjo5kwJI67hixn+Ib33g0KEx94xuz0GeVmW2Kqn1Rv/FYXHijc1/0ESmPuO4EEphyBBtN2ZnntCu1UPW20SU4nKkNbtpw/ZeVfj9eBte0y4abCPYJNw23mLWH8IjOfusyxcVgu3evJXbhb19I9/7+jkRMIx1OmQq0CxERxmhUnS2qMSuykz7YaOJHxl0m/cd9I2D/aRskPBH2n3u3PQ8+hiNNoCZv5MR+5/LgV0JR7/atWey10Jx3UXXpo+XePAsWaYecvKm5hRCNLSPbRrmimz7Qj7zhbWFHWV3rMHD2wF3fnIoC8rzirkk8AUCWaP3vXcFStPtWr8Hfxd1QZjKDFhDyo+aPnGAC5anlkuu1XVeReyylJ9bB4PolM3QTMmOIaYKZwZU4ccsBbUhLvkZyiErqP3e71u65I5Ws7vWnUX2c2sUFWbtJpPacFOg2LaEzW6cDnRN38D2btQtiCqUULZtB9R+8qcMs96Uxhhg2UQn413Iz2OhOwX0c3NqlSh+Uujszz8mZAuNBZVr+45eiII6MCDITwlxJMfL1tqgi0VTF1h5zHXpQXE0dIc6kICt1apH3f8gMtpKcKfGfonBX3FSR1VQ0NVzmBGiXAzpDGJWV2aU1c+iOJoLEmazpkhdp5cLFvBWXLrRGejBF44qLlI5wHg9v9Ro0tFXQtj4U62oLIcoKiGQEMpF5GeeLUzrORMNKHrXg8/qmjGA3ziS7+01SVVOiG1/W2t4uh84uDzrQrEXbZ7jgNubMlUjSmjl0d6Y4E1iG6IOKQRcvEAVIgTZE1662zRZUcthWh/ef7Ka+/+QWbDZNoKyPh7JYb1HA97YpVHSjpqvQk8ZlJi+xGakjOF/d7DvbU+m24DNJ8XwgnjsDymnQkpQaHDpxESzse+55VXMnRUYdzzhaO1twkzOJW/glkhpT4EQHbUbLOCRwbnr9AQJvSD/a5527vTdV0f78Z/+/U3s4NiCmIzfnYgE/GmZzC8b2ztaHj3CmqP4rZrTqTjiTe01R0FBh3BB0p42lxY0AkFRZFzpxj4dhtaVXNDOPid09ZjW1BmeyIjl3suSjFzf8ZHkIOD7KNzy74H5q1YFrBHDt8G9h+X6e2uZYNOVxXR0Qq30/1OXbFGJyzjRCTFY0Ga4GxoubqRfeBE+wImcyX/OfoKihhkA+LbcF5vEwatp2aDh4/BUCIZJw42DEtPjhNpXYznxcZgIdOXdyohq5REyMwtigGDyv4O59zaHgjqOaTrn7hwxy27QfkJZETJzqXTdtfSjfmHJNeYmsUJQzDvbmBuhxpqDMHDhf10yt/NnkTPKjO4ZcUsGgjTub8RwG1FU4vG8HJgBi4pb6dVHDbQ0db7NEZ1R9E7UmzhR6cyKkARTZLz2sqQ+kHrIfPPij5AKlYs0y7fenn6fdgXk37zyEi8RUbfLj26F5L9927ZEU5E84e5DBHzXWm7Myp7/HjIHzdd1Q0QataKMADhXu6wo3u0IlpA6erKhjFCDrsnlD/42Hh4quSGdiG0rTpR3aOqc4URhnYitHt5hHD8aqqIGYKP4AeNRachx38Uc3rQCtf7yzHW7fUCjIST/b4xoiOohpvQXFgWJBbW9b5MMsL5ESoHKMcSaWuvsBUmYOnJfVmcdAnXkM1JnHQJ15DNSZx0CdeZyrnqv0Zk7OzvuaokYhibVmzRwaPPac2JtDLcKPq69LVGs/UU9Fq2lmJy/KP05okVS7rGOZRlnhDhfsfNg/XEKJZ8nBDiU5Ewu4O/3z8x1UDppuPkBVRbUFMfFvwA/B5YeICbnz9ifpuT2FB0Ef782p9IL/BN4smau+kQSYimbwCaaraAafYLqKZvAJpqtoBp9guopm8Ammq2gGn2COK46AkzO5K/reVA2pBQ0dqqpWb874A+uUe9aASXHDfcQMKZK05pYme/SjFRePF4XJqrTqRRCNeIcLck6Fp72/g6y3iFTUNXt31REtH3mminTa/Szrw1tzADsCIb3Vxcc/pPxDcUDLh8cIlwUmPgh5X27mgoLm9r6hkIGPqaEZjKCGZjCCGprBCGpoBiOooRmMoIZmMFKVOkxmCt5JwDUFjXQkBiSWQPLZ6aQ9NWw8PIj7aYmY0oSJ6rTOD/VGWG/OKlJwIwAxdcFSbSUq2VE3a45LMjt258iZDOrioXUr3iBOHcrjtoEYVddr/AUaMh3cHSkNHiWobGe0pN4cn+Y3dcUMPp2j79PZ0hfg1p7t+cP77sKHBmDv+Xe2MQWNZ6g5MYGWUGe7vc5AY5NSKgRBSaYhKVW8zW2eIB+PLs6EStQdWEcKEh3pDg/+gKh2OllbtrUxd5QNRIV2jsVhSF0cKDchNtjTG1jnR0kBH0R/tMyNywXAnipozHRUZvIC64Z+QXXaUJkme/RLlWmyR79UmSZ79EuVabJHv1SZJnv0S5Vpske/VPVtSW+O7hh2XTEuWjYN40hG0Sgguk4AT1fboUOlypTM5Gm61DI6Lfig1szJ3lzwsupUhaa3X3rwP/v9PzB2dXFkPxJQW2eFQrF+Hrb8TIhkW7bAR/xm293/cPBOY4Q/7Ax41oVmzhB/iRnnahAUbZ1PZ6Ur2DqfzkpXsHU+nZWuYOt8Oitdwdb5dFa6gq3z6ax0pQ4p0zhrADZzm5+rnmOg8O+3PpsaM1QRRSQpcKaSn1nY0SIxMbqnianpSF2dCcM5E2mL9Wi+pKvk1sXOnIS2jw8qPPjIYVTxRDz/SMkNBdqdOD5BoDVDAtCpcc6fuw/076aA6UcFcEKFvqXGIoVbKpipK9yJ12V15hFvqc4rqp4rsUZXuBOvS8o0ciZWueweInUtOS8epUfwjDWOUOqsB34qg3DOOrSRAUW17Puqb3W7GRpnEiERpBtqJCG7oeIFnrPlo6lzuKL9aYWqOQUJQjlCmne2fZZYQwNr9vp+/kTMj9of0oGR0osKdDvKmawM8ee50+0D1fNK43W2gequoEV17plY5RqzJY7g6jkGqruCFtW5J7S8yjTOJJfc1E11tnMlQxMrAdSieZoGAyLxjofIiiMo0GL0VbSmdjnb0wdq3sFAXj3O5CGoZiZg80iAfEKZ2LcDGMITlGATWVRbjZhv1e1jY2g5XQQeLA0ZXORMfdhzg5nqfQdwbhvGMCShpiL6Pn3XuG0ESRozh7GTUFMpes44zkS7mxNgUfGauzSy2Yu3do/NZ5JlYu0h8Teq4EzLhBgcsNJlPmQa0SG4DyzGSGgxL3FL2OiPhvEYaRGUKIvFlHUI+SIQ+Q04U9bJTNRxmyOxprqjc8hGzb1CiJlJgAB759RbTUPNJ8JC6SNDQe4hze0y5BkcZko3d+Ir0xADLLmFSLdxJnp7QN8Yu2l0HubT+cmhdq9z6Urt6TX0J2cqOZbodRmAINPtkheJwDRFRmLRj/Ik+ShEs+EsDkmIpqIIcgVteCmu9DHOxJ+o35ncwTbUFdJzmNNvM9zfXdLkZco8zEYtBsawxBX9gi5btEQDgM2UaTG/YJqnqWAGf0ewcg544k24k8bY3RmO4JLZBdGG243oiMp8ogv3lk6g3b8fYd/aRSA0ehgsiMnk50EK9SAL1SNoVaBMMxjB4rkHfQaXaaYPZSY7ipC7FNpt6LvuwuWk8O0Cgm1oArKa2307RwjrBQjmKQ9qXYjb3NNUZ7ouuLVudp87mbzMR6YM8+1fSQzT3ekeFkGeMqh0B0dU5hNd5gNT593CcsAlgyqEDuGRZOtp0v1WJFPBTquM/kWV3u4D1MXGqcjAoyXRkeSgqIHWxOl26dDYsUwc0RpuuSNCAPVeiDtgQO1O5nLvThMsjlk6TcoL05XJdGpu8YC+QX3gY3a5qO1Ov067EGZ+wXBfCxmYXQ7BEg33CyHBiF5BjzHdMJ8PXFw39yEHdI5KBt1MRun8ZfAKGgNkfFg0U7zcuHalFiq/kfVw3RwnIFAwlBrHxQDhLNQ9ov+N5C36OIrEeBY36maJJg1Zg39qS63EwBlx5n+eRXv6PJkNHvI7SxRDrkQZwVkk9zDjUiiBIrVvZfmmzyAJ3CkjtUt3j4FD1qCiVd40o48p1zrQ6V7xqF1HBsk+Xp3Ws5tHeiXWkVALj65gCZrM6MUVjxbFlNvMqW8AnbeBFvMINrfKCJep8+ssIHXJXtWUmcxNr+DfuzpfU3TJ6K7OcBvjJI7g0ZmEue2CshEjiHGnXU2TqwDMxy64IePQyuEliTswXO9uxaTdY9OERjPchNujMoMWwNKZkw/Emxpu9+X7Wfwx5K0dCT0NX1HcH3l5atz+LECRyulv6cvgNPQ0yEBMbn0W5M3p4nbpfwrNbvwE7G+kyOIZ9Rfx1W/RiemZKi9rds03Md0EOdP112T8NMZJxl055PobeC2I6eE1tzA/EFP5vR/pTeTt7sJG9zbViucyasNpuEg4uY4PJ4UxDoIeXe1LOVMstpvMJ9rnYiFn0vPxxoIJrDYqUlis9PjtMv8EsvISZ7IzhLh8oqjgqmodO5/Xoh9+n4ZR/Y7NqDvONCdvnr2PTjMHXZowEsMVR2cd6XuwkDOpTE2Od4hy2F7wec0O/kGnD7wCHQnozY1zpixvuCQWr6DmKZ55zSVnOV4Cz2EEpZWisN9xfscizpRVpWbn8tvs7tSKKrPCZuzOJ4fVEs600uriXVtUBy7vLUnUKxXv9L59GUIirnCmqqhb1koNggLZEBWISpwJf6wCTLv+HZwpWyAz8WQRTrZuyJi4ik5stGhL+Xmk+7GMM+E1ad0cikCTDJ7HODUf72/hYMLXwEXOhHohBXGdfpmDbLjgA4RU2ZEdeVNyMhqY9uOJyTnTLLCgpPimojhX6ThbEhMPQ1rAmRbJTCvKmTyEqQl/QPitMp6yKybl0V4AFzgTvEg8dVEVu31b2XlUYNf4g7NO8P9vuSnD6TcRE2uOGd+feVWgrrK6Ff+MxMQZ4M6lLNqdADG9zSNFkgr7wzw/ntwcv+4NOr3Xtb+8lyGncc7Etw560TKPcoe2TKcLZ1r5RX4PCYqTIcGZ8C97NJZwJhJ8QRmFxQVjVSvMM7khtCxs5mYXiViX//w8brlSBW8OghKuvNBxYC/EmC7LTKCf3X7Hpfs8nLFoEIteO35XwF+evRLx7kXveBSLBHAWrWk4EqtGmswI5dYWFktOrllGTCud1VxXxwN3QrCDmtG12y7I8ilxSWYCP7ZNO3boxLFiIDZWWi0kC9flwBttyuNfSMeZZuQNmQTVBb6JInsvXOVG81fP56LzZSbynizfoDdzrAu8PS6WqejLg1SdK70Mc7rcm0OtangEXZCcTQb3XSgk4FZo/NnJK+j7W4gpyEx3gqnYLeAAEww0KhwhRJm52MXE3XlY2JvjWQJ8YfgHootp5ciKA4jpNQYrA3K0CG7tAz8Yf3LO6Wkp0tLOzjUrxgYLCryU38yZZoAMSSOUDaS7RiIuO1DAknGmRb05vjsWoD7yz/nRsHVb/ciOC8rzpBjnTOaDjtwn8Gtn45NsO0BMXKWjfpFGn34DZ/JxppkZc6yVw6vlaW9jrgC31IHMwhzn5TqfM5HxUNY8ceEdTXRn8Oo2qwzs6pW4EnF5nAmdt/2/xC99vRMn4r/MBBGBArhbH4iEM91T9RaXHFPjgmztKIFr6RNZE8cK52IRZ8JLK5o3DqlQbqDYXeFVrsLHwheiqGsyU8U9sgB9AOBoCXRyphj/t8pMM6BU/JoKCxgnLhickAg/K/5MrGaPM+mUQTybZTETxajY1L3g8YOUmUbeslWLZvkCSQQKkwqWH/9i8n4knDM9KGNU4PKclnzh6RCpJ1vbupJXIydyJrcOMP7y+LePIRCaZv5frwE1d5FZ/imAM6H+Z1T+aJLX40mGy/OZJuE8qXzc+76MQ2yI0M9DTFaQZTLT/fARgzOis7GE7noyZG3c3kULmKOKCPbgnYY5LGgQoTMmqhhdx13QysuNWxdVYug2mE06tDTNlMvAvQZ8STc3CbjjRiLatJw7avEyNUyDO6QaepuvsgEe0IA/FHn7uePAjKAhmnS5WIrg3QVzdNAtnQp+wT5dCTTjujn3pnbrnoqxtNduoSlP/4tFSvA24Z4Lf3iaBeyxSICPfj4RsvKTW/Vxezx9wAo6YS5HCOx8zKvz7RyG1HeKMiDT/S8UKTyPYVNuqmAGl12pMZ722m3X/vN/P3Wc6Tu3EcRlmt2IYD7nNzT8Cup0Rm1waWvCeAsqbDTNm8VBege3oXo6zmTHTvbBQX8zTTtzRT8gWghzpMGT4AmUqNl92p587gzatbsz3AwuIA2nds99wE3s/nei0yBPbqYkW3Ql7oF/eiXWeMEXuR+i5o8KT1SwZ4dboMs+Yz8R0Jtr2PjasIwmvFMFqy4qt8oxvBJr4hiLGS9TydUZWQ6ZyT0S7drtad1015nVtHtuS0cLt4zawDPbbOizCSG6UpfZN25In3IpVz2QNjlohAwsuHehIE9GSurNDQZ1BlZzJp5TcUeSLipti77N/R6sbAoKuk/P1oN6qhfVHwFPipZaZTePxLsDPTMPYi8DXEf2KxhGSNzzR8Angpnf94BV83PJbKjfhd/6lmbg4kzLqLFBshi9eCGU8Fg0tJonzpCVSmkrWq6g40xTYvcQklmpaHGH/BWe5Elr4kwx8F44zrTKMihN/M5WGh+CBq/VgjyfEReXh3t1AJXOPDeHDIZaJHhp85Cc33z5mYUroviFnp/GFR3Iw5np8qEp10WQmCIb8LgwrihDtKAYKpQ8ZNcivy58CAtMlfuGgcGMnGleC0fK0UvablYb7beilZcrbmxZrM/ObP6rcXHWQKZt7nJUgxETfOy7XAQ9NZOXM2I5tQlO8CX2M3gWZcYaZC54a6QzRuZyzpsYfpuLlotIYxN5bdNQYM1yHszTDkZk6LqdbYdFnAm0pJdkZ3VyCgrAk6Z8WvrrkNP4XgPwEQ2B01Q5v+bq7RelzR9IkDcaj+ExpnxJoIOWk3zbPV8dIpP+SExKlnM6uZJdBWWmlGjvBClYM3c1cQ9ETvuw3HeC85k2sys9rz84LFQXh7Z9f/8okNNqrRdXagbvy+DiHHBQBycto0Z8akBW4fer/UniczEm56PmWa1mrj5xJ/4CfCHPG54WiCBnaFmGJnDKzMwFMpOl4AK/qrJpuihXyWlNIdTUvZjPmUArK011LmpOZoKpuegrvDQeDsZyPeFHtpm4uAsK+JBOjijwGsBswG40+dXnVQdwehPZT4VKY6yCZymdeASNjuxiC4hqRV2SyWnyaj/9GHoy0xxwnIarCIyYwDhtrZ+HBtwoRQ+LONMKnZPVal0UJdelbGwVtMbZanJMzmt6EWoam89Et/gIiYGnj6CZ49RqLSUIG0DwhbDiUU+cgcr1YFwCUrb7X//uW1BdreNAeMoE+RmDuMwWPT1nExfRcaY5sHLhr2BclCJTC4ruZ3hv9st6cyQVcstDWWQrvAFtMABJqtl9TJEh/x5c5Exaz8u1OZy9zF4a1zjhBXD7AY+C1OJM4AJo5iA5iX5O+z2PgdQXEXCzdrcHubJyWaOUO281dUFmml97yoPzv5EJ+0/88uAB8wBiepvJmZRKQkNVHQ48qJP8CewoK3i6D7tzL9POXe7NcWcBytygAsrU9iWIrUcaH4IRhSo2c+RMaAn5YZu6vh1BeEd6kh/lBqbXhgVMOfpQYRlnAtCOor2FpER7jqdRarM+RHzufQ9Yxpn41viJn0IAUYGSJDeUWqnyOrjcm2OLhB9PmQnvgbCgUCsCWhFQD5kORQH+AS0V/4c0oChzUWbyJDGji0hkphsxL4CDEmSi/GE2mKrFEB3Mfkfm88eZmMj4EoqxpQyuNetZvs5WG/uHvghbAi7MAUed6xRstkkaGsgrnj4iWD/fkHPV7wnNUgbOQyfauE8q9ua4HAFignbhiamRz41aXMCZLBkeiMegAuFUz05MVkEzsYgzoTdXfujseXDr5iDOLG6uro1HeglclJlQDeQrbOHQiGnkxqF/lkf6YS0bYmkEPC9//d///d+/UCcOY7K1o+wN+qs9McDl5qHexxA509wXTQENIKtkP4JWqzTLcEa2C0bAgarUWcH1livXd28Vv62sOfzVlmzm5v7M58O1dXOCtREcw+XAGxSYlXXvlQwx2KZwPIecqQUhEf+e+D2FIVwlBu7EThWSS7+x1s4508x3zGR6mrZIQMlh19CAwXO9M/PAme4XlRGfA5RAWeTb5n33QQFym6/r8p3lmvkrnxOXOVOARsB1kIIDLUhfBCGcmJrPX78+cWkVsEOfUyADB4R28tJjE5lpLvi0ilI/G1jYO+KfBxBTmdtCtxn8KeNJvNx8LONh4uvVDy435PG820hLVrx71bPhCmdy8Isa2zXG8p9R+7ZMSUJr5tT7E7q+uGQmSxmyuY5EZqIR7juA6HqQfWI2tQgdZ5oHTRUgk7I5A+sjy+VsbmnZngi3ORNl534MSFH4S7kfDNroBwvbNfwDreWzCLbb8yVY8qjkZfOZ3NWBHmee10GGtAieXvOZjDM9Aqu4ZfNrYcK6ORJGH1zqPAQIyG1DnKe/DnImtz4A9z37AhaOM/1XYJzp4mVKV1TBkVhluhGVuUVJIcDv9BooaiYzdVHCFSzXVXeZ0WmDa4oKl2QmtwczXDbN7fIVYoVbbR01D1lwUT0RIDOVHPsZhXvD4DCTDCpzdi5zm1/qG03zo8vuYEv0YMGl08PN1b9Nk3FFBSNqMheAZ3XzyweMHI7hhezXVJeukEmndZeVDt6y3H09FymBtLkIs9H3/HO4t8JDJOnmkK9Adxch2GIwzc7TvN0lQ8EydXERZvBLb9NkmDL7QA/GmTkfZcNFmG/Nm7uHgD8Dx68YxbXgTQeKZqUzi//+CReVRtWfCnn7edLMgLErGIkefMyI7qDkcLNNIvSsfiVWv1zbo0jR6ZZgBmdwjekyPDxx33+Zonb6/Kf9uIAu/qQrHL4qlxTs/igr7E3dU3L0+KmQcRFmgctAM7VHI3imNuIskt/Bakg8z1xAtFnI7nNnTqKL9Sex2++auj66awkekYfDhs/mYJjsQUQJmYnz1ThVixfN1E49cQRbdLg1iRRvKY9jnjKiy+7OQybdVWlF8sBg6S6qYIzpIdBUtEUfd926qMzI1ty4Qisitbzy/L58MTQ6eJRTZ+dFxee4AZhxVVfpqHslzgSSM4ckl2DtZ9x3XUGerpvrpaLDPILe84kO8wGCJYakeghM4P4h2GJAz+M4k3klcD+/LfhcH7hgyGZm57p1UfFeQX8Le1pygAi3lJk2Iinn2KVcFM3ixOgWQrjZM67rMtw6ExdTL3jC7RHwL8e1nRH/EF5rnCn5JbRyjJmsrmszz37qxN/e40yOnlv/UepCcNNpBvXpUAY38MCd47ywi2HjTO5wBmM2M/86GOcVBXF2iHqUQZ7P4xcL1jq1qYMQ53sNBCgbBvCR0G1ZRc6NBzktRUdJoOX22IazbEbyvYnk21yXwX0Z8R10KfVGFiFrfr7FLGaQD1f0siB+yYsDlwuLNRc2rQimjr7SXH1Na1DZsqqxlWb8ul8UoKzctlNX0qu43KZwe1R9fOeAGqqYh7aBfPjVFsSsdSeaN2eRpU8H45+n8bwW7zWg18C/E7LRz1i69aY4k9vPIEblxqhCeThtYGPFsr85zw3jrAEGE8GcAP4ot468w1tgCk74Ih/S9I+K82K9c8gwrmjTt9dcU/rbJp+8pzJkpjFiYl4Nl6foYCcuJQABkRkxY54safMr7VjVXnpzJL690CnocaY50CGePokJDBU/49YUqltYJjPhpb1rPtOh5bor1YxqSmcDLfqpsxDmeKEiSUyioijD8BQFTopkVWsGWjP9qL7LR9GDmGzeLucD5Y2eURc8K0ynJJWcypjSrMoSbIYu4852G5Ez3ZMoBf9cXB4j5lyjrKfd3AlSzjC4pc78vQbyGkT0kyt6y3b3z67eoEOXk75OuyCdfA38YTw3sNI6R7IJEFNhX3O0zojvrSjJnIqykS/+m1bNN8t6sTdHXlRzXlJO0uXKeDKqWoeCoa3lmhUITr/5hII7oVTi3mhOapsDztW0OjVwCcCZOpnpXnA9GMoAkTOvtnWpo1TRuDTbghXqkb4KfF7O1ddkN+JMmuRMFoSXRAICT4I/xHGJxURe2sHCN3GtHw6Wh380KIdrLMmY8CQQNZgiHspxcxLw49+GjzMtAHsM1iCjJvFCqgcQ04JTnVAGlInzPX9sfJKqSodaPc6fWT4b5EWgEBETqAq0rqNlNM85FI+ieQWGwY+ANRjVtEMqxzmT+aChY6NOYmIbr8W8FVs3LTWAGwT9G4hp6TiT0uKN2flyeG21yYUL8lzEmX6wJ7cpDnxVrEeSD4mKh2GqjF9MT6AYVaiICc1YwV1rODqAfgqCOLMBgMmV/rj4YRkMzFNfw9g4k4OdRrI368Bx4RJIp2r3O9AVCgEdXYDf0OgvlpmQEv98ciPlwMUh9htn15o406zUlojdF9INa89+mljABq0xnd4f/Brw3dSBM1EI5hoP8oUdqrWxFo8a13MbZ6rD5jWmX8aldXNIyVVMpBZyJjasbOZyciY8BRxR3r/juIvFvTnWFZdf0YJ/FNrkpctAlnEm/KSw9BISr3mImLTgQe4vBWRI1KoTU12ePn997j9//eJ+IySq02lvQwLcw54yk5+bfRsX2xR0+yExUkZU3xH/LPjAwREttiGNSI1iyaOxeJwJTX84UtX2QIS8YgxhLtSbc/v9yPKjDS/jD+jlMLllXVc6keeLV/Wi3UcPnSIlSbpouDvE5+eptDFFdOggz3CYDq9NpbVBywkNxajMBA9IGhDmyZfB7siCQEhk1Tn/8VnRatkuCjBJMLsPzplul30MTIX2mRsf4F/FF4GeFOWnedk5lnCm1Y/8gOohGeG/SeJhTnif7OH9kfPDOYSo9UPij5BXfJIUOQPZJ3kWS2lL/tEiXlsRkuKizMR9cvhcLWLmc9nKoXOrDne956rd//v332lfiacVJaDPmWAbqJvIOP0IPFs8mqtouXXGlIQXsUxmqsoTV/QW2Qa9N/NlfQLg8vNJiZLWvNT8t/GNsNVVxx+SEajJCQH/v2Dxzf2NM93GlXEma8FMOCKn4uvQ+kG8270v3N2PUyKBgGlFGCKVmWbkQFGEo2L63EMuztHwZYxpEWf6saqa3c/d7qPm5xTmsuJQYPGBMpossqxsc8CeP56Kl1ORnXBXN3TbAg1BkpGNg9Pqz/nuRAq9hnGZKfXBg/WbyexQUeRMWXH6ZbjA1jp0wbDdiOvhcZzpVvQzeAJ9A6OYpO4v/n72bW40u1vPsPD5nIng31GywirndpZs48Cl8Fr1mW4+awIWJearqVCZbOQA2ukdORO7YAqhwDMFPc4ULQH0QJVYXgq1DyhqZzkP2Wn4obg6jurmNMRNo5cCxLRwHNVgdY83yi2aZP+zsNW06KQQoS8V5G4UdBB0q8hXxpkC+OEmZoT3QBsHlvmQSxR767GKca7sXjwCHhHez1Is+DY3BpcgSFsPKuBdiM8EsYw8Pwg49wOcicR0ljrx6B4JKv4hKu1Fp+/w6jS3OIIPPcz/XBl9K06IPO3yDDot9QjWey+ulgR9/yzxu5deXHrpQjMMKRaK85rmXEitvB4NvrghxvzOgDaFpzo5n5EhmI8srkvJ5Ta7ugCFCcEnWMxBBFcMNM9UR1fjVOpjdXdHwHFFmUHL0GNUCcEch4VuQN8tisT1AEGfCuZg6wYmpOvWKMi4koJBszlIguU5JMjb/Y6jjwQMt41ZiMQha+dOo9Hei5kGdg5YzD7Qm7jUSV7mfxsh3nn86DM1qw6eorGlTjrlzfWJ0MlwuE0JPGLOES0OPs6fQ+swOAGDJ4rFD8IEssvazz1HPBwalLmMG8EJpsc8x4kj+26fnlOIdx4/+kzN6hx7nRf6geuJ4N/5luChjImcSZt2i31QkxGstLnT3WYBqAU/c0XIC5oHBycNN8NFFW53I/pJzDKkt5BwJdb+FUKi6XGpohMqvTrt6nU4ND8/WSQeU3lobl0DzS4qIPrKAw+3EFPhgQynaZrFiyqJql2englZeyqtFe6EB7NRl61nccNvF1DcGS736MwuWvA3wCWvqGRQZrJw4jzCOEJAEk9ebon2FGmE0ZuaBBdbhOnu65cJO0H6Gfr1dRi0BD0+2JQ9UAGJch8mXkZLj6fEiyPgfw5L5zP9DjS7N32S/cY1TBhnugQm+x2V/oApKI8GP6d8qbT7dwLN3C3O1O+BmoPTEzShSX6PxRNypuyN46i/ZVBnGZ6rSFdqjoOVaJc1RYoUpXENOcA9uOgjfKiMeAwJPHAE3MABvmXw+UxLslnx4HFfJseXuXnoT3wOXJaZOBcOqDkDJdO0y4azX/S5iwsKiNJ500NfTF5emvw5HRRV3Qq7TW1aAG4qv7BIa77AQt9ksjW3+jL7S+EyZ9K6uf2JU1pQGToRlCdecm4LlxVozplOKHo04qyB2QDJk/CZCe6s5gfxReDycDHh2fXPM5xOu/aI8qyyIxexlsXLifT8NufWAcCZuOjUJnOIM3GWgn3oLXY8LoWr1H8PMS3kTJwdF+eAZlWzeHjPORNJaR45cZIeJ6Ad2FjixYJL2Yrjl8J1makp2bDpTw6RiRK3NXOoH70PE5qWVdQZHsCZ6h1PADIHyh83+JgN40xzZzYCGfcYsJn5nA27yXLOifXAV4HPGhhCXvwLcfUAmww5C03b5ZIdvArK3yaNPxLI7wGciStTWWaqimt2Fjdzkb5nkBOSrCh7802yRH6cMfXXwrV+OP7gZYE2rQyHSqJOuNQJDrwXrqhChXniS3nMQP6AmWhxPQpoCcS0vJnblZBwFnAmgO+M5cgPIqbFhXo+XBkBp0zEBWcweMgO/1c5iGlXcrUHGjnBmNZD8YhBSzvwBcjR7Szb2RtXOGympShpHjkh1abQJHoUqWaT+Z/iTJCYRDE1t6dAxcDJjpyW6PDEwh2P4m13qKZHU9NymSkhpqrdo08KcXxZjs1JvbklQlNRtkf13/BeX5czjfbmuJCR6y5r7lBRad2l1tFx3Rzfy+n0699foKbf8EYewJm6HRhQc2W5W3rmmM8BX9DIZUX7wf8dcsmKA3o0XGbkYS+Dcc7En1xT1NZ6PfzJudWXeJCGBuBqeWbq6XfQ0mM5E34B/hFaBbEAq9Cbm01Qm5LT6wptp4N2jvNrXm/UMnCms5etcWMaXCkEecmW6+NFiJi4uU5VFGVoPpbVVR+LORMSQwAnG7AFD+CqLPsChBHwebVPAqo+IBX8fK8zQjvv/Y6FPX8Yo5yp54GqADFxBRpdRkzg+mjyKJovbZBG8IjenG3dGhfLL91fYzlnyuvyo2zftEcbfiEXY7/enJb+OBNsZ9Uo8YOQwz6ncK8vHkRhnOksyTL0ONO1vPXoc82CaPHlhNF3NuK3uVmkxERgkgTXR/ODOaybmNdM+nw+BM40fN3mVgjHKuUi8oLjf2jnuOsKd/+S7zD1IgxlJthN9XDxkUkA6uxyvHuwQpHsHSyueBAU8kiyUQ+R2rJRrGdAXoZxpktvHX+j5Js764cGN4/r7XoE20OUiMk5k+kRA+dlxNRpCtrT+x4s78118GeDdCIFdWTkHrehVNOifh3SM3ovveLOP7GBqrzpezSyBwxaPhrNrny2IgnPRU2atstGnJoZifUqQFC/BTzV6ebDvxbcdsaLtLnzCqkS9ByGNO4d8Ep8FoTz5ri1oCnTgp5cnYuaYlv8x15F3X5yQ0V/gPTuTuOZNlQOtw1DZMg56TpCOxbFkTt5wpKE3H8ddcmkwcuUedMMEW/fUNzO7Mk4k52EOQ+zE16FLcJ0u5t3gEks2TDxjMwcH/vP0wf69lRn92ycJ74vu6f7HpOVdkavbR5GqZp31IKH3zQ6i5IYzOsuNXSbomZn9LqPPSTcZgTVmW5PNbfoDsp9gmPaRY1FKt+kBJqyB4+LCDHfcDXSO0U3n5CEuBb8rt6hL/00yNt9WWjXZyLYouZ3cMuE7m63ROtkBU1635eKASySuzxSvM0IqjPdPtCowi3lXsEx7WJ8CANHWpZg6yYBuzuVv+sd6GaEa2a1fj6Z6YQO/lMhL/fPJoCjg/nxbEUC7h7i+M2YughzGOdmGkWANiXzPhZ/m3s8OM608ItMOiz0ZMNDDwNHwN06jmG1TqvmG6muZvLwdXPLwZmWT1akZ8SVmZYB5KcR4q4RPYfAzUm1beE5GNV3ngs4Tw88KWda9F12nBe9Goe6ONNSZCM5Qd8nwyAmV6egrZYDRn+BOOxcnqlzA2FXAgEuxqOfzTOSp7toccg6/Db3BPBZA3dDTVvyscS+oKyyjb9ABiTB0faXIm8vLH3jZEVO2+Ugn9bN0VVX3L4eFKMQ+A6GOjJuw8ttqDSbiEcacG8npucKW71BW+2Ta74a521aHTGXkNOTcqZlRQIF6R0A9mYPS+dYEc/2mi5yJm4nwIWnXNGLym93ex7rpLMQeHjU7lRyztyAmDRrDkSk43xLHskB8OsIZ65wLo8RE7Pj7JU8nBeUgjLTHDbwG0GZaWGRsqqoj6AfsJ/1AW/v9M7/0WxW9JQ8bFRmkgcnBoBi+P1BnGn3yVm6FZswciYdH1b0T8LkJF/mBprCuy92v/4VQK6iGk5/DJytxMVZYiStDnrwS3ImTiRUj3CFt4TX157a+D/8yxu3Dpc5E9hxzkPbbG4+eBNeRsU1dFz2xBaOLGowuVpLgGmKmLi6/mQsTAcbaC4tT4UCaeVo6Nwb2QUlPEZmijkszwrVTc60qM5X2/KEV2eFoeipX/7XS0l9XOzNwRO0gpq3KbvQSzRhzX7v/D5veIDh4IxeNF8QqyrQHBJCFIeUxZ0pwdlKMDW8QJ4cXYBx4U2iicxHm7mHcaYMRXmAYAI8QGbaVFqh4XyoOn7tVrlfg8unhyOsbludrYHmjavm6rJpyGcUxt0X0NRFSpRJX221w/9gUZ54niIjgWrgqQNdeGp+xQOEtHMB2ZuSJ3jUOBMK0/bm783HI2SmFV4hOROJKazEei3GxBHwEc5kPqoM8CT2zvC34pKhWqIOoA4dpOiUMyEVKI/n10ty0ilYJTUwJG6oImLiIdHgXyAm8LC8I0aA6WE8ijOpn2ClXYrlnAkABa1FPCvS1Vp+r4WLMhOICI0VWTPIprCNIFD/dno4aalguyWZqZeeG9jY306HKyEDzrvJQXcgK3ImkFbRomp4FGMQwHuZLJaZQuLM+g7uWgIQ06xxphRZFjkTZIZXbOUuyUwcJbIVveAtqBFb6gTBURsOQH4Ug0Ic49YCw4F4HD5BMRveP9CXsWYO/0kOLSCdtusJp5+meBhnCmo5SExLM1rlx7AZy0ar+l4PI5zJnCQm0EFgNKAm+XNLHQrjoiKEOiWaDtqDvI1mDeBwE8QsNDRwVMiGB+Sh0VRvDqI42ssKdNMfGhCe8NscenPLOBPZUVYfSEKw5hC/f5u0xFf3h17f5d6c9YTAW8Sd2QuDD1sonkIPImIqjTPFhgQCk45U5MGKkJY4ssmRTq6JQpMI0iLLEvkgBx+07JrJaFmwm/QFLM6NAvjSTFab4ghBCex6xWWt9LGA3wM84CuV3ZcW5aLRcgtYDN4AemGcOMjeHHt2+p+ySYNsFb7ravggzI4l74mwNpJUR84Ew5f/R86UFsE4E+P2/e/C7ISj4DjT/fOtmYAjSRpN4mAlXpTelv6ni0t4Pkj12B99Py6PgBOwQAiCzKQPIGI77JFlpAcG83NKOCiTbq1aBcDCAswac3Ty8e9UZ+NM8nzSEfCljGSlP1NRrPnHcr/XQpCZLv86rujFj0fXjKIQd7HwAEDExL1hJr8cdGkC6QFZ+NCbYnFv7vGw3pxT0yKiCl97hcC25lwhhz7+7Hu7KDN1yNW9ZiultioWGCaDMhtlvpFJAA/0diuSdGlNCc6ZgvMZIM4EcylzEnT+5XKMnPIrlqeKctuXKbtBTBJQVIKAEJp6M064gk8ErInrGiyaxYdCkxntuqFDAGdT6o8yTyDEmHJTkykEWwi95xZATD/LPEM7tQjcJdU0M7sHzAPeT48uKb4CkCxkfiH4QDy2oERt7u4KoUGLRsC4bx+XAy+EhEy1OiV5QiiTO6bdRPpzgnnvbemq9p82FGltxoOA3OaqtMEUcpuMgQ6PmdzD9msUn0jLnivC5CY8wLWzyxQuc5jF0tHHtHCZEVzholKC84saQ23dnDnk7/Et7ZU7jRQSEsHWhU6/ZTSnz70sb29vck+8EDtxWEpb9BaWv81XWjeXciYOJevDqN2yfwnsYejFtyCm4OWPl0FNPsGVKLuCradRRdv4FQy/k4sadRXJHIhiNpmuXbqF1KFc3SeY995l+4Eb9A2XcMfJqklUWP1Q1k7DA2jihs0dk3WULP38IFQcKRa0AP6rEB9Wn7jXgGzSga8rxThsr4G0FCMlCl5Dcwj4KyiYZp0ObTVQoOXdHeS+C0pqkLXThK4g8LurVAbrvXRYKoMtA8Tc6vkWYT7hLigb7YIyY5uSsd1PZISAGXl2cCJ6GqT7Mz0JsucbtPzRLFzq9N/A+HymUcRoo/FTT3Za5+MZR8DfFp8310ciOC8ZdXq213TjqyrCSBo02PTQqsGhBHL0RnazRbOIFs4a8OK6LWJBjiySzbRExc+oeyTJViwMxxkzrZ1jcVQ8FktLVtxcikU/cymujoCLJLRGF/SjDcEByIqcluOJ+PUSZAQDBGTD2XnmX8VnYhFn0sCdlZeFtQ89Zl9A4GEE/H5aEpHw+Vv042EGqXmlAcaBBH0nlpPeg3FlvgfIh7/WZt9yvrZ6pW27C5OYiLwoOcGN9IM3xZfDoT6PMe9V8dvc+Re7idBcXU7prGrOx0M5UAgtDT3rSN8BEpNzpjmoapSp5HvB62vWYlEaE9IMQ0XpPrf9xbh8erjm43N6XMvZSVzLy1oCLcHXUrCa+E5QTRmXB2itCshq4ZFc8zkTUomYTqeyKlDQnfET+HF+VfqF+U7wQy9yQn3fX+Wc8Y2XtGvrouEUr5LH8WR58873akXyTP96crrImbKMQ1AF2FND6mh4Im/Z2BB1JD9QToNmjzNxSW0K4OzwlHfdjUUyE5u5mhOoCi4ftclT4AIot8o0M19uKu+c6c4aZ3TO/9pyxsWBZlNzk67qDS/OyiSIM/3t1JRfXOpERgweBJYDwZsUQl4tiDMpEdlQrilyFAZqrYICWwIxMXQmlvbmODk05+x9/AQKb/6ZQXQ1E/NlJibg3IhsTZEThal0mpMmPOPtbVmo0MT97bR0rTeH30qWwyaLv92//Ki9CCkglGueOImp8OW8IC1Sl8eYgaVzwMkl2V2gJIdSkbhYcuOn8zJmM8f5TLOqG8nwBkFL7AWTvklM6sV0CwuQ8V9PSsaZ3JrAfqHOJgWj4W/nDHA7/rJsap5SoJohDxD59DhTbe3dXCzjTPy/gxNo/idICgWhGEUCXyYzzeVMBLpxeLwzSa6YW+lfyP8iFxYoz1cgp2uz90khxpl+VE1jm+UQZZwfCd6FUJ5jLAGcSzbZOp4WHfbE3ty85Eol8icZeR8TurZMWHJat3Gm+TUuwROdOPRRxLR9A4e84L4ohGX8t1PT5d4cXwGJSf8onu+sTShO6CN5i8F3AnGSLYo3c7sSoiZ6LPtFQs9CmckOv9X04EzNCH4CfEhMHuN+OGeaVd++7Qne4io/ygTY6jmtI4Jn+rfT0iXOFH4xOv0aqwSRsI9Ulzt93Y5CE//06M1RTkdvTsuaIOqWWh4OjOR8G5SZFrRINstcXQZ1D8QXYOeCvblIONOdYIr8WH5A1N6AdZcHNMH04/pD8nVGoHumPPZcuNKbM85EiQP0wcW93AcHMnbyuZoyAGjMx5kq2MuG8klvC4J7sZAzSfQGMWkKkzKyAUK2wRbjfiySmVZVeTrhFRbH9vQTMsIWzBLEhBJp0FJREv0vxtVdUPg5gi9yx91Ocu6Pw+FvUhhDFSevOTqOfxpHELSqqQav+oO9OX3Ygak1xJSVckrjtFsDMwvGmcQ9ZtR4Xv78CZZ9BF8H6y7rzYarWbmVh8ieUSzjv52aImeCFpXDPraB6WiEhCPgWq2L/1gSh99cGIkCpjzQNi4jpqUyk32HZrHJMkFboCbZLXwO5nMmkgheDg/PAQFxtRhaXl8hZo2wRXoFWhofZ4JH8KNpDRs7RWo6yv7wH5k2qy708DgFvxvWvAeeZtCbozW9JwLFUsmMUfEXjGfAwDH/HvoyEzlUet0GC7OCrGSrUiBEoUwskdJSw+2G9Kn5PhnAmSZyEf7JOUUAzYYS9FKFxkV29lLceo8KWMiZBkhFvNlwzuRVvhjZJinSErJ5MqK7Ns50D3p1ZnNR5mLpCPhvwMq/zc3C9dpeQgtPREeCTduN17iVlxk9F3VXfsfg1HF2JdbeZYr03Vh6y3egJiFJYI+TZh7drWC/LoLfQrK3XcnIYQ3lPfAll5ZYc+TsseaAJhuve6GCPxOydq/dmecAcpKjsznOPO5A3e5bWaoL2dD30v2b0P7DAbYtLipZpl5UZ0j8UGpzVTDDfetCIo7skZaeqZlrP22kMYB2d6feZ0BgCOeg+ABXkxosA6WlFuww9r/2tCS+ITBR46aDzi6gCw9+rnCH6yLe3xH8ziK9v7+37/Cg5x0X1RDyd5sXRaXAs/g8hV+9kNx71c/U1OXl516/6omw/3W6Urt/BP987kdo4g+DxPRUYlPenngSJlsUXBHBCrOvPB5UDE2sUZ15BBWtl6G9Btz+JCjaU1tU223Fay48ZZfB4h8piemZmjn15qIcZ0IdncEUzDLu7CImOjQPHoLedif5GzyI40zqOsFuyuydu+foGeGicm0Ijyuti9Al7V12DBPXzZUQUMyxmgXkJk3MxHK353qm9BZlKFjRb9zP1cQR12YNPBTTH/LYcaaHoBsBfz48EUXdWtGLsF5wcLjJDmrfksK6ryEPjxL+kxeRPZaY/Omyzc02m3ne3CU4ATwbZ1mKy7MGCIaABnKnCrly+2JnZlYVHBLPOQAes4G3xcn12S748QPfFCznTEwdiu1W2udnygUFC5aHswAbPV4am7TO64VwmTOh+rm8kt/keGqh1wvn7mrKCU1QEder2GRefQJTSsYi5fCziqoRPpxOMHHe7GLOpEfmPCHQvqSysD7FMZTwTqCZm32qE0gnK/gKc8pMeqX0rY5Ncyj0de5lGNT4HHCB37Xx03NOnNBkCdQEpw6cdtwkfqcZFHjLMHctV6pZKgAkxvNSNDeVa1jpxSQc156AZZwJ7LDmLEbtSW6T9DgD5cRtgi3GDCySmUBLLMsHp8PU5dby4Ylru8Wn+zwZrnAm9Ic5Fa5otF5ObZRmDpQlz+XR3mVcmWnbfqfnO+UFAsEI8spOg2Kzx6VSU2oTmSyTdlFfpKHMtiQ3ZljVXOY7kTGOYdl5cyjSG17iMV83O/vsuPqxbjghtaxeSmy6IDOxTms7dhAtFk8a1NxJNBhor0BKXO4Es+CqXy7MbOPqawpHNtEXgpQOmWNALmIaedAIlnEmsiGuHSUR62wOFYmrQhZwAcpM84pEYsmLLV5aU2yqtxOIiV4ZT7zAW2WZXoeeLq+bYwWAEGzWG16F9ofP8Os5x0vnOFIKYtWxobMDMpVQ74jp0OCQmJjeiGladS6eacnFKCoEtEDiWg0yG5SZ0mkjd4LCQs1Zn/jv1RsRD3sHVWmywctQ07VdUMB6+I9CLaCtq3V0DqKCRAIxcVI8WJN2o8Qf3/OxqftcuIYajJypRhawMI7Hu4T5nEmpWGWaZIw/gjbVoJ/WgczLlJjfmzNCWeE37bQRg8vcQFa97dpO0HwFXBtn0kEXRgzojtjZORSI2LoZZyKJgca0/2vs+aOHh4rLKXwbMdEPEeL0+RtY3JvT0msdlod+gIR+LRY3zMpZ40zzGAhSoT+3fkO3BeSootEXHbvigy9U4S+Ca+NMIqawPLzmBA8KSvrLW9tVgyud2CshAhMAMXEVpHpy3O6ihCWv0N/TLKVbYLaPICYWjt9CjcL9kI3ZuaKZm3/e3IpN2rY+oKFdgauTw3HQizInV6q8Di3d5kxsrthykKRQRdy5AyTFQQPKJVxi0YCg0HMSfVkyLoyi7EuCQhe4bRqNIHwFZ2JC8U0IKQDHNoDksKBZWNCbQyqN6LJbAmI6FBxuomS34WAdB8Jeh5gu9+ZAO5RaQUc8ftCaiazg+jP21eQHS8MTw8pGU8MZg5FAZADek4YGIJzzSFUOG448aARLOZP4Jiiaja8ReFbFNnge5vfmAL6PI9elVFynckQ+aOO2h6Y4Hpxxvgqu7WnJbyU6EZVtmMseOs6ZrRdZjTpN3GMAxGThlg5SUwvqEzGCmXMmZwk5yzjTzddnnOlmtMsAH2Kx0c9ksYnlxDS3N0e2g24xe7zHDWQnFI0jFSB4ehkxvQxrutabAy/mL+cphN6xZv8IKCqu5MWrABdBC4dmLhzybMCrolPE5PLBl40zATnns7INhhgHQmKvIbLNeVgkM5E1obvLvxLeKEuSHylPJpLBi+DqbrviNj9sgMk9YKeL9UPPjK0YuVV/wazVnvcECfTt8PYsv6tgsvnExGTMQbcqDpwRBmARZoKcaf4IOF9HeIUqiNrhvFrzvwr8JzjTDTCZWjGBEwTcM4CjO8EK0rMjo28/bBln6lKabTFXIkBMC8ZRgZBYdJNt/GUtw/PR4K35TDehf/3wr28O8gZZBEpgbr2O3gj4orIRKJzbFkCc6QH5kAJIA2HgklhEE89FUGlvDmZUQ6shWqZhQGETUy+WmR6P1XPOtHw23iTOtBwgM7clGHqORBmDLcJ8KmzeTpCZ3PE8uPfP/buRcxHmstWL6HcHI72ookMenc1Dx1CFRZjXo92GJw7PW4BtUez2ba2lj7ao8h5laybN7NxyUDPV2e5QD5G8Homs3J/U3SfYWw3KnPG+hdE4fc/ocgsM+6o31E6fO06Sgv1+MJEyMcQ8ZmVGvOFGkf63N6tpd6AXPzpo0UGYhtR/ogLS0ZinQN5+7vC2UI2syeQyd3SY5vGCI0A+MSQoS5i6BhZTPY06j52US6kt/dQbGSgrS2/5mc2C71a8UHU/USQ7IlUe02E5hETRBZs7gg/CaYQDV2/rmj7ttbgU/Xzkil53PCMvbWG/tQWpMs9gTQy3JUh8zEq985QtOHvencNAd8VmrobVAj3WnbelDnrifZ+yRglNSru3zTzVvtwBj50a1JRn55iJJbR0npQ+A9/onPigHAK4xiAl0aX6AO45GnaGabEu4AlPwsxLHkX/fPBKXIJhHlfzvPHAdJzJTHfRUHfBNd3R0xwxnD6C+wSb3+Yn777h9j44zsSZbKOBk2GpodMiR7DccwPsf3PWwOb5uuIz4T8smF2dXcPNCMDorIEpCYe4q0BXYz5gnMmSL8wkYgX6fsxJmA+mxsXZkbllue9c4B93hB7bm8wDs3Cs6iD6GWMwp3vGsPgYxO/Cgk2h7uii3sLg25xlMV3pfhQ42whVplkDi+suTd/ZZ+fKks1MzJrh29JHcM0i9ImECiD0/dXAaBqEuPliwZlITCEezWj3rNw0/+gwk8+hxbe0TJNCz1UIC9DnewVeBaIs3xmRj1cJUvsgy+lPQIUFzjSn7pDGhzvdFAkEL4/xxcg5U4+1B3m5KH0DI07+yjVRjROHivxHVTRwgt40+2MCLtccnoSsQCpcJMeJTebJxQTIX9PjOOWyLGFDB9efZxr7QlZWRFFNanYmAy0fQ2rvsGDWgEETYmvNYsTrwc9gSRWQqOkwYlqy1wBe4QGvkGZTFxttYqIyovruKkoHEiCSzqBD/q/rVrM8UAZO8keFeueQayV3XK5KYkLdcvktHFr7OAHOmYguPmx4UmMreauGW8vZqjOu1YWLxxXsdid4IhJnycGRTEHhzC8m4BQUP2vVV/R6hOtYLDNpBS1eCacs0H46Td1ReATWzNnp4TOaFSSwFb2nDx6yhmLpRa3wIn8uWmQ8D3oNqJ+yDCyHf7bQpFkICA38CtWGGuOsNR5x2lXuNVw8oUD5cpiVK3rxbGVnnsifM8/oCWJiaGuUbtCUWU784hSU/iLM+KTRRzqWExMnxu1skyet7BVpzwaJibMGoutekH2XH21dHFgWWw1aveG9vf+ZdXOaHsuVkCAmthjk4r7FPacKgVVZM0fBCbXGVdnTiClwpiSyOTnVlRnzoCZyPCcmI2U0pgosbHk4z57tiBdF9BW9IHwWBgFcYmecCXeIOAbFXS4zgZ/aNEYulbE/nwU54Jr6CMRb+awYshn3nQomUZuhc1Xx0lgWeHJJBsoY5nt9JShwQCCiCMNmDnyT+0doHbTCSWta6kDKglgDYlId3n5hlzmTRB1wIlQGTbwPCkBsvMitmIiF4ope8CVb0WvQGV1GdmF5OKftokjT2MNimQmg1KY8QMX6Y9hcKv4kqTthvbn7ScmgPeS1zB5mdfTtUFBXzR/hTKgaTvQEMUlmghNsnDzB3hjdXDbC43LBSTn1+V7OdA6+AIrzIgbQMU9NphUyGpo5EZOWNJFzA5SRLCH+cGSRZKXdIkyk/7I54Ci7FmjRxjKiSHAqYAYoKHXjTPMqfkVuwDVyNL1isuIPrehly5HrxZAzse0g0fBjnzrfKCEFYcrDtuaBZDCNmK7MAUfDqRO4mRFFfshFoDvuZ8EeI56rc57Cl0o2wUiDdGFFb295OOmNnOnCs1I8gJhsHSafpjV0KsykZ4+A5GO9OevTm+9kKD7+7Xpj/Ncf2cqhKODwp49plfQw8LEqTCAmHuemOfy26kj1JvEWDKmi4ItIiH8vZ+rHpguCEgjBmikuN2HriYYOWeNZ4kxc0cvenOBcUulUAmvmwopedq/6zxgFs32AzET+LRsYpF5fKJwA+/QHLOdMNpBC8bY6oJJIkew7kQWglZmX5xJIAnYBHH/20+evz8/PfzlVA/WGkvIMb8gFFOmsnKH7ZckvIw8j4GegVM+2VQ2G8Re8Ffgwd/X88TZA1mjmzlb0siTORW1FL3XvCN8s0gNkJnVGzMZy2PGqBH+ELNPBqg7jTPOqXbSkv6RMZrLJOdgr4cXifCG4d5UNTYpTVM1ufzpBgc7BKWzdNV8gOJNmSqARvJczDcHBES7eRVtFecdX9FJ2gqNhA8fy4Endil7PB0SGYApu5GU1B6a0orf8MpkJtdS1uZLW4lD8/TDOFNY4zCGn/NDi5/MPxo3gJYbzRbIbo33kvpozgVQ0fAQTVALRCGIKFTe0snWh4kw5V9+if0VZRp6e+jKCzHQWM4dsxEFLbpoDavDdRORAz01msqKX/zNLBzCWrehFIVBg0h+IO/bmbpQKxDSR7C4BxISnwwTwnzBhb4ipjzDOZGyVdhKXpKdpQEQeq4pXeKw/ZBabLNugCt93LZqbL6ckAAREWmLdoILwgtiFQl2TdRoPEjHZybTgCqjBSW9rlDPRA5TAR+AvHpajKkQreUFEPPaWgj7Jms2cZAKLorRkjJJcDBy0nDQCjiiP4Ez2SvKKo2H2KxQwA6Kc7M3Hme6ueiRY6VPqB2TdGi8PJt4eGD5fr179st86C5B89WRUEF83SJxMCAwD7YuF86BjtHp4gSC3QGK3cFFmYsasCzed8cjFwaYMT8GD+ZUHHQH94bpsMm54y7LGwacMDebUcablxESWRAN/KRaFxZf3PIAewJns25wxJVKIgqYB72ydV+sNTCuLr+jV2/U4fwLiTGTj7J2zHXZv3J3QCeA1GjHdKuzlcaZJQHkgP1GECiJuAnEms/1g2zwkETgHSngAMRnQxk37R12DCCeOgAfeJN/OeQ0jMfKRl3UR4Tl2PQDdo21ah7UdgEIsFLyio3NNDQkh15AtPe7CCwK4RwcrayiEeoJmvY5O2l0Kez0PABdhdv/U5YiS0kOoYx74as4qxN14cWnQWOWOgc2cWx+PXhmmluhxnOlxoAD+ZEUS5tLi5N9y349mbw4cDU344KIaYsRrgNsxlLk/Yhyg76aLNO+yx1h2tAT/WReEnUa7WG8GyKSuAumldRddVi5qmzTo3msm5+0neuCfJG/3O4o8/AiXKtd6OPehn+LbZZoiBjNBL7Af1AMXYZZufxac9qdnKxJ698slwjsw4VlZ+7m3nuF96D6jPB48w/QxmPPLRoEiXcjrp5tzsCQtMDZ6dhem0Mc9rMs503VcYSO3cXficveUnOnNrc+DYr2QmG6hy37agyAzXRFQXEscMoJ/8NLVN+LV8+mn4EXlhtkyLcKsziL+uYtiTQmZSaU7u6YKPV08s11IByEso7oNRvJKnI+JROLmLSzYOe534RGT4x6MZ+3NPRmuzGcaII1F+8SXO4x2O9kTDg2swgj4N65h8gg4mKq9TrJYI4kzOgGbdiugeEP0ovTjRzznONOC3Xb/M7jCmfxDEkQZmXlRwITi7DskVBwnLB8xRZQQH+2/fUxkJN42R8UXbXoKmykyxANGwPkYPo5WfhAbJdo7oBMK3H4nOK64QhHW/ipRLnrjj8RvqAvL9WS4KDNx8kbLGW85F+rA5LwS2Fru/23vA1deWWp+y+FU6xoUwhnFZa0PmTFn5sIpUaRIBNAfL7PgNwrPyy3AYs7E2V8sOqufD0a5F47ILJOZVAbOVqxqvMGD+mBZ8QY/TuV9IVzkTCCK3Y7TTHRCAUwuRLGVKBrfYCIuJwA9wGqTrDXhWieunkrxJ8sKUJVy80ytghINFZxaN6hkuRYL4Co6i4xcSFdwLKw1ENOCE1A3R5ahrau6fIepo3i44HB3ahcS+ZMBMtP4Gb2a611wOmWjU1QLchwxHc5nUhROPAPV0FbpT0bOBHtRNFxUnOwtgMw0UTRXW2nEVDe+cmX4PpdzpkLzQUXzmmmpgzs98H6goXLONOdT2IrzmVgGvIA3vNED51jzhZXHulnKMZ8M+WXORLlHc3bBewouWdDuBrzxCiQsccWVLf2q4OmciWGkKh0NoKzA523pKFdqaaJ6j5hg99uwWGaCaCKBjD9MS51gF/3PznWBzARsqkqvoCm3GU8S3/LVHVA6rsBa9EufDORM579Hb17iD4iJ/x6ez8SVn2jluNYar0aLYCD1qAHJKq0Htfpj3SERwpyDwYNWzpUTZ3JiQjM3ulP7Ms6ElBLwOaMLTs2iIjHNpwVgvswEZrZSeQoyJx6Gidci5xaFK44vRUzXxpm4K0WjJcx8A/xrESUXNlMSIRmFKuMM9UqcSRRGcYUzesnCEAymzsosoMdm7gcbPrG15PGyPmBoAIXgQb2wcC2oijk/R2ZjnGnujA+uED9wEjz/l1v+sfAyYd9In53r0+HiOBNfIftztowX3IQitIELZbSYgbVkwjS/wKHDBzrjThE2W52Ck+cFMkLkjjMxc8nz1swZxZn1McQkMYk244kQ4xbluIgzAfmxabb4k7GBE2ciMbHpe61m7sLZKfjRnOnN7pqERJpcrbLXx3N0THIA8URMYkUgJAjeEJW0nQ7Tg25CzmzZTGZib67cNVyOtTvtdzFGgvk1FwhS7TOJnJRpMtOyIZ1lnInr00jT4ElwOXnXIin17F4G4zITwH8N1w9zIR73wijqFg1cKzro/k8kEK5YQV2BmhCZJt8WgrreHMesOBDA5TMkpj3okUyvJGfqnu625TITaAnPEvmAjCsUfyEHWEDfQF68cVkzedJaXRCQJSQCvtWXYkyUmcZbALAbDgWAdjgeADFcPx9SDntKMQV3PFHrBqtWx5ElSdqF2NK9KQ7bIRMyMVAmG0xuUVCkAnhXiOW9uWJ3YlsMloQCcjRDrewCzOdMTIIeM/48XJ/zxrdQbFYrEDn/TEEOeBFcHgGn+B03hwPrwX8c1IIWDq0XUqCeEEv/M7aI8CA3J0uh7CskfzuI4BpE1BgBRx04QBCGBpLnK8+lMhNXEXMbBvQoyQ6s+B42A6CHJZxptarKn6efu/aIbgp3XOCCtDw/UmRkpjPbzmfEaG9OHmyvOMBGk+MhEIZAXWyh1CkxpOyHbYqICX9EzsRUDy6EIhemYjPnXpCxqtDdS+npAQI4qJRjleKR+hksSf8h98FnDcyVmdQPpthWHCQ8VQcuxNSoC8u07Mc+ES7KTPiN3p65yb4d/01aydvBqUFwYgLVqdPXq0LLSpyJFlAXR676Obm5lJiQuZUZpGv2pIz3wzjTglkDcWfdTDa8J/6xYOOh9K+EO9bN8dOtAHI4SyIPVR7sHi0wrSQ6P9gFX8rqKV8LAGda2JsLyEwIXw4S03zOdIbxqTd/Py5+m7sIvgd7F2dvxIQnIRDQIA7EchnB0QXLZtrycaZHYxln+m14tiJ13+agR3Un+ilupb8ZbsRk6kmwaGjgN+K5CoXeXIMGSYOQBrl4BVsw3Zd339NsQUti0BHsrnqg27Nwg5bCZu/LqZDpd2f04eH3KzPzqjy1Vb62Qt51rXHBXBNmkR40WeZej2rEH4bMDi/UpRkmZnXn4KLWueI1tLqd3/GCVc6YQVAhwHQqObQIk7bgSzXJTIx4UVMc3veqYPI8xZjjnMsPHBzLxALuvaDUP34eoMPTfp5sXkmizHCL39TNGPh1XiHUXF2QVGd2VzCCQ2bZnn5xkI9X8JVrgpkY8aImmznvsXTO/ee+/fgIrhnXh6H8SD2XXFDJEM1zIOOxk0+Fot59cuu7p8Juv3u2IuFNPVunUDIThx4lW8hEH6tzy2KO6GW2TqPeBQJ0uF/PfxKyqtxDjFMp6LzjJoJ5GTHGDUt0AC7GPReeTWQanzXwoELOzCaMM1nykMm95mXEGFMsBv82Nx8c+DzLdSkenN1ygDM926COfU55VKEeks+Sb3PnYE5P9s4fg8ufU858uwqGmda2bObsPPv2e7B41kDAhYHTGXjcznEv9gGlj0uzBtyPRgiGDNHFHPsiwBFtJaDeG96eDqQJH3qHySdzq7FoE5OmsHqXvpgzIZeXJiPDxdUpQggxGvHpJpT8+JnWggTSGaKEb3N02NpdC74PyayBWekBDTWK+DitiiX2gOlISAkGOdMiamBivBcYOtKJ0vwf2QL8tyI0c/23LZfqwWwybVYlJ3XVXJyqINxUBbce59dw5sXvvKjIuhhMCWD8KUiISbgjKYG4Off+tvmeGWerz54cx7qn2Z2dMhsgIZuFQwtfog7kWYaFRXo4LswBBzg70ofFMk2l5HzvrNb6Xk6X7P7teEutjgvmZEzG1iznuG/zdFh8+zZ3b1qDFTdZ0at1yCc/FXP6LSpyUqIBzrRZVPcgoaxp7VXnNYr3jhe2KMcnxBUBvN7tffky1wM4MaEla2zZPKvHAJZV8/wU50y5pFUQ4KwpaVwj5fR9Z8qIvGjwcE1Dw1+iqMEH7udMoaJlUmaaN/U/0ssqK1qdNbnCu+MAqGbsvRY5XSGmwg/eBcdpWxIT512yerjURMTkCcmQuMgQIcgrq0ruRsC5dKPTlW5i2MzdCVsoS/bEXFAeFu3eglglx13cOQVlGWf6ka3r8k00TYkJ9x850en34vIccG5LYS0Vh+xARpSZ4AKD4mRYoyyCqy5Yg2RXXADOz6NaTZ4ctXoPFhJTN+HTc+HsTlngNHXzBt0EQpK+tDeHTPIt12EqEzRvnQjxSrh4Ri+AWtAPprzI/zoX6pok9eNHkewsUnBRCtc5kkXVlMW14YWLwHdjweQ4S2bHYGrFHP3IA+R/BwIXElUBCziTJeNiC7RugUPW7avtgEKMjoC7h83+5+GIQAUy4nonSUxsAykAWEQQE6vMOBNeGk915WFqs/h4JzPNSCx4A2e6fkXoeE6EYpIzkQ5EC4vHmXhMWAsCYpFWfH1vc+S4Z8dlmQmvkJyJEiwXUNYV/+o87Zn/KP7RAmOCdNRwmRPIDZ6cKF4UPOAwtoN3YnkzZ/0Aa5V/UJiTdwSd4e45oqezk2iSmOb35JEQguTpdPqfepWZrZVmd8af9iq4QkwgEC6RA1/iIp1Sx2HmkKoVWFlXTeASuKopC2tfwBg0l4knr87CYmLiGnStnxVxgJjMG3Y378EDOBOJKS8OXLTDImXc+wR8XsMVL4XL40wIY9Olbpr+55Cs2fu3KsrY1lk01hdbP3RR0LJwfZ1BLEzhZkyFE9OdqRKQnH0iIjKprBwxu7vyBR2Imh7Qm1tlW+PmKN4b52+O/9lQvKiu4K5f8VUgZ3LrECAYSBugDhYcvJmMWX05MCwovRfFg1hS6kOoxBRIU+rPxQ3mJsOjz+dMIRUYyYkjqxq5xz8ieIcY1K8+wQQmUY+0+Zypy+PHjzVFUB7rU/MgjrFVxgMfOE2Ngv6jCf4YrnKm/rdajS+htwamw2NvLcwigND4aiiscHiKSzV3J9SmAu9Fb9ZAWgAHvEZ8e+AqXvzxwU5Rey6a9NKkDstvoFD/JAHY5KF1c3TcRkKIHeTk68QfdL3BP9K7J1LdFUBb+rQuZtCu4XroVcxNaul8nCkqQ7SkkESrdb1Ef9M3myggzhREpv7C3zHYE6MKfkPOFCOYmgIUhyWC8BTSdAmjLQRdQEoO5EwcAT8jknOMRIhesGTVlq2v/U/hHkSPZZJOzZznuOT/J3Ft57gO9tM4a4D9EMNIKs0asAjJ0t17gZqbUKRJmDlv4Qwkpnls9gwk8sehlxeZll/z1Oy0nsx6cyiT1KXLDDQYKrzFNr94USVzPWTC34OHygzGMkOXGc6Zuii8oiVeo6ozcVG59e6LY0G8w8UVvbKsblxjMczPMlqRudG2Co9IVXKdW/qXaX2E//mfQrHbl4XbbwJi9w1MzuoKivZzepG+CO2+fWCRtm4uBEUwJyPC5dmwTGuGwj3wuUdB+/x1MtvY5SoYQdNaNNkdMdACcHl4GukSLJ1ByfYskrnkEQ1Zg7/sckdLNGD2Yo/jYsAZPrhuThZd1xS1/mXq+sMQGiPIYh60JneqoMWxFwMHRvd7U25MV+k9T/H+/AXzArpYiaKPe8JhKrlShSDqI7HSS5E9oq7Pfz+hU4VbEdzBK1WJFnQLsiQePHYl1v71jwM2OqE+f+E1KUj6reuf5LI0/4SnwUKrPHVJ0Se4zDAfU31XVINzFzi8xo2xuKGRGdOvTpt7UeOIR+czuAh19Hu2JDyoS1cooKn+ReUBwe0aj1W1OMnVaTeuYDF19Uqs/Wv37qrVjSJ9cpezcL1fgUfoIpkLekg96Vd48d3hHoNr+HXP+0Zoj9kkW7Oc6iMhnY/bCDPv1AsZuGmxkcjUlB7dwddNXVHduqhC7N7tfooTLEUrMY4+7kF7CNTVGZ0jXANtaIQrsZ5dW2hQNPwq99x/cWvovEcvRugimSto8qFu9hgrXlF1ptu7K2gVZPYeJMbzdmm+r8swZ/BLfEzFkHt1ama4g6oz3NOuGNB5TbgSKy9T/SuqzpmXp8YLELzD46MzGp0jXANtaISrM84Vu1m0dR2xt5/lRtu+Qeu6ZmOXRzDdbMpJVuu/qQ9nUd0VrqD1TBiJna7o841bWPyh9/HgONN31f2NeE5iKr+J6W8EFyQ8IWd6qbME8JO8lXzx/8hTcqYHrVj/48hsSapW0fZ/0WtS1YI54HwlSJpxwgy//fDNhXeGjnP4HnQ3ln2b45cT1uIaj1950fSBVzX7pSt7s6rR7v48ASQOec57J38B8MPycv6HXlIMdB5HxVdWl92JwjpwY+byogUrekFJOuu5OuD5NZf1vNEUAa1ZJk3e+TJUPCSh5hz9jpheGfNlJlEP3hHI8bTb8XhhHXuhb1jIFY6Z517wQ+9MzpTxLKM1aPmdo8O1Vhjb9F0EtSwn/zlfU694CsiIh2rVdf1fIaa5zVxe7D53Nm29xs1D8HjUFOdVgSPIPhg0noj5nCmrPk4/m2qV128oztuBhxVxNRhyI+nDr/1a0T77UZTcEvc/wpnmy0xo3vint1l84ZwwW1iAfySorOIKvxlYwJnAEdtmzeMTOU0VBH3MVxUKhnYOZZIfOCdcX1a1aOnatp6xFcTfiPkyExfRNDzdVeQDuYnvC8SEEFv+VM3mTLN7cyCjps43YgRgmTXr0Jby2erQzZceOocnsaHrONPXPfrPYEk/XEv9bGE4WEJHTE5gdlbw/VjUm+OxzrjR2G5A6ySmrK7XIibajUXM/cF3A89Ga9/+J5o5/MAl40yoGnaYjHBsrwPnTIGYZuVMYppdJHClNVs07TCgXat4dBlcIia1vx71C0DZsWhaENOXPvaPYTExaVEKsrFRAclM8CNPMp51PyCAz5WZ8FAygW2vmRMxraojS3b8umYOT64oSEqc/A9wJiCbLzPZ/xzEVJE/NVzZm9txmwiAnGL86X7M5kwUrEVMLBMFt63MgyoyP/L8YFH+F0F8iYvTQdT/Dc60WGb6UUHEJCmx3w1TQwO5Hcwy7w0u4kwSsXVCP2pyfYDpE26zotXK3i8kJuvactXaf4QzLRoBVz+JA5QcI4DYpPN5CS2jtcHC+7FAZlplebXlekMuS23yjIOWMEHdG8jjKF9Tfd3nFJRFP4NS+H+AmPADl3yb80XIvqIX7QrZun3V1DLameLJIs6UbfhUboJGrskdLGiS7Dfb5k2y3NlizN8B/XTTOOz1X+FM84nJIV6EPMiRYOTcGSH4zcESzuTjkass22yy1YrTK1GMFRq/jWg/5kt6mkxTC4kvz6vJxIRof6li4VlztPo9UUWkdoPzK8d5iptAkUpSgDsfgl6ZDMjf9im4fVEh/bBEk39V/5W8LsiZ3PosWNIn+AL8+PH/AaHc5uS7lZEiAAAAAElFTkSuQmCC)\n"
      ]
    },
    {
      "cell_type": "markdown",
      "metadata": {
        "collapsed": false,
        "id": "0ghfN_PRrcJp"
      },
      "source": [
        "### 1.2) 도보 기준 네트워크 중심성 및 이동시간에 따른 영역 시각화\n",
        "----\n",
        "\n",
        "걸어서 10분 이내의 위치 시각화를 위한 네트워크 설계"
      ]
    },
    {
      "cell_type": "code",
      "execution_count": null,
      "metadata": {
        "id": "2soIZvbqrcJq"
      },
      "outputs": [],
      "source": [
        "hwy_colors = {'footway': 'skyblue', ## 차도 옆 보도\n",
        "              'residential': 'red', ## 주택가\n",
        "              'living street': 'green', ## 생활가\n",
        "              'secondary': 'grey',\n",
        "              'pedestrian': 'orange'} ## 보행자 도로"
      ]
    },
    {
      "cell_type": "markdown",
      "metadata": {
        "id": "_U0kEYwc2tgE"
      },
      "source": [
        "## 2) 메서드"
      ]
    },
    {
      "cell_type": "markdown",
      "metadata": {
        "id": "H_1DobQBKnFo"
      },
      "source": [
        "###2.1) 후보지의 거리 네트워크 엣지를 탐색 메서드"
      ]
    },
    {
      "cell_type": "code",
      "execution_count": null,
      "metadata": {
        "id": "Wmdh3iivrcJq"
      },
      "outputs": [],
      "source": [
        "# 엣지를 탐색\n",
        "def find_edges(G, hwys):\n",
        "    edges = []\n",
        "    for u, v, k, data in G.edges(keys=True, data='highway'):\n",
        "        check1 = isinstance(data, str) and data not in hwys\n",
        "        check2 = isinstance(data, list) and all([d not in hwys for d in data])\n",
        "        if check1 or check2:\n",
        "            edges.append((u, v, k))\n",
        "    return set(edges)"
      ]
    },
    {
      "cell_type": "markdown",
      "metadata": {
        "id": "7QK1tzNTKxYp"
      },
      "source": [
        "### 2.2) 후보지의 거리 네트워크를 시각화 메서드"
      ]
    },
    {
      "cell_type": "code",
      "execution_count": null,
      "metadata": {
        "id": "lfOCjC3KrcJr"
      },
      "outputs": [],
      "source": [
        "def drawing(G,hwy):\n",
        "    G_tmp = G.copy()\n",
        "    G_tmp.remove_edges_from(G.edges - find_edges(G, hwy_colors.keys()))\n",
        "    m = ox.plot_graph_folium(G_tmp, popup_attribute='highway', weight=2, color='black')\n",
        "\n",
        "    for hwy, color in hwy_colors.items():\n",
        "        G_tmp = G.copy()\n",
        "        G_tmp.remove_edges_from(find_edges(G_tmp, [hwy]))\n",
        "        if G_tmp.edges:\n",
        "            m = ox.plot_graph_folium(G_tmp,\n",
        "                                     graph_map=m,\n",
        "                                     popup_attribute='highway',\n",
        "                                     weight=2,\n",
        "                                     color=color)\n",
        "    return m"
      ]
    },
    {
      "cell_type": "markdown",
      "metadata": {
        "collapsed": false,
        "id": "v68iMHusrcJr"
      },
      "source": [
        "### 2.3) 후보지의 거리네트워크 중심성 파악 메서드\n",
        "------\n",
        "사용한 centrality 알고리즘\n",
        "\n",
        "closeness_centrality : 동시에 가장 짧은 시간에 도달 가능한 위치 파악에 적합\n",
        "\n"
      ]
    },
    {
      "cell_type": "code",
      "execution_count": null,
      "metadata": {
        "id": "Uh9jja27rcJr"
      },
      "outputs": [],
      "source": [
        "def center(G):\n",
        "    edge_centrality = nx.closeness_centrality(nx.line_graph(G)) ##closeness centrality 사용 이유 동시에 가장 짧은 시간에 도달 가능한 위치 파악.\n",
        "    nx.set_edge_attributes(G, edge_centrality, \"edge_centrality\")\n",
        "    ec = ox.plot.get_edge_colors_by_attr(G, \"edge_centrality\", cmap=\"inferno\")\n",
        "    fig, ax = ox.plot_graph(G, edge_color=ec, edge_linewidth=2, node_size=0)\n",
        "    return  fig,ax"
      ]
    },
    {
      "cell_type": "markdown",
      "metadata": {
        "collapsed": false,
        "id": "HB6l1WbqrcJs"
      },
      "source": [
        "### 2.4) 이동시간에 따른 영역 시각화 메서드\n",
        "-----\n",
        "\n",
        "- 노란색 : 5분 이내\n",
        "- 주황생 : 10분 이내"
      ]
    },
    {
      "cell_type": "code",
      "execution_count": null,
      "metadata": {
        "id": "ETyiS-uBrcJt"
      },
      "outputs": [],
      "source": [
        "def find_ten_min(G,x,y):\n",
        "\n",
        "    network_type = \"walk\"\n",
        "    trip_times = [5, 10, 15, 20, 25, 30]  # 분 단위의 여행시간, 5분거리내\n",
        "    travel_speed = 3.5  # 걷는 속도 (km/hour)\n",
        "\n",
        "    gdf_nodes = ox.graph_to_gdfs(G, edges=False)\n",
        "    # x, y = gdf_nodes[\"geometry\"].unary_union.centroid.xy # 지도 중심점 좌표\n",
        "    #  [35.23876594878238, 129.21575390899562] # 기장읍 행정복지 센터\n",
        "    center_node = ox.distance.nearest_nodes(G, x, y)\n",
        "    G = ox.project_graph(G)\n",
        "    meters_per_minute = travel_speed * 1000 / 60\n",
        "\n",
        "    #고도 데이터가 아직 없기때문에 주석처리 해놓겠습니다.\n",
        "    #Slope_way = 3.5 + 0.1 * meters_per_minute + 1.8 * meters_per_minute * data[경사도] # 경사가 있는 길의 산소 호흡량(칼로리 소모량)\n",
        "    #Flat_way = 3.5 + 0.1 * meters_per_minute # 경사가 없는 평지의 산소 호흡량(칼로리 소모량)\n",
        "    #Diff_Percentage_Slope_and_Flat_Way = Slope_way / Flat_way # 경사로와 평지의 칼로리 차이를 퍼센트로 나타냄\n",
        "\n",
        "    for _, _, _, data in G.edges(data=True, keys=True):\n",
        "        #data[\"time\"] = data[\"length\"] * Diff_Percentage_Slope_and_Flat_Way / meters_per_minute # 칼로리 퍼센트를 곱해줌으로써 이동거리에 경사로를 대입\n",
        "\n",
        "        data[\"time\"] = data[\"length\"] / meters_per_minute\n",
        "        iso_colors = ox.plot.get_colors(n=len(trip_times), cmap=\"plasma\", start=0, return_hex=True)\n",
        "        # 등시성에 따라 노드에 색칠\n",
        "    node_colors = {}\n",
        "    for trip_time, color in zip(sorted(trip_times, reverse=True), iso_colors):\n",
        "        subgraph = nx.ego_graph(G, center_node, radius=trip_time, distance=\"time\")\n",
        "        for node in subgraph.nodes():\n",
        "            node_colors[node] = color\n",
        "    nc = [node_colors[node] if node in node_colors else \"none\" for node in G.nodes()]\n",
        "    ns = [15 if node in node_colors else 0 for node in G.nodes()]\n",
        "    fig, ax = ox.plot_graph(\n",
        "        G,\n",
        "        node_color=nc,\n",
        "        node_size=ns,\n",
        "        node_alpha=0.8,\n",
        "        edge_linewidth=0.2,\n",
        "        edge_color=\"#999999\",\n",
        "    )\n",
        "    return plt.show()"
      ]
    },
    {
      "cell_type": "markdown",
      "metadata": {
        "collapsed": false,
        "id": "u9ASSdg3rcJy"
      },
      "source": [
        "##3) 후보지 주소,좌표 및 네트워크 타입 설정"
      ]
    },
    {
      "cell_type": "code",
      "execution_count": null,
      "metadata": {
        "id": "s8WcseLqrcJ0"
      },
      "outputs": [],
      "source": [
        "\n",
        "kizang_pos= [35.23876594878238, 129.21575390899562] ## 기장읍 사무소\n",
        "Jeonggwan_pos = [35.3231, 129.1784] # 정관읍 윗골공원\n",
        "Noksan_pos= [35.08562495305441, 128.87931646088754]\n",
        "Myungji_pos = [35.10820208025592, 128.9264932285998]\n",
        "network_type = \"walk\" # 걷기"
      ]
    },
    {
      "cell_type": "code",
      "execution_count": null,
      "metadata": {
        "id": "3Q-oiz1YrcJ1"
      },
      "outputs": [],
      "source": [
        "kizang = \"기장읍, 기장군, 부산, 대한민국\"\n",
        "Jeonggwan = \"정관읍, 기장군, 부산, 대한민국\"\n",
        "Noksan = \"녹산동, 강서구, 부산, 대한민국\"\n",
        "Myungji = \"명지동, 강서구,부산, 대한민국\""
      ]
    },
    {
      "cell_type": "markdown",
      "metadata": {
        "collapsed": false,
        "id": "ZRBjMF1QrcJ1"
      },
      "source": [
        "## 4) 후보지 네트워크 생성"
      ]
    },
    {
      "cell_type": "code",
      "execution_count": null,
      "metadata": {
        "id": "48eZfdjCrcJ2"
      },
      "outputs": [],
      "source": [
        "G_kizang  = ox.graph_from_place(kizang,network_type=network_type)\n",
        "G_Jeonggwan  = ox.graph_from_place(Jeonggwan,network_type=network_type)\n",
        "G_Noksan  = ox.graph_from_place(Noksan,network_type=network_type)\n",
        "G_Myungji  = ox.graph_from_place(Myungji,network_type=network_type)"
      ]
    },
    {
      "cell_type": "markdown",
      "metadata": {
        "id": "zVa7_JlpOhWf"
      },
      "source": [
        "# [3] 시니어 센터가 필요한 입지 분석 결과"
      ]
    },
    {
      "cell_type": "markdown",
      "metadata": {
        "collapsed": false,
        "id": "vLJDTqtsrcJ3"
      },
      "source": [
        "## 1) 부산 기장군 기장읍"
      ]
    },
    {
      "cell_type": "markdown",
      "metadata": {
        "id": "R5OjqqDzOtbN"
      },
      "source": [
        "### 1.1) 기장읍 도보기준 네트워크"
      ]
    },
    {
      "cell_type": "code",
      "execution_count": null,
      "metadata": {
        "id": "GqTEi05GrcJ3"
      },
      "outputs": [],
      "source": [
        "fig, ax = ox.plot_graph(G_kizang)"
      ]
    },
    {
      "cell_type": "markdown",
      "metadata": {
        "id": "nAaYfK6jOzEl"
      },
      "source": [
        "### 1.2) 기장읍 주거지 중심성 시각화"
      ]
    },
    {
      "cell_type": "code",
      "execution_count": null,
      "metadata": {
        "id": "RYCaMjWarcJ5"
      },
      "outputs": [],
      "source": [
        "fig,ax = center(G_kizang)"
      ]
    },
    {
      "cell_type": "markdown",
      "metadata": {
        "id": "Cb9QxcbgO2RD"
      },
      "source": [
        "### 1.3) 기장읍 주거지 중심 이동거리에 따른 영역"
      ]
    },
    {
      "cell_type": "code",
      "execution_count": null,
      "metadata": {
        "id": "blDnUsYLrcJ5"
      },
      "outputs": [],
      "source": [
        "find_ten_min(G_kizang,kizang_pos[1],kizang_pos[0])"
      ]
    },
    {
      "cell_type": "markdown",
      "metadata": {
        "id": "Ct-GneQ2PH5E"
      },
      "source": [
        "## 2) 부산 기장군 정관읍"
      ]
    },
    {
      "cell_type": "markdown",
      "metadata": {
        "collapsed": false,
        "id": "Z3EH2az8rcJ6"
      },
      "source": [
        "### 2.1) 정관읍 도보기준 네트워크"
      ]
    },
    {
      "cell_type": "code",
      "execution_count": null,
      "metadata": {
        "id": "T9ZYwuBercJ6"
      },
      "outputs": [],
      "source": [
        "fig2, ax2 = ox.plot_graph(G_Jeonggwan)"
      ]
    },
    {
      "cell_type": "markdown",
      "metadata": {
        "id": "LVEUoPtDPNlp"
      },
      "source": [
        "###2.2) 정관읍 주거지 중심성 시각화"
      ]
    },
    {
      "cell_type": "code",
      "execution_count": null,
      "metadata": {
        "id": "WNbxaUHDrcJ7"
      },
      "outputs": [],
      "source": [
        "fig.ax = center(G_Jeonggwan)"
      ]
    },
    {
      "cell_type": "markdown",
      "metadata": {
        "id": "RQXxJxMuPR2T"
      },
      "source": [
        "###2.3) 정관읍 주거지 중심 이동거리에 따른 영역 시각화"
      ]
    },
    {
      "cell_type": "code",
      "execution_count": null,
      "metadata": {
        "id": "Jih0JwDZrcJ8"
      },
      "outputs": [],
      "source": [
        "find_ten_min(G_Jeonggwan,Jeonggwan_pos[1],Jeonggwan_pos[0])"
      ]
    },
    {
      "cell_type": "markdown",
      "metadata": {
        "collapsed": false,
        "id": "av6TI5OCrcJ9"
      },
      "source": [
        "\n",
        "## 3. 부산 강서구 녹산동"
      ]
    },
    {
      "cell_type": "markdown",
      "metadata": {
        "id": "cJTRqb51PZGI"
      },
      "source": [
        "### 3.1) 녹산동 도보기준 네트워크"
      ]
    },
    {
      "cell_type": "code",
      "execution_count": null,
      "metadata": {
        "id": "l3s-UAZtrcJ9"
      },
      "outputs": [],
      "source": [
        "fig3, ax3 = ox.plot_graph(G_Noksan)"
      ]
    },
    {
      "cell_type": "markdown",
      "metadata": {
        "id": "1ykvjF0wPyle"
      },
      "source": [
        "###3.2) 녹산동 주거지 중심성 시각화"
      ]
    },
    {
      "cell_type": "code",
      "execution_count": null,
      "metadata": {
        "id": "p8TX68rNrcJ-"
      },
      "outputs": [],
      "source": [
        "fig,ax = center(G_Noksan)"
      ]
    },
    {
      "cell_type": "markdown",
      "metadata": {
        "id": "P8vFxen5P7gN"
      },
      "source": [
        "### 3.3)녹산동 주거지 중심 이동거리에 따른 영역 시각화"
      ]
    },
    {
      "cell_type": "code",
      "execution_count": null,
      "metadata": {
        "id": "ZKmu5j6WrcJ-"
      },
      "outputs": [],
      "source": [
        "find_ten_min(G_Noksan,Noksan_pos[1],Noksan_pos[0])"
      ]
    },
    {
      "cell_type": "markdown",
      "metadata": {
        "collapsed": false,
        "id": "MU98nxNWrcJ_"
      },
      "source": [
        "## 4) 부산 강서구 명지1동"
      ]
    },
    {
      "cell_type": "markdown",
      "metadata": {
        "id": "qCkjFvgIQCn0"
      },
      "source": [
        "### 4.1) 명지1동 도보기준 네트워크"
      ]
    },
    {
      "cell_type": "code",
      "execution_count": null,
      "metadata": {
        "id": "_6PB3fR4rcJ_"
      },
      "outputs": [],
      "source": [
        "fig4, ax4 = ox.plot_graph(G_Myungji)"
      ]
    },
    {
      "cell_type": "markdown",
      "metadata": {
        "id": "4ZzO7cjjQFkb"
      },
      "source": [
        "###4.2) 명지1동 주거지 중심성 시각화"
      ]
    },
    {
      "cell_type": "code",
      "execution_count": null,
      "metadata": {
        "id": "_KYqUKX0rcKA"
      },
      "outputs": [],
      "source": [
        "fig,ax = center(G_Myungji)"
      ]
    },
    {
      "cell_type": "markdown",
      "metadata": {
        "id": "gmyWqcf6QI7n"
      },
      "source": [
        "###4.3) 명지1동 주거지 중심 이동거리에 따른 영역 시각화"
      ]
    },
    {
      "cell_type": "code",
      "execution_count": null,
      "metadata": {
        "id": "lvp3nFI4rcKB"
      },
      "outputs": [],
      "source": [
        "find_ten_min(G_Myungji,Myungji_pos[1],Myungji_pos[0])"
      ]
    }
  ],
  "metadata": {
    "colab": {
      "collapsed_sections": [],
      "name": "Busan_Senior_Center(BSC)의_시급한_개선을_위한_입지_분석_모델.ipynb",
      "provenance": []
    },
    "interpreter": {
      "hash": "84ec527f64500599947ef7549b537c8e602199a54bc9a7eea7e5d8b6765d8df4"
    },
    "kernelspec": {
      "display_name": "Python 3.8.3 ('base')",
      "language": "python",
      "name": "python3"
    },
    "language_info": {
      "codemirror_mode": {
        "name": "ipython",
        "version": 3
      },
      "file_extension": ".py",
      "mimetype": "text/x-python",
      "name": "python",
      "nbconvert_exporter": "python",
      "pygments_lexer": "ipython3",
      "version": "3.8.3"
    }
  },
  "nbformat": 4,
  "nbformat_minor": 0
}